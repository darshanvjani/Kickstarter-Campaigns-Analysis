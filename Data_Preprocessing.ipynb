{
  "cells": [
    {
      "cell_type": "markdown",
      "metadata": {
        "id": "view-in-github",
        "colab_type": "text"
      },
      "source": [
        "<a href=\"https://colab.research.google.com/github/darshanvjani/Kickstarter-Campaigns-Analysis/blob/main/Data_Preprocessing.ipynb\" target=\"_parent\"><img src=\"https://colab.research.google.com/assets/colab-badge.svg\" alt=\"Open In Colab\"/></a>"
      ]
    },
    {
      "cell_type": "code",
      "source": [
        "'''\n",
        "README\n",
        "\n",
        "In this notebook we are preprocessing the data.\n",
        "we are removing several redundent features, performing label and one hot encoding to encode categorical features and removing missing values from the dataset\n",
        "'''"
      ],
      "metadata": {
        "id": "sMOVE66UvmGb"
      },
      "execution_count": null,
      "outputs": []
    },
    {
      "cell_type": "code",
      "execution_count": null,
      "metadata": {
        "id": "Cb6UKCmBCm7n"
      },
      "outputs": [],
      "source": [
        "import warnings\n",
        "warnings.filterwarnings('ignore')\n",
        "import pandas as pd\n",
        "import numpy as np\n",
        "import matplotlib.pyplot as plt\n",
        "import seaborn as sns\n",
        "from sklearn.model_selection import train_test_split, GridSearchCV, cross_val_score\n",
        "from sklearn.feature_selection import SelectKBest, f_classif\n",
        "from sklearn.linear_model import LogisticRegression\n",
        "from sklearn.ensemble import RandomForestClassifier\n",
        "from sklearn.svm import SVC\n",
        "from sklearn.metrics import accuracy_score, classification_report, confusion_matrix\n",
        "from sklearn.preprocessing import StandardScaler,LabelEncoder,OneHotEncoder"
      ]
    },
    {
      "cell_type": "code",
      "execution_count": null,
      "metadata": {
        "id": "8Zq2aAJ2I7K2",
        "colab": {
          "base_uri": "https://localhost:8080/",
          "height": 716
        },
        "outputId": "3ecf302d-7f8f-42fb-bea3-7cee56d17e48"
      },
      "outputs": [
        {
          "output_type": "execute_result",
          "data": {
            "text/plain": [
              "   Unnamed: 0          id  \\\n",
              "0           0  1454391034   \n",
              "1           1  1655206086   \n",
              "2           2   311581827   \n",
              "3           3   859724515   \n",
              "4           4  1613604977   \n",
              "\n",
              "                                                                                                                                                                                                                                                                                                                                                                                                             photo  \\\n",
              "0  {\"small\":\"https://ksr-ugc.imgix.net/assets/011/959/953/4e53aa51f82e9764b135307761da1cde_original.JPG?w=160&h=90&fit=fill&bg=000000&v=1463719439&auto=format&q=92&s=3627b6fea72134d9025a9924fa9e8460\",\"thumb\":\"https://ksr-ugc.imgix.net/assets/011/959/953/4e53aa51f82e9764b135307761da1cde_original.JPG?w=40&h=22&fit=fill&bg=000000&v=1463719439&auto=format&q=92&s=8c32643c579101383e79078fe4e11246\",\"102...   \n",
              "1  {\"small\":\"https://ksr-ugc.imgix.net/assets/012/043/791/0b63de0aa160746c6f26a0eed0ae6828_original.JPG?w=160&h=90&fit=fill&bg=000000&v=1463726814&auto=format&q=92&s=570cfd2d2a2b20226859a32a01697d1e\",\"thumb\":\"https://ksr-ugc.imgix.net/assets/012/043/791/0b63de0aa160746c6f26a0eed0ae6828_original.JPG?w=40&h=22&fit=fill&bg=000000&v=1463726814&auto=format&q=92&s=5a6c140e388ec894df485b92be1f6a9b\",\"102...   \n",
              "2  {\"small\":\"https://ksr-ugc.imgix.net/assets/012/012/056/c566aeb9b51df01e8dd2828ce97d753f_original.bmp?w=160&h=90&fit=fill&bg=000000&v=1463723952&auto=format&q=92&s=613e2b48672a5bb73746399a4915a3be\",\"thumb\":\"https://ksr-ugc.imgix.net/assets/012/012/056/c566aeb9b51df01e8dd2828ce97d753f_original.bmp?w=40&h=22&fit=fill&bg=000000&v=1463723952&auto=format&q=92&s=c6dd0e0641c57343462dd1f1e94dc200\",\"102...   \n",
              "3  {\"small\":\"https://ksr-ugc.imgix.net/assets/011/860/879/620804a20f84c31d4f53a80313635842_original.jpeg?w=160&h=90&fit=fill&bg=000000&v=1463705583&auto=format&q=92&s=fe33869976b6e759ec0a9a8f352b0cd2\",\"thumb\":\"https://ksr-ugc.imgix.net/assets/011/860/879/620804a20f84c31d4f53a80313635842_original.jpeg?w=40&h=22&fit=fill&bg=000000&v=1463705583&auto=format&q=92&s=ea2bbacf253f80bfaa7b148abd2b3e2f\",\"1...   \n",
              "4  {\"small\":\"https://ksr-ugc.imgix.net/assets/012/521/917/305ee995fe695b1920f5e415f12faa15_original.gif?w=160&h=90&fit=fill&bg=FFFFFF&v=1464815065&auto=format&frame=1&q=92&s=5af0ce487cfc3bfd6f32bad1a26808af\",\"thumb\":\"https://ksr-ugc.imgix.net/assets/012/521/917/305ee995fe695b1920f5e415f12faa15_original.gif?w=40&h=22&fit=fill&bg=FFFFFF&v=1464815065&auto=format&frame=1&q=92&s=95d1096f71bd5c04ca504b...   \n",
              "\n",
              "                                                           name  \\\n",
              "0  Auntie Di's Music Time Sign ASL for Hearing and HOH Children   \n",
              "1                               Jump Start Kindergarten Toolkit   \n",
              "2      Ojukwu Balewa Awolowo (O.B.A.) Public Library Of Nigeria   \n",
              "3                 MASTIZE - [mas-TAHYZ, MAS-tahyz]  - to spread   \n",
              "4      Synopse der EU-DSGVO - Artikel, Erwägungsgründe, BDSG-§§   \n",
              "\n",
              "                                                                                                                                      blurb  \\\n",
              "0     MTS ASL Curriculum Workbook is a reproducible study book to build Early Literacy and Academic skills for primary school age children.   \n",
              "1         This kit teaches how to print, correct an ugly grasp, and how to make sure your child's fine motor skills are kindergarten ready!   \n",
              "2             Establishing a free, world-class, public library which will be a center  for curating and disseminating knowledge in Nigeria.   \n",
              "3  Goal: Introducing a new word into the English language/dictionary.\\nReason: The beauty of the English language is the freedom to create.   \n",
              "4   Zu den Artikeln der DSGVO sind die korrespondierenden Erwägungsgründe und die vergleichbaren Regelungen aus dem BDSG gegenüber gestellt   \n",
              "\n",
              "       goal  pledged   state  \\\n",
              "0    1500.0      0.0  failed   \n",
              "1     500.0      0.0  failed   \n",
              "2  100000.0    120.0  failed   \n",
              "3    5000.0      0.0  failed   \n",
              "4    3222.0    356.0  failed   \n",
              "\n",
              "                                                 slug  disable_communication  \\\n",
              "0  auntie-dis-music-time-sign-asl-for-hearing-and-hoh                  False   \n",
              "1                     jump-start-kindergarten-toolkit                  False   \n",
              "2  ojukwu-balewa-awolowo-oba-public-library-of-nigeri                  False   \n",
              "3               mastize-mas-tahyz-mas-tahyz-to-spread                  False   \n",
              "4   synopse-der-eu-dsgvo-artikel-erwagungsgrunde-bdsg                  False   \n",
              "\n",
              "   ...          launch_to_deadline      launch_to_state_change  \\\n",
              "0  ...  36 days 20:47:24.000000000  36 days 20:47:24.000000000   \n",
              "1  ...  60 days 00:00:00.000000000  60 days 00:00:02.000000000   \n",
              "2  ...  60 days 00:00:00.000000000  60 days 00:00:01.000000000   \n",
              "3  ...  30 days 00:00:00.000000000  30 days 00:00:00.000000000   \n",
              "4  ...  32 days 06:02:33.000000000  32 days 06:02:33.000000000   \n",
              "\n",
              "  create_to_launch_days  launch_to_deadline_days launch_to_state_change_days  \\\n",
              "0                    17                       36                          36   \n",
              "1                    10                       60                          60   \n",
              "2                     1                       60                          60   \n",
              "3                     0                       30                          30   \n",
              "4                     0                       32                          32   \n",
              "\n",
              "  SuccessfulBool USorGB TOPCOUNTRY  LaunchedTuesday  DeadlineWeekend  \n",
              "0              0      1          1                0                0  \n",
              "1              0      1          1                0                0  \n",
              "2              0      1          1                0                0  \n",
              "3              0      1          1                0                0  \n",
              "4              0      0          0                0                0  \n",
              "\n",
              "[5 rows x 68 columns]"
            ],
            "text/html": [
              "\n",
              "  <div id=\"df-0a58d4c2-e1bf-46b7-81a4-353d6ac9054f\">\n",
              "    <div class=\"colab-df-container\">\n",
              "      <div>\n",
              "<style scoped>\n",
              "    .dataframe tbody tr th:only-of-type {\n",
              "        vertical-align: middle;\n",
              "    }\n",
              "\n",
              "    .dataframe tbody tr th {\n",
              "        vertical-align: top;\n",
              "    }\n",
              "\n",
              "    .dataframe thead th {\n",
              "        text-align: right;\n",
              "    }\n",
              "</style>\n",
              "<table border=\"1\" class=\"dataframe\">\n",
              "  <thead>\n",
              "    <tr style=\"text-align: right;\">\n",
              "      <th></th>\n",
              "      <th>Unnamed: 0</th>\n",
              "      <th>id</th>\n",
              "      <th>photo</th>\n",
              "      <th>name</th>\n",
              "      <th>blurb</th>\n",
              "      <th>goal</th>\n",
              "      <th>pledged</th>\n",
              "      <th>state</th>\n",
              "      <th>slug</th>\n",
              "      <th>disable_communication</th>\n",
              "      <th>...</th>\n",
              "      <th>launch_to_deadline</th>\n",
              "      <th>launch_to_state_change</th>\n",
              "      <th>create_to_launch_days</th>\n",
              "      <th>launch_to_deadline_days</th>\n",
              "      <th>launch_to_state_change_days</th>\n",
              "      <th>SuccessfulBool</th>\n",
              "      <th>USorGB</th>\n",
              "      <th>TOPCOUNTRY</th>\n",
              "      <th>LaunchedTuesday</th>\n",
              "      <th>DeadlineWeekend</th>\n",
              "    </tr>\n",
              "  </thead>\n",
              "  <tbody>\n",
              "    <tr>\n",
              "      <th>0</th>\n",
              "      <td>0</td>\n",
              "      <td>1454391034</td>\n",
              "      <td>{\"small\":\"https://ksr-ugc.imgix.net/assets/011/959/953/4e53aa51f82e9764b135307761da1cde_original.JPG?w=160&amp;h=90&amp;fit=fill&amp;bg=000000&amp;v=1463719439&amp;auto=format&amp;q=92&amp;s=3627b6fea72134d9025a9924fa9e8460\",\"thumb\":\"https://ksr-ugc.imgix.net/assets/011/959/953/4e53aa51f82e9764b135307761da1cde_original.JPG?w=40&amp;h=22&amp;fit=fill&amp;bg=000000&amp;v=1463719439&amp;auto=format&amp;q=92&amp;s=8c32643c579101383e79078fe4e11246\",\"102...</td>\n",
              "      <td>Auntie Di's Music Time Sign ASL for Hearing and HOH Children</td>\n",
              "      <td>MTS ASL Curriculum Workbook is a reproducible study book to build Early Literacy and Academic skills for primary school age children.</td>\n",
              "      <td>1500.0</td>\n",
              "      <td>0.0</td>\n",
              "      <td>failed</td>\n",
              "      <td>auntie-dis-music-time-sign-asl-for-hearing-and-hoh</td>\n",
              "      <td>False</td>\n",
              "      <td>...</td>\n",
              "      <td>36 days 20:47:24.000000000</td>\n",
              "      <td>36 days 20:47:24.000000000</td>\n",
              "      <td>17</td>\n",
              "      <td>36</td>\n",
              "      <td>36</td>\n",
              "      <td>0</td>\n",
              "      <td>1</td>\n",
              "      <td>1</td>\n",
              "      <td>0</td>\n",
              "      <td>0</td>\n",
              "    </tr>\n",
              "    <tr>\n",
              "      <th>1</th>\n",
              "      <td>1</td>\n",
              "      <td>1655206086</td>\n",
              "      <td>{\"small\":\"https://ksr-ugc.imgix.net/assets/012/043/791/0b63de0aa160746c6f26a0eed0ae6828_original.JPG?w=160&amp;h=90&amp;fit=fill&amp;bg=000000&amp;v=1463726814&amp;auto=format&amp;q=92&amp;s=570cfd2d2a2b20226859a32a01697d1e\",\"thumb\":\"https://ksr-ugc.imgix.net/assets/012/043/791/0b63de0aa160746c6f26a0eed0ae6828_original.JPG?w=40&amp;h=22&amp;fit=fill&amp;bg=000000&amp;v=1463726814&amp;auto=format&amp;q=92&amp;s=5a6c140e388ec894df485b92be1f6a9b\",\"102...</td>\n",
              "      <td>Jump Start Kindergarten Toolkit</td>\n",
              "      <td>This kit teaches how to print, correct an ugly grasp, and how to make sure your child's fine motor skills are kindergarten ready!</td>\n",
              "      <td>500.0</td>\n",
              "      <td>0.0</td>\n",
              "      <td>failed</td>\n",
              "      <td>jump-start-kindergarten-toolkit</td>\n",
              "      <td>False</td>\n",
              "      <td>...</td>\n",
              "      <td>60 days 00:00:00.000000000</td>\n",
              "      <td>60 days 00:00:02.000000000</td>\n",
              "      <td>10</td>\n",
              "      <td>60</td>\n",
              "      <td>60</td>\n",
              "      <td>0</td>\n",
              "      <td>1</td>\n",
              "      <td>1</td>\n",
              "      <td>0</td>\n",
              "      <td>0</td>\n",
              "    </tr>\n",
              "    <tr>\n",
              "      <th>2</th>\n",
              "      <td>2</td>\n",
              "      <td>311581827</td>\n",
              "      <td>{\"small\":\"https://ksr-ugc.imgix.net/assets/012/012/056/c566aeb9b51df01e8dd2828ce97d753f_original.bmp?w=160&amp;h=90&amp;fit=fill&amp;bg=000000&amp;v=1463723952&amp;auto=format&amp;q=92&amp;s=613e2b48672a5bb73746399a4915a3be\",\"thumb\":\"https://ksr-ugc.imgix.net/assets/012/012/056/c566aeb9b51df01e8dd2828ce97d753f_original.bmp?w=40&amp;h=22&amp;fit=fill&amp;bg=000000&amp;v=1463723952&amp;auto=format&amp;q=92&amp;s=c6dd0e0641c57343462dd1f1e94dc200\",\"102...</td>\n",
              "      <td>Ojukwu Balewa Awolowo (O.B.A.) Public Library Of Nigeria</td>\n",
              "      <td>Establishing a free, world-class, public library which will be a center  for curating and disseminating knowledge in Nigeria.</td>\n",
              "      <td>100000.0</td>\n",
              "      <td>120.0</td>\n",
              "      <td>failed</td>\n",
              "      <td>ojukwu-balewa-awolowo-oba-public-library-of-nigeri</td>\n",
              "      <td>False</td>\n",
              "      <td>...</td>\n",
              "      <td>60 days 00:00:00.000000000</td>\n",
              "      <td>60 days 00:00:01.000000000</td>\n",
              "      <td>1</td>\n",
              "      <td>60</td>\n",
              "      <td>60</td>\n",
              "      <td>0</td>\n",
              "      <td>1</td>\n",
              "      <td>1</td>\n",
              "      <td>0</td>\n",
              "      <td>0</td>\n",
              "    </tr>\n",
              "    <tr>\n",
              "      <th>3</th>\n",
              "      <td>3</td>\n",
              "      <td>859724515</td>\n",
              "      <td>{\"small\":\"https://ksr-ugc.imgix.net/assets/011/860/879/620804a20f84c31d4f53a80313635842_original.jpeg?w=160&amp;h=90&amp;fit=fill&amp;bg=000000&amp;v=1463705583&amp;auto=format&amp;q=92&amp;s=fe33869976b6e759ec0a9a8f352b0cd2\",\"thumb\":\"https://ksr-ugc.imgix.net/assets/011/860/879/620804a20f84c31d4f53a80313635842_original.jpeg?w=40&amp;h=22&amp;fit=fill&amp;bg=000000&amp;v=1463705583&amp;auto=format&amp;q=92&amp;s=ea2bbacf253f80bfaa7b148abd2b3e2f\",\"1...</td>\n",
              "      <td>MASTIZE - [mas-TAHYZ, MAS-tahyz]  - to spread</td>\n",
              "      <td>Goal: Introducing a new word into the English language/dictionary.\\nReason: The beauty of the English language is the freedom to create.</td>\n",
              "      <td>5000.0</td>\n",
              "      <td>0.0</td>\n",
              "      <td>failed</td>\n",
              "      <td>mastize-mas-tahyz-mas-tahyz-to-spread</td>\n",
              "      <td>False</td>\n",
              "      <td>...</td>\n",
              "      <td>30 days 00:00:00.000000000</td>\n",
              "      <td>30 days 00:00:00.000000000</td>\n",
              "      <td>0</td>\n",
              "      <td>30</td>\n",
              "      <td>30</td>\n",
              "      <td>0</td>\n",
              "      <td>1</td>\n",
              "      <td>1</td>\n",
              "      <td>0</td>\n",
              "      <td>0</td>\n",
              "    </tr>\n",
              "    <tr>\n",
              "      <th>4</th>\n",
              "      <td>4</td>\n",
              "      <td>1613604977</td>\n",
              "      <td>{\"small\":\"https://ksr-ugc.imgix.net/assets/012/521/917/305ee995fe695b1920f5e415f12faa15_original.gif?w=160&amp;h=90&amp;fit=fill&amp;bg=FFFFFF&amp;v=1464815065&amp;auto=format&amp;frame=1&amp;q=92&amp;s=5af0ce487cfc3bfd6f32bad1a26808af\",\"thumb\":\"https://ksr-ugc.imgix.net/assets/012/521/917/305ee995fe695b1920f5e415f12faa15_original.gif?w=40&amp;h=22&amp;fit=fill&amp;bg=FFFFFF&amp;v=1464815065&amp;auto=format&amp;frame=1&amp;q=92&amp;s=95d1096f71bd5c04ca504b...</td>\n",
              "      <td>Synopse der EU-DSGVO - Artikel, Erwägungsgründe, BDSG-§§</td>\n",
              "      <td>Zu den Artikeln der DSGVO sind die korrespondierenden Erwägungsgründe und die vergleichbaren Regelungen aus dem BDSG gegenüber gestellt</td>\n",
              "      <td>3222.0</td>\n",
              "      <td>356.0</td>\n",
              "      <td>failed</td>\n",
              "      <td>synopse-der-eu-dsgvo-artikel-erwagungsgrunde-bdsg</td>\n",
              "      <td>False</td>\n",
              "      <td>...</td>\n",
              "      <td>32 days 06:02:33.000000000</td>\n",
              "      <td>32 days 06:02:33.000000000</td>\n",
              "      <td>0</td>\n",
              "      <td>32</td>\n",
              "      <td>32</td>\n",
              "      <td>0</td>\n",
              "      <td>0</td>\n",
              "      <td>0</td>\n",
              "      <td>0</td>\n",
              "      <td>0</td>\n",
              "    </tr>\n",
              "  </tbody>\n",
              "</table>\n",
              "<p>5 rows × 68 columns</p>\n",
              "</div>\n",
              "      <button class=\"colab-df-convert\" onclick=\"convertToInteractive('df-0a58d4c2-e1bf-46b7-81a4-353d6ac9054f')\"\n",
              "              title=\"Convert this dataframe to an interactive table.\"\n",
              "              style=\"display:none;\">\n",
              "        \n",
              "  <svg xmlns=\"http://www.w3.org/2000/svg\" height=\"24px\"viewBox=\"0 0 24 24\"\n",
              "       width=\"24px\">\n",
              "    <path d=\"M0 0h24v24H0V0z\" fill=\"none\"/>\n",
              "    <path d=\"M18.56 5.44l.94 2.06.94-2.06 2.06-.94-2.06-.94-.94-2.06-.94 2.06-2.06.94zm-11 1L8.5 8.5l.94-2.06 2.06-.94-2.06-.94L8.5 2.5l-.94 2.06-2.06.94zm10 10l.94 2.06.94-2.06 2.06-.94-2.06-.94-.94-2.06-.94 2.06-2.06.94z\"/><path d=\"M17.41 7.96l-1.37-1.37c-.4-.4-.92-.59-1.43-.59-.52 0-1.04.2-1.43.59L10.3 9.45l-7.72 7.72c-.78.78-.78 2.05 0 2.83L4 21.41c.39.39.9.59 1.41.59.51 0 1.02-.2 1.41-.59l7.78-7.78 2.81-2.81c.8-.78.8-2.07 0-2.86zM5.41 20L4 18.59l7.72-7.72 1.47 1.35L5.41 20z\"/>\n",
              "  </svg>\n",
              "      </button>\n",
              "      \n",
              "  <style>\n",
              "    .colab-df-container {\n",
              "      display:flex;\n",
              "      flex-wrap:wrap;\n",
              "      gap: 12px;\n",
              "    }\n",
              "\n",
              "    .colab-df-convert {\n",
              "      background-color: #E8F0FE;\n",
              "      border: none;\n",
              "      border-radius: 50%;\n",
              "      cursor: pointer;\n",
              "      display: none;\n",
              "      fill: #1967D2;\n",
              "      height: 32px;\n",
              "      padding: 0 0 0 0;\n",
              "      width: 32px;\n",
              "    }\n",
              "\n",
              "    .colab-df-convert:hover {\n",
              "      background-color: #E2EBFA;\n",
              "      box-shadow: 0px 1px 2px rgba(60, 64, 67, 0.3), 0px 1px 3px 1px rgba(60, 64, 67, 0.15);\n",
              "      fill: #174EA6;\n",
              "    }\n",
              "\n",
              "    [theme=dark] .colab-df-convert {\n",
              "      background-color: #3B4455;\n",
              "      fill: #D2E3FC;\n",
              "    }\n",
              "\n",
              "    [theme=dark] .colab-df-convert:hover {\n",
              "      background-color: #434B5C;\n",
              "      box-shadow: 0px 1px 3px 1px rgba(0, 0, 0, 0.15);\n",
              "      filter: drop-shadow(0px 1px 2px rgba(0, 0, 0, 0.3));\n",
              "      fill: #FFFFFF;\n",
              "    }\n",
              "  </style>\n",
              "\n",
              "      <script>\n",
              "        const buttonEl =\n",
              "          document.querySelector('#df-0a58d4c2-e1bf-46b7-81a4-353d6ac9054f button.colab-df-convert');\n",
              "        buttonEl.style.display =\n",
              "          google.colab.kernel.accessAllowed ? 'block' : 'none';\n",
              "\n",
              "        async function convertToInteractive(key) {\n",
              "          const element = document.querySelector('#df-0a58d4c2-e1bf-46b7-81a4-353d6ac9054f');\n",
              "          const dataTable =\n",
              "            await google.colab.kernel.invokeFunction('convertToInteractive',\n",
              "                                                     [key], {});\n",
              "          if (!dataTable) return;\n",
              "\n",
              "          const docLinkHtml = 'Like what you see? Visit the ' +\n",
              "            '<a target=\"_blank\" href=https://colab.research.google.com/notebooks/data_table.ipynb>data table notebook</a>'\n",
              "            + ' to learn more about interactive tables.';\n",
              "          element.innerHTML = '';\n",
              "          dataTable['output_type'] = 'display_data';\n",
              "          await google.colab.output.renderOutput(dataTable, element);\n",
              "          const docLink = document.createElement('div');\n",
              "          docLink.innerHTML = docLinkHtml;\n",
              "          element.appendChild(docLink);\n",
              "        }\n",
              "      </script>\n",
              "    </div>\n",
              "  </div>\n",
              "  "
            ]
          },
          "metadata": {},
          "execution_count": 45
        }
      ],
      "source": [
        "full = pd.read_csv('/content/drive/MyDrive/257/ML Project/kickstarter_data_full.csv')\n",
        "full.head()"
      ]
    },
    {
      "cell_type": "code",
      "source": [
        "# col = [x for x in rm_column_encoded.columns]\n",
        "# col.pop()\n",
        "# col.pop()\n",
        "# col.pop()\n",
        "# col.pop()"
      ],
      "metadata": {
        "id": "IZmlcKfZSpyr"
      },
      "execution_count": null,
      "outputs": []
    },
    {
      "cell_type": "code",
      "source": [
        "# col"
      ],
      "metadata": {
        "id": "8csya-srTDYq"
      },
      "execution_count": null,
      "outputs": []
    },
    {
      "cell_type": "code",
      "execution_count": null,
      "metadata": {
        "id": "EC8m0auYvnj4"
      },
      "outputs": [],
      "source": [
        "# full[col].isna().sum()"
      ]
    },
    {
      "cell_type": "code",
      "source": [
        "# pd.set_option('max_colwidth', 400)\n",
        "# pd.set_option('max_rows', 99999)"
      ],
      "metadata": {
        "id": "9d2hjiS5R0M-"
      },
      "execution_count": null,
      "outputs": []
    },
    {
      "cell_type": "code",
      "source": [
        "full.isna().sum()"
      ],
      "metadata": {
        "colab": {
          "base_uri": "https://localhost:8080/"
        },
        "id": "Xbr1hgGFRxLo",
        "outputId": "d7a9a697-a29e-48e1-e059-fc0e7fcfebf3"
      },
      "execution_count": null,
      "outputs": [
        {
          "output_type": "execute_result",
          "data": {
            "text/plain": [
              "Unnamed: 0         0\n",
              "id                 0\n",
              "photo              0\n",
              "name               0\n",
              "blurb              5\n",
              "                  ..\n",
              "SuccessfulBool     0\n",
              "USorGB             0\n",
              "TOPCOUNTRY         0\n",
              "LaunchedTuesday    0\n",
              "DeadlineWeekend    0\n",
              "Length: 68, dtype: int64"
            ]
          },
          "metadata": {},
          "execution_count": 50
        }
      ]
    },
    {
      "cell_type": "markdown",
      "metadata": {
        "id": "xpn9lyJB0w-E"
      },
      "source": [
        "We have 68 featues for our multiclass classification model. We need to reduce this features."
      ]
    },
    {
      "cell_type": "code",
      "execution_count": null,
      "metadata": {
        "id": "fyMD8X8TI9_U"
      },
      "outputs": [],
      "source": [
        "#this are the features we dont need\n",
        "full_1 = full.drop(['Unnamed: 0', 'id', 'photo', 'friends', 'is_starred', 'is_backing', 'permissions'], axis=1)"
      ]
    },
    {
      "cell_type": "markdown",
      "metadata": {
        "id": "ddq9tew91AYq"
      },
      "source": [
        "After this we will be using our priminary feature analysis and convert all the categorical features into numerical using label and one-hot-encoding"
      ]
    },
    {
      "cell_type": "code",
      "execution_count": null,
      "metadata": {
        "id": "uxveoVekJSMZ"
      },
      "outputs": [],
      "source": [
        "full_1['currency_trailing_code_b'] = pd.get_dummies(full_1['currency_trailing_code'],drop_first=True)"
      ]
    },
    {
      "cell_type": "code",
      "source": [
        "full_1['state'].value_counts()"
      ],
      "metadata": {
        "colab": {
          "base_uri": "https://localhost:8080/"
        },
        "id": "kIwS62qj5oeI",
        "outputId": "972f1972-975a-4429-9a5b-1e58f9f91514"
      },
      "execution_count": null,
      "outputs": [
        {
          "output_type": "execute_result",
          "data": {
            "text/plain": [
              "failed        11416\n",
              "successful     6018\n",
              "canceled       2460\n",
              "live            508\n",
              "suspended       230\n",
              "Name: state, dtype: int64"
            ]
          },
          "metadata": {},
          "execution_count": 53
        }
      ]
    },
    {
      "cell_type": "code",
      "execution_count": null,
      "metadata": {
        "colab": {
          "base_uri": "https://localhost:8080/"
        },
        "id": "cxLsIhfxJzP9",
        "outputId": "7052fb42-ca20-47e1-c2c7-984f3066053d"
      },
      "outputs": [
        {
          "output_type": "execute_result",
          "data": {
            "text/plain": [
              "1    11416\n",
              "3     6018\n",
              "0     2460\n",
              "2      508\n",
              "4      230\n",
              "Name: state, dtype: int64"
            ]
          },
          "metadata": {},
          "execution_count": 54
        }
      ],
      "source": [
        "lb = LabelEncoder()\n",
        "full_1['state'] = lb.fit_transform(full_1['state'])\n",
        "full_1['state'].value_counts()"
      ]
    },
    {
      "cell_type": "code",
      "execution_count": null,
      "metadata": {
        "id": "yoX1RAQtNNpd"
      },
      "outputs": [],
      "source": [
        "full_1['disable_communication_b'] = pd.get_dummies(full_1['disable_communication'],drop_first=True)"
      ]
    },
    {
      "cell_type": "code",
      "execution_count": null,
      "metadata": {
        "colab": {
          "base_uri": "https://localhost:8080/"
        },
        "id": "p7I1T0UYNVKL",
        "outputId": "6b8f5795-dd56-4273-923b-67a3d7c1200c"
      },
      "outputs": [
        {
          "output_type": "execute_result",
          "data": {
            "text/plain": [
              "US    14141\n",
              "GB     2498\n",
              "CA     1098\n",
              "AU      674\n",
              "DE      377\n",
              "NL      322\n",
              "FR      312\n",
              "IT      244\n",
              "ES      168\n",
              "DK      123\n",
              "NZ      111\n",
              "SE       96\n",
              "CH       94\n",
              "IE       79\n",
              "NO       64\n",
              "AT       63\n",
              "MX       55\n",
              "BE       51\n",
              "HK       35\n",
              "SG       25\n",
              "LU        2\n",
              "Name: country, dtype: int64"
            ]
          },
          "metadata": {},
          "execution_count": 56
        }
      ],
      "source": [
        "full_1['country'].value_counts()"
      ]
    },
    {
      "cell_type": "code",
      "execution_count": null,
      "metadata": {
        "colab": {
          "base_uri": "https://localhost:8080/"
        },
        "id": "lhnHIynZocJP",
        "outputId": "199ed525-0d9d-47b1-d1b8-7fc3aa40f5ef"
      },
      "outputs": [
        {
          "output_type": "execute_result",
          "data": {
            "text/plain": [
              "20    14141\n",
              "9      2498\n",
              "3      1098\n",
              "1       674\n",
              "5       377\n",
              "15      322\n",
              "8       312\n",
              "12      244\n",
              "7       168\n",
              "6       123\n",
              "17      111\n",
              "18       96\n",
              "4        94\n",
              "11       79\n",
              "16       64\n",
              "0        63\n",
              "14       55\n",
              "2        51\n",
              "10       35\n",
              "19       25\n",
              "13        2\n",
              "Name: country, dtype: int64"
            ]
          },
          "metadata": {},
          "execution_count": 57
        }
      ],
      "source": [
        "full_1['country'] = lb.fit_transform(full_1['country'])\n",
        "full_1['country'].value_counts()"
      ]
    },
    {
      "cell_type": "code",
      "execution_count": null,
      "metadata": {
        "colab": {
          "base_uri": "https://localhost:8080/"
        },
        "id": "x_m9xAERofHE",
        "outputId": "12dc5dff-2a2d-401a-8663-c0ee3d45812d"
      },
      "outputs": [
        {
          "output_type": "execute_result",
          "data": {
            "text/plain": [
              "12    14141\n",
              "5      2498\n",
              "4      1618\n",
              "1      1098\n",
              "0       674\n",
              "3       123\n",
              "9       111\n",
              "10       96\n",
              "2        94\n",
              "8        64\n",
              "7        55\n",
              "6        35\n",
              "11       25\n",
              "Name: currency, dtype: int64"
            ]
          },
          "metadata": {},
          "execution_count": 58
        }
      ],
      "source": [
        "full_1['currency'] = lb.fit_transform(full_1['currency'])\n",
        "full_1['currency'].value_counts()"
      ]
    },
    {
      "cell_type": "code",
      "execution_count": null,
      "metadata": {
        "colab": {
          "base_uri": "https://localhost:8080/"
        },
        "id": "onBA7aiUojk1",
        "outputId": "8284716b-5dbc-419f-bc9e-7d5a8424ab10"
      },
      "outputs": [
        {
          "output_type": "execute_result",
          "data": {
            "text/plain": [
              "0    16139\n",
              "3     2498\n",
              "4     1618\n",
              "2      283\n",
              "1       94\n",
              "Name: currency_symbol, dtype: int64"
            ]
          },
          "metadata": {},
          "execution_count": 59
        }
      ],
      "source": [
        "full_1['currency_symbol'] = lb.fit_transform(full_1['currency_symbol'])\n",
        "full_1['currency_symbol'].value_counts()"
      ]
    },
    {
      "cell_type": "code",
      "execution_count": null,
      "metadata": {
        "id": "LKHeOStPon2s"
      },
      "outputs": [],
      "source": [
        "full_1['currency_trailing_code_b'] = pd.get_dummies(full_1['currency_trailing_code'],drop_first=True)"
      ]
    },
    {
      "cell_type": "code",
      "execution_count": null,
      "metadata": {
        "id": "IcGquxJVosu0"
      },
      "outputs": [],
      "source": [
        "full_1['staff_pick_b'] = pd.get_dummies(full_1['staff_pick'],drop_first=True)"
      ]
    },
    {
      "cell_type": "code",
      "execution_count": null,
      "metadata": {
        "colab": {
          "base_uri": "https://localhost:8080/"
        },
        "id": "A5sU1DOtsMMg",
        "outputId": "75395c75-274d-45b7-8861-07ea16eb114d"
      },
      "outputs": [
        {
          "output_type": "execute_result",
          "data": {
            "text/plain": [
              "Web             3325\n",
              "Hardware        3248\n",
              "Software        2631\n",
              "Gadgets         2336\n",
              "Plays           1184\n",
              "Apps            1168\n",
              "Wearables        971\n",
              "Musical          791\n",
              "Sound            528\n",
              "Festivals        482\n",
              "Robots           473\n",
              "Flight           373\n",
              "Experimental     321\n",
              "Immersive        277\n",
              "Makerspaces      203\n",
              "Spaces           182\n",
              "Places           100\n",
              "Shorts            40\n",
              "Thrillers         20\n",
              "Webseries         20\n",
              "Restaurants       20\n",
              "Blues             20\n",
              "Academic          20\n",
              "Comedy            10\n",
              "Name: category, dtype: int64"
            ]
          },
          "metadata": {},
          "execution_count": 62
        }
      ],
      "source": [
        "full_1['category'].value_counts()"
      ]
    },
    {
      "cell_type": "code",
      "execution_count": null,
      "metadata": {
        "colab": {
          "base_uri": "https://localhost:8080/"
        },
        "id": "9zE5bLZJpGmv",
        "outputId": "69c80df4-babc-4580-aa77-3b69d7de0918"
      },
      "outputs": [
        {
          "output_type": "execute_result",
          "data": {
            "text/plain": [
              "22    3325\n",
              "8     3248\n",
              "17    2631\n",
              "7     2336\n",
              "24    1889\n",
              "13    1184\n",
              "1     1168\n",
              "21     971\n",
              "11     791\n",
              "18     528\n",
              "5      482\n",
              "15     473\n",
              "6      373\n",
              "4      321\n",
              "9      277\n",
              "10     203\n",
              "19     182\n",
              "12     100\n",
              "16      40\n",
              "20      20\n",
              "23      20\n",
              "14      20\n",
              "2       20\n",
              "0       20\n",
              "3       10\n",
              "Name: category, dtype: int64"
            ]
          },
          "metadata": {},
          "execution_count": 63
        }
      ],
      "source": [
        "full_1['category'] = lb.fit_transform(full_1['category'])\n",
        "full_1['category'].value_counts()"
      ]
    },
    {
      "cell_type": "code",
      "execution_count": null,
      "metadata": {
        "id": "XoP7bQUWpdhx"
      },
      "outputs": [],
      "source": [
        "full_1['spotlight_b'] = pd.get_dummies(full_1['spotlight'],drop_first=True)"
      ]
    },
    {
      "cell_type": "code",
      "execution_count": null,
      "metadata": {
        "colab": {
          "base_uri": "https://localhost:8080/"
        },
        "id": "UU4VLJHEpusf",
        "outputId": "ea14dc3b-48e0-4580-f5b0-623bd87a25e4"
      },
      "outputs": [
        {
          "output_type": "execute_result",
          "data": {
            "text/plain": [
              "0    3764\n",
              "4    3444\n",
              "6    3202\n",
              "3    3041\n",
              "2    2984\n",
              "1    2221\n",
              "5    1976\n",
              "Name: deadline_weekday, dtype: int64"
            ]
          },
          "metadata": {},
          "execution_count": 65
        }
      ],
      "source": [
        "full_1['deadline_weekday'] = lb.fit_transform(full_1['deadline_weekday'])\n",
        "full_1['deadline_weekday'].value_counts()"
      ]
    },
    {
      "cell_type": "code",
      "execution_count": null,
      "metadata": {
        "colab": {
          "base_uri": "https://localhost:8080/"
        },
        "id": "7DnFg6uMqG9c",
        "outputId": "ebe70f6a-d445-4ae6-8ef9-bab6b77a586b"
      },
      "outputs": [
        {
          "output_type": "execute_result",
          "data": {
            "text/plain": [
              "0    3651\n",
              "4    3439\n",
              "6    3264\n",
              "3    2836\n",
              "2    2806\n",
              "1    2398\n",
              "5    2238\n",
              "Name: state_changed_at_weekday, dtype: int64"
            ]
          },
          "metadata": {},
          "execution_count": 66
        }
      ],
      "source": [
        "full_1['state_changed_at_weekday'] = lb.fit_transform(full_1['state_changed_at_weekday'])\n",
        "full_1['state_changed_at_weekday'].value_counts()"
      ]
    },
    {
      "cell_type": "code",
      "execution_count": null,
      "metadata": {
        "colab": {
          "base_uri": "https://localhost:8080/"
        },
        "id": "1iMblkoOqMjO",
        "outputId": "7ba0349c-4e6b-4604-f696-45bb825321c7"
      },
      "outputs": [
        {
          "output_type": "execute_result",
          "data": {
            "text/plain": [
              "5    3612\n",
              "1    3474\n",
              "6    3325\n",
              "4    3155\n",
              "0    2699\n",
              "3    2277\n",
              "2    2090\n",
              "Name: created_at_weekday, dtype: int64"
            ]
          },
          "metadata": {},
          "execution_count": 67
        }
      ],
      "source": [
        "full_1['created_at_weekday'] = lb.fit_transform(full_1['created_at_weekday'])\n",
        "full_1['created_at_weekday'].value_counts()"
      ]
    },
    {
      "cell_type": "code",
      "execution_count": null,
      "metadata": {
        "colab": {
          "base_uri": "https://localhost:8080/"
        },
        "id": "I3-JEDnFqR9t",
        "outputId": "ee92ca41-2eeb-4cb9-a334-f60722af53b0"
      },
      "outputs": [
        {
          "output_type": "execute_result",
          "data": {
            "text/plain": [
              "5    4645\n",
              "1    4200\n",
              "6    3741\n",
              "4    3094\n",
              "0    2818\n",
              "2    1075\n",
              "3    1059\n",
              "Name: launched_at_weekday, dtype: int64"
            ]
          },
          "metadata": {},
          "execution_count": 68
        }
      ],
      "source": [
        "full_1['launched_at_weekday'] = lb.fit_transform(full_1['launched_at_weekday'])\n",
        "full_1['launched_at_weekday'].value_counts()"
      ]
    },
    {
      "cell_type": "code",
      "execution_count": null,
      "metadata": {
        "id": "hAyqVe2A1Uib"
      },
      "outputs": [],
      "source": [
        "# def fun(x):\n",
        "#   return x.split()[0]\n",
        "\n",
        "# full_1['create_to_launch_days'] = full_1['create_to_launch'].apply(fun)"
      ]
    },
    {
      "cell_type": "code",
      "execution_count": null,
      "metadata": {
        "colab": {
          "base_uri": "https://localhost:8080/"
        },
        "id": "vaCodRtgqCOm",
        "outputId": "aec71fe7-969d-41fa-880b-98ca22377ba9"
      },
      "outputs": [
        {
          "output_type": "execute_result",
          "data": {
            "text/plain": [
              "0    0\n",
              "1    0\n",
              "2    0\n",
              "3    0\n",
              "4    0\n",
              "Name: LaunchedTuesday, dtype: int64"
            ]
          },
          "metadata": {},
          "execution_count": 70
        }
      ],
      "source": [
        "full_1['LaunchedTuesday'].head()"
      ]
    },
    {
      "cell_type": "code",
      "execution_count": null,
      "metadata": {
        "id": "i6TFVwQf4zRU"
      },
      "outputs": [],
      "source": [
        "rm_column_encoded = full_1.drop(['name', 'blurb', 'slug', 'disable_communication' ,'currency_trailing_code', 'deadline', 'state_changed_at', 'created_at' , 'launched_at', 'staff_pick' , 'location', 'profile', 'urls', 'source_url', 'create_to_launch', 'launch_to_deadline' ,'launch_to_state_change'],axis=1)"
      ]
    },
    {
      "cell_type": "code",
      "execution_count": null,
      "metadata": {
        "id": "Cgd6myQMAZdb"
      },
      "outputs": [],
      "source": [
        "rm_column_encoded.drop(['spotlight'],axis=1,inplace=True)"
      ]
    },
    {
      "cell_type": "markdown",
      "metadata": {
        "id": "hiQyfjAf5y1T"
      },
      "source": [
        "removed all the redundent and unencoded features."
      ]
    },
    {
      "cell_type": "code",
      "execution_count": null,
      "metadata": {
        "colab": {
          "base_uri": "https://localhost:8080/"
        },
        "id": "nde4ZmN76HCe",
        "outputId": "b7397006-cf38-462c-e3cd-c0ad66351501"
      },
      "outputs": [
        {
          "output_type": "execute_result",
          "data": {
            "text/plain": [
              "(20632, 47)"
            ]
          },
          "metadata": {},
          "execution_count": 73
        }
      ],
      "source": [
        "rm_column_encoded.shape"
      ]
    },
    {
      "cell_type": "code",
      "execution_count": null,
      "metadata": {
        "colab": {
          "base_uri": "https://localhost:8080/"
        },
        "id": "jdz2knrw6Jgv",
        "outputId": "586bbdc3-f66a-415a-ab8f-5db82aa0675f"
      },
      "outputs": [
        {
          "output_type": "execute_result",
          "data": {
            "text/plain": [
              "Index(['goal', 'pledged', 'state', 'country', 'currency', 'currency_symbol',\n",
              "       'backers_count', 'static_usd_rate', 'usd_pledged', 'creator',\n",
              "       'category', 'name_len', 'name_len_clean', 'blurb_len',\n",
              "       'blurb_len_clean', 'deadline_weekday', 'state_changed_at_weekday',\n",
              "       'created_at_weekday', 'launched_at_weekday', 'deadline_month',\n",
              "       'deadline_day', 'deadline_yr', 'deadline_hr', 'state_changed_at_month',\n",
              "       'state_changed_at_day', 'state_changed_at_yr', 'state_changed_at_hr',\n",
              "       'created_at_month', 'created_at_day', 'created_at_yr', 'created_at_hr',\n",
              "       'launched_at_month', 'launched_at_day', 'launched_at_yr',\n",
              "       'launched_at_hr', 'create_to_launch_days', 'launch_to_deadline_days',\n",
              "       'launch_to_state_change_days', 'SuccessfulBool', 'USorGB', 'TOPCOUNTRY',\n",
              "       'LaunchedTuesday', 'DeadlineWeekend', 'currency_trailing_code_b',\n",
              "       'disable_communication_b', 'staff_pick_b', 'spotlight_b'],\n",
              "      dtype='object')"
            ]
          },
          "metadata": {},
          "execution_count": 74
        }
      ],
      "source": [
        "rm_column_encoded.columns"
      ]
    },
    {
      "cell_type": "code",
      "source": [
        "rm_column_encoded.shape"
      ],
      "metadata": {
        "colab": {
          "base_uri": "https://localhost:8080/"
        },
        "id": "LV7UjeDRRQL6",
        "outputId": "a42fe921-637c-4b2c-f46a-8b2b4a0d812f"
      },
      "execution_count": null,
      "outputs": [
        {
          "output_type": "execute_result",
          "data": {
            "text/plain": [
              "(20632, 47)"
            ]
          },
          "metadata": {},
          "execution_count": 75
        }
      ]
    },
    {
      "cell_type": "code",
      "execution_count": null,
      "metadata": {
        "id": "yGN-BP669RSK"
      },
      "outputs": [],
      "source": [
        "rm_column_encoded.dropna(inplace=True)"
      ]
    },
    {
      "cell_type": "code",
      "execution_count": null,
      "metadata": {
        "id": "P2vJz0CaBnpB",
        "colab": {
          "base_uri": "https://localhost:8080/"
        },
        "outputId": "63828fd5-539d-46fe-c3a0-62ece72c2564"
      },
      "outputs": [
        {
          "output_type": "execute_result",
          "data": {
            "text/plain": [
              "(20627, 47)"
            ]
          },
          "metadata": {},
          "execution_count": 77
        }
      ],
      "source": [
        "rm_column_encoded.shape"
      ]
    },
    {
      "cell_type": "code",
      "execution_count": null,
      "metadata": {
        "id": "3Ab6wy-l8UVP"
      },
      "outputs": [],
      "source": [
        "rm_column_encoded.to_csv('rm_column_encoded_2.csv')\n",
        "#finally taking those 46 feature dataset and downloading it back to csv"
      ]
    }
  ],
  "metadata": {
    "colab": {
      "provenance": [],
      "mount_file_id": "1HmWncF3YHxJu2arqP4HsYO-WzogApST0",
      "authorship_tag": "ABX9TyMAB8VCFYblB7CHAOcU6X9j",
      "include_colab_link": true
    },
    "kernelspec": {
      "display_name": "Python 3",
      "name": "python3"
    },
    "language_info": {
      "name": "python"
    }
  },
  "nbformat": 4,
  "nbformat_minor": 0
}