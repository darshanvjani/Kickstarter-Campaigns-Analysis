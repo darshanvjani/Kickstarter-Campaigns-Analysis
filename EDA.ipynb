{
  "nbformat": 4,
  "nbformat_minor": 0,
  "metadata": {
    "colab": {
      "provenance": [],
      "mount_file_id": "1w3-im7_z5qz57gGAb8zjWzX2OrtieZg9",
      "authorship_tag": "ABX9TyNeR7RpXvH6gMOHpHHRR652",
      "include_colab_link": true
    },
    "kernelspec": {
      "name": "python3",
      "display_name": "Python 3"
    },
    "language_info": {
      "name": "python"
    },
    "widgets": {
      "application/vnd.jupyter.widget-state+json": {
        "bbfa4c01699b460095dcf825638b256d": {
          "model_module": "@jupyter-widgets/controls",
          "model_name": "HBoxModel",
          "model_module_version": "1.5.0",
          "state": {
            "_dom_classes": [],
            "_model_module": "@jupyter-widgets/controls",
            "_model_module_version": "1.5.0",
            "_model_name": "HBoxModel",
            "_view_count": null,
            "_view_module": "@jupyter-widgets/controls",
            "_view_module_version": "1.5.0",
            "_view_name": "HBoxView",
            "box_style": "",
            "children": [
              "IPY_MODEL_c7d581549a7a49878dfd32bdc9d8db23",
              "IPY_MODEL_79b9d9cb1d4648ec9144f2312366020b",
              "IPY_MODEL_8c618d24f6a4406d8f4b49aa780a511c"
            ],
            "layout": "IPY_MODEL_42b7167bfc9e4050b1ca671a0b4a2684"
          }
        },
        "c7d581549a7a49878dfd32bdc9d8db23": {
          "model_module": "@jupyter-widgets/controls",
          "model_name": "HTMLModel",
          "model_module_version": "1.5.0",
          "state": {
            "_dom_classes": [],
            "_model_module": "@jupyter-widgets/controls",
            "_model_module_version": "1.5.0",
            "_model_name": "HTMLModel",
            "_view_count": null,
            "_view_module": "@jupyter-widgets/controls",
            "_view_module_version": "1.5.0",
            "_view_name": "HTMLView",
            "description": "",
            "description_tooltip": null,
            "layout": "IPY_MODEL_0a0a2a5ff61f4846b918f2b6cc43c94e",
            "placeholder": "​",
            "style": "IPY_MODEL_1989c69b357a4b239cdfd546f7162e40",
            "value": "Summarize dataset: 100%"
          }
        },
        "79b9d9cb1d4648ec9144f2312366020b": {
          "model_module": "@jupyter-widgets/controls",
          "model_name": "FloatProgressModel",
          "model_module_version": "1.5.0",
          "state": {
            "_dom_classes": [],
            "_model_module": "@jupyter-widgets/controls",
            "_model_module_version": "1.5.0",
            "_model_name": "FloatProgressModel",
            "_view_count": null,
            "_view_module": "@jupyter-widgets/controls",
            "_view_module_version": "1.5.0",
            "_view_name": "ProgressView",
            "bar_style": "success",
            "description": "",
            "description_tooltip": null,
            "layout": "IPY_MODEL_051c1e6f8d85419d8b1ca6eb22750274",
            "max": 5,
            "min": 0,
            "orientation": "horizontal",
            "style": "IPY_MODEL_3676b2b9549f4cf790707b54aa2ade9e",
            "value": 5
          }
        },
        "8c618d24f6a4406d8f4b49aa780a511c": {
          "model_module": "@jupyter-widgets/controls",
          "model_name": "HTMLModel",
          "model_module_version": "1.5.0",
          "state": {
            "_dom_classes": [],
            "_model_module": "@jupyter-widgets/controls",
            "_model_module_version": "1.5.0",
            "_model_name": "HTMLModel",
            "_view_count": null,
            "_view_module": "@jupyter-widgets/controls",
            "_view_module_version": "1.5.0",
            "_view_name": "HTMLView",
            "description": "",
            "description_tooltip": null,
            "layout": "IPY_MODEL_65f7fb06c4224bac959ce97ab5b345df",
            "placeholder": "​",
            "style": "IPY_MODEL_2cf7eea6be7f4ffb91d8367813913abe",
            "value": " 798/798 [04:16&lt;00:00,  2.51it/s, Completed]"
          }
        },
        "42b7167bfc9e4050b1ca671a0b4a2684": {
          "model_module": "@jupyter-widgets/base",
          "model_name": "LayoutModel",
          "model_module_version": "1.2.0",
          "state": {
            "_model_module": "@jupyter-widgets/base",
            "_model_module_version": "1.2.0",
            "_model_name": "LayoutModel",
            "_view_count": null,
            "_view_module": "@jupyter-widgets/base",
            "_view_module_version": "1.2.0",
            "_view_name": "LayoutView",
            "align_content": null,
            "align_items": null,
            "align_self": null,
            "border": null,
            "bottom": null,
            "display": null,
            "flex": null,
            "flex_flow": null,
            "grid_area": null,
            "grid_auto_columns": null,
            "grid_auto_flow": null,
            "grid_auto_rows": null,
            "grid_column": null,
            "grid_gap": null,
            "grid_row": null,
            "grid_template_areas": null,
            "grid_template_columns": null,
            "grid_template_rows": null,
            "height": null,
            "justify_content": null,
            "justify_items": null,
            "left": null,
            "margin": null,
            "max_height": null,
            "max_width": null,
            "min_height": null,
            "min_width": null,
            "object_fit": null,
            "object_position": null,
            "order": null,
            "overflow": null,
            "overflow_x": null,
            "overflow_y": null,
            "padding": null,
            "right": null,
            "top": null,
            "visibility": null,
            "width": null
          }
        },
        "0a0a2a5ff61f4846b918f2b6cc43c94e": {
          "model_module": "@jupyter-widgets/base",
          "model_name": "LayoutModel",
          "model_module_version": "1.2.0",
          "state": {
            "_model_module": "@jupyter-widgets/base",
            "_model_module_version": "1.2.0",
            "_model_name": "LayoutModel",
            "_view_count": null,
            "_view_module": "@jupyter-widgets/base",
            "_view_module_version": "1.2.0",
            "_view_name": "LayoutView",
            "align_content": null,
            "align_items": null,
            "align_self": null,
            "border": null,
            "bottom": null,
            "display": null,
            "flex": null,
            "flex_flow": null,
            "grid_area": null,
            "grid_auto_columns": null,
            "grid_auto_flow": null,
            "grid_auto_rows": null,
            "grid_column": null,
            "grid_gap": null,
            "grid_row": null,
            "grid_template_areas": null,
            "grid_template_columns": null,
            "grid_template_rows": null,
            "height": null,
            "justify_content": null,
            "justify_items": null,
            "left": null,
            "margin": null,
            "max_height": null,
            "max_width": null,
            "min_height": null,
            "min_width": null,
            "object_fit": null,
            "object_position": null,
            "order": null,
            "overflow": null,
            "overflow_x": null,
            "overflow_y": null,
            "padding": null,
            "right": null,
            "top": null,
            "visibility": null,
            "width": null
          }
        },
        "1989c69b357a4b239cdfd546f7162e40": {
          "model_module": "@jupyter-widgets/controls",
          "model_name": "DescriptionStyleModel",
          "model_module_version": "1.5.0",
          "state": {
            "_model_module": "@jupyter-widgets/controls",
            "_model_module_version": "1.5.0",
            "_model_name": "DescriptionStyleModel",
            "_view_count": null,
            "_view_module": "@jupyter-widgets/base",
            "_view_module_version": "1.2.0",
            "_view_name": "StyleView",
            "description_width": ""
          }
        },
        "051c1e6f8d85419d8b1ca6eb22750274": {
          "model_module": "@jupyter-widgets/base",
          "model_name": "LayoutModel",
          "model_module_version": "1.2.0",
          "state": {
            "_model_module": "@jupyter-widgets/base",
            "_model_module_version": "1.2.0",
            "_model_name": "LayoutModel",
            "_view_count": null,
            "_view_module": "@jupyter-widgets/base",
            "_view_module_version": "1.2.0",
            "_view_name": "LayoutView",
            "align_content": null,
            "align_items": null,
            "align_self": null,
            "border": null,
            "bottom": null,
            "display": null,
            "flex": null,
            "flex_flow": null,
            "grid_area": null,
            "grid_auto_columns": null,
            "grid_auto_flow": null,
            "grid_auto_rows": null,
            "grid_column": null,
            "grid_gap": null,
            "grid_row": null,
            "grid_template_areas": null,
            "grid_template_columns": null,
            "grid_template_rows": null,
            "height": null,
            "justify_content": null,
            "justify_items": null,
            "left": null,
            "margin": null,
            "max_height": null,
            "max_width": null,
            "min_height": null,
            "min_width": null,
            "object_fit": null,
            "object_position": null,
            "order": null,
            "overflow": null,
            "overflow_x": null,
            "overflow_y": null,
            "padding": null,
            "right": null,
            "top": null,
            "visibility": null,
            "width": null
          }
        },
        "3676b2b9549f4cf790707b54aa2ade9e": {
          "model_module": "@jupyter-widgets/controls",
          "model_name": "ProgressStyleModel",
          "model_module_version": "1.5.0",
          "state": {
            "_model_module": "@jupyter-widgets/controls",
            "_model_module_version": "1.5.0",
            "_model_name": "ProgressStyleModel",
            "_view_count": null,
            "_view_module": "@jupyter-widgets/base",
            "_view_module_version": "1.2.0",
            "_view_name": "StyleView",
            "bar_color": null,
            "description_width": ""
          }
        },
        "65f7fb06c4224bac959ce97ab5b345df": {
          "model_module": "@jupyter-widgets/base",
          "model_name": "LayoutModel",
          "model_module_version": "1.2.0",
          "state": {
            "_model_module": "@jupyter-widgets/base",
            "_model_module_version": "1.2.0",
            "_model_name": "LayoutModel",
            "_view_count": null,
            "_view_module": "@jupyter-widgets/base",
            "_view_module_version": "1.2.0",
            "_view_name": "LayoutView",
            "align_content": null,
            "align_items": null,
            "align_self": null,
            "border": null,
            "bottom": null,
            "display": null,
            "flex": null,
            "flex_flow": null,
            "grid_area": null,
            "grid_auto_columns": null,
            "grid_auto_flow": null,
            "grid_auto_rows": null,
            "grid_column": null,
            "grid_gap": null,
            "grid_row": null,
            "grid_template_areas": null,
            "grid_template_columns": null,
            "grid_template_rows": null,
            "height": null,
            "justify_content": null,
            "justify_items": null,
            "left": null,
            "margin": null,
            "max_height": null,
            "max_width": null,
            "min_height": null,
            "min_width": null,
            "object_fit": null,
            "object_position": null,
            "order": null,
            "overflow": null,
            "overflow_x": null,
            "overflow_y": null,
            "padding": null,
            "right": null,
            "top": null,
            "visibility": null,
            "width": null
          }
        },
        "2cf7eea6be7f4ffb91d8367813913abe": {
          "model_module": "@jupyter-widgets/controls",
          "model_name": "DescriptionStyleModel",
          "model_module_version": "1.5.0",
          "state": {
            "_model_module": "@jupyter-widgets/controls",
            "_model_module_version": "1.5.0",
            "_model_name": "DescriptionStyleModel",
            "_view_count": null,
            "_view_module": "@jupyter-widgets/base",
            "_view_module_version": "1.2.0",
            "_view_name": "StyleView",
            "description_width": ""
          }
        },
        "b20da537824546efa6c256510a1b333c": {
          "model_module": "@jupyter-widgets/controls",
          "model_name": "HBoxModel",
          "model_module_version": "1.5.0",
          "state": {
            "_dom_classes": [],
            "_model_module": "@jupyter-widgets/controls",
            "_model_module_version": "1.5.0",
            "_model_name": "HBoxModel",
            "_view_count": null,
            "_view_module": "@jupyter-widgets/controls",
            "_view_module_version": "1.5.0",
            "_view_name": "HBoxView",
            "box_style": "",
            "children": [
              "IPY_MODEL_e2e40d1da901407c8fbed5b3e9438a50",
              "IPY_MODEL_5b252257aba34bdd81c6f93989728723",
              "IPY_MODEL_1d5dec3867324686a3779b1f7d962365"
            ],
            "layout": "IPY_MODEL_eba9efb06a91496e9a892f7b9b639111"
          }
        },
        "e2e40d1da901407c8fbed5b3e9438a50": {
          "model_module": "@jupyter-widgets/controls",
          "model_name": "HTMLModel",
          "model_module_version": "1.5.0",
          "state": {
            "_dom_classes": [],
            "_model_module": "@jupyter-widgets/controls",
            "_model_module_version": "1.5.0",
            "_model_name": "HTMLModel",
            "_view_count": null,
            "_view_module": "@jupyter-widgets/controls",
            "_view_module_version": "1.5.0",
            "_view_name": "HTMLView",
            "description": "",
            "description_tooltip": null,
            "layout": "IPY_MODEL_bf5799e1214e4a968133f7286938a681",
            "placeholder": "​",
            "style": "IPY_MODEL_ad72fb15122a4525bc933e2843e795d0",
            "value": "Generate report structure: 100%"
          }
        },
        "5b252257aba34bdd81c6f93989728723": {
          "model_module": "@jupyter-widgets/controls",
          "model_name": "FloatProgressModel",
          "model_module_version": "1.5.0",
          "state": {
            "_dom_classes": [],
            "_model_module": "@jupyter-widgets/controls",
            "_model_module_version": "1.5.0",
            "_model_name": "FloatProgressModel",
            "_view_count": null,
            "_view_module": "@jupyter-widgets/controls",
            "_view_module_version": "1.5.0",
            "_view_name": "ProgressView",
            "bar_style": "success",
            "description": "",
            "description_tooltip": null,
            "layout": "IPY_MODEL_5dce5d1519d8489eb256617b33e921e7",
            "max": 1,
            "min": 0,
            "orientation": "horizontal",
            "style": "IPY_MODEL_bb045cb236834618a2748dd8fa5d865a",
            "value": 1
          }
        },
        "1d5dec3867324686a3779b1f7d962365": {
          "model_module": "@jupyter-widgets/controls",
          "model_name": "HTMLModel",
          "model_module_version": "1.5.0",
          "state": {
            "_dom_classes": [],
            "_model_module": "@jupyter-widgets/controls",
            "_model_module_version": "1.5.0",
            "_model_name": "HTMLModel",
            "_view_count": null,
            "_view_module": "@jupyter-widgets/controls",
            "_view_module_version": "1.5.0",
            "_view_name": "HTMLView",
            "description": "",
            "description_tooltip": null,
            "layout": "IPY_MODEL_f305d84a216f457d889491616255ff99",
            "placeholder": "​",
            "style": "IPY_MODEL_0b4be7421fb84d0cb0495ae99dfd2551",
            "value": " 1/1 [00:28&lt;00:00, 28.24s/it]"
          }
        },
        "eba9efb06a91496e9a892f7b9b639111": {
          "model_module": "@jupyter-widgets/base",
          "model_name": "LayoutModel",
          "model_module_version": "1.2.0",
          "state": {
            "_model_module": "@jupyter-widgets/base",
            "_model_module_version": "1.2.0",
            "_model_name": "LayoutModel",
            "_view_count": null,
            "_view_module": "@jupyter-widgets/base",
            "_view_module_version": "1.2.0",
            "_view_name": "LayoutView",
            "align_content": null,
            "align_items": null,
            "align_self": null,
            "border": null,
            "bottom": null,
            "display": null,
            "flex": null,
            "flex_flow": null,
            "grid_area": null,
            "grid_auto_columns": null,
            "grid_auto_flow": null,
            "grid_auto_rows": null,
            "grid_column": null,
            "grid_gap": null,
            "grid_row": null,
            "grid_template_areas": null,
            "grid_template_columns": null,
            "grid_template_rows": null,
            "height": null,
            "justify_content": null,
            "justify_items": null,
            "left": null,
            "margin": null,
            "max_height": null,
            "max_width": null,
            "min_height": null,
            "min_width": null,
            "object_fit": null,
            "object_position": null,
            "order": null,
            "overflow": null,
            "overflow_x": null,
            "overflow_y": null,
            "padding": null,
            "right": null,
            "top": null,
            "visibility": null,
            "width": null
          }
        },
        "bf5799e1214e4a968133f7286938a681": {
          "model_module": "@jupyter-widgets/base",
          "model_name": "LayoutModel",
          "model_module_version": "1.2.0",
          "state": {
            "_model_module": "@jupyter-widgets/base",
            "_model_module_version": "1.2.0",
            "_model_name": "LayoutModel",
            "_view_count": null,
            "_view_module": "@jupyter-widgets/base",
            "_view_module_version": "1.2.0",
            "_view_name": "LayoutView",
            "align_content": null,
            "align_items": null,
            "align_self": null,
            "border": null,
            "bottom": null,
            "display": null,
            "flex": null,
            "flex_flow": null,
            "grid_area": null,
            "grid_auto_columns": null,
            "grid_auto_flow": null,
            "grid_auto_rows": null,
            "grid_column": null,
            "grid_gap": null,
            "grid_row": null,
            "grid_template_areas": null,
            "grid_template_columns": null,
            "grid_template_rows": null,
            "height": null,
            "justify_content": null,
            "justify_items": null,
            "left": null,
            "margin": null,
            "max_height": null,
            "max_width": null,
            "min_height": null,
            "min_width": null,
            "object_fit": null,
            "object_position": null,
            "order": null,
            "overflow": null,
            "overflow_x": null,
            "overflow_y": null,
            "padding": null,
            "right": null,
            "top": null,
            "visibility": null,
            "width": null
          }
        },
        "ad72fb15122a4525bc933e2843e795d0": {
          "model_module": "@jupyter-widgets/controls",
          "model_name": "DescriptionStyleModel",
          "model_module_version": "1.5.0",
          "state": {
            "_model_module": "@jupyter-widgets/controls",
            "_model_module_version": "1.5.0",
            "_model_name": "DescriptionStyleModel",
            "_view_count": null,
            "_view_module": "@jupyter-widgets/base",
            "_view_module_version": "1.2.0",
            "_view_name": "StyleView",
            "description_width": ""
          }
        },
        "5dce5d1519d8489eb256617b33e921e7": {
          "model_module": "@jupyter-widgets/base",
          "model_name": "LayoutModel",
          "model_module_version": "1.2.0",
          "state": {
            "_model_module": "@jupyter-widgets/base",
            "_model_module_version": "1.2.0",
            "_model_name": "LayoutModel",
            "_view_count": null,
            "_view_module": "@jupyter-widgets/base",
            "_view_module_version": "1.2.0",
            "_view_name": "LayoutView",
            "align_content": null,
            "align_items": null,
            "align_self": null,
            "border": null,
            "bottom": null,
            "display": null,
            "flex": null,
            "flex_flow": null,
            "grid_area": null,
            "grid_auto_columns": null,
            "grid_auto_flow": null,
            "grid_auto_rows": null,
            "grid_column": null,
            "grid_gap": null,
            "grid_row": null,
            "grid_template_areas": null,
            "grid_template_columns": null,
            "grid_template_rows": null,
            "height": null,
            "justify_content": null,
            "justify_items": null,
            "left": null,
            "margin": null,
            "max_height": null,
            "max_width": null,
            "min_height": null,
            "min_width": null,
            "object_fit": null,
            "object_position": null,
            "order": null,
            "overflow": null,
            "overflow_x": null,
            "overflow_y": null,
            "padding": null,
            "right": null,
            "top": null,
            "visibility": null,
            "width": null
          }
        },
        "bb045cb236834618a2748dd8fa5d865a": {
          "model_module": "@jupyter-widgets/controls",
          "model_name": "ProgressStyleModel",
          "model_module_version": "1.5.0",
          "state": {
            "_model_module": "@jupyter-widgets/controls",
            "_model_module_version": "1.5.0",
            "_model_name": "ProgressStyleModel",
            "_view_count": null,
            "_view_module": "@jupyter-widgets/base",
            "_view_module_version": "1.2.0",
            "_view_name": "StyleView",
            "bar_color": null,
            "description_width": ""
          }
        },
        "f305d84a216f457d889491616255ff99": {
          "model_module": "@jupyter-widgets/base",
          "model_name": "LayoutModel",
          "model_module_version": "1.2.0",
          "state": {
            "_model_module": "@jupyter-widgets/base",
            "_model_module_version": "1.2.0",
            "_model_name": "LayoutModel",
            "_view_count": null,
            "_view_module": "@jupyter-widgets/base",
            "_view_module_version": "1.2.0",
            "_view_name": "LayoutView",
            "align_content": null,
            "align_items": null,
            "align_self": null,
            "border": null,
            "bottom": null,
            "display": null,
            "flex": null,
            "flex_flow": null,
            "grid_area": null,
            "grid_auto_columns": null,
            "grid_auto_flow": null,
            "grid_auto_rows": null,
            "grid_column": null,
            "grid_gap": null,
            "grid_row": null,
            "grid_template_areas": null,
            "grid_template_columns": null,
            "grid_template_rows": null,
            "height": null,
            "justify_content": null,
            "justify_items": null,
            "left": null,
            "margin": null,
            "max_height": null,
            "max_width": null,
            "min_height": null,
            "min_width": null,
            "object_fit": null,
            "object_position": null,
            "order": null,
            "overflow": null,
            "overflow_x": null,
            "overflow_y": null,
            "padding": null,
            "right": null,
            "top": null,
            "visibility": null,
            "width": null
          }
        },
        "0b4be7421fb84d0cb0495ae99dfd2551": {
          "model_module": "@jupyter-widgets/controls",
          "model_name": "DescriptionStyleModel",
          "model_module_version": "1.5.0",
          "state": {
            "_model_module": "@jupyter-widgets/controls",
            "_model_module_version": "1.5.0",
            "_model_name": "DescriptionStyleModel",
            "_view_count": null,
            "_view_module": "@jupyter-widgets/base",
            "_view_module_version": "1.2.0",
            "_view_name": "StyleView",
            "description_width": ""
          }
        },
        "a3288d2004e4434f910276eb565029d6": {
          "model_module": "@jupyter-widgets/controls",
          "model_name": "HBoxModel",
          "model_module_version": "1.5.0",
          "state": {
            "_dom_classes": [],
            "_model_module": "@jupyter-widgets/controls",
            "_model_module_version": "1.5.0",
            "_model_name": "HBoxModel",
            "_view_count": null,
            "_view_module": "@jupyter-widgets/controls",
            "_view_module_version": "1.5.0",
            "_view_name": "HBoxView",
            "box_style": "",
            "children": [
              "IPY_MODEL_cb2d92ed4e514278a692186fd6c6ab4f",
              "IPY_MODEL_c108c696a8fd4d4697b1718a941dd383",
              "IPY_MODEL_a2843b49d63f451ca8e8cbde36548b0e"
            ],
            "layout": "IPY_MODEL_fee9a43fcb9544219ff1a56df945c01b"
          }
        },
        "cb2d92ed4e514278a692186fd6c6ab4f": {
          "model_module": "@jupyter-widgets/controls",
          "model_name": "HTMLModel",
          "model_module_version": "1.5.0",
          "state": {
            "_dom_classes": [],
            "_model_module": "@jupyter-widgets/controls",
            "_model_module_version": "1.5.0",
            "_model_name": "HTMLModel",
            "_view_count": null,
            "_view_module": "@jupyter-widgets/controls",
            "_view_module_version": "1.5.0",
            "_view_name": "HTMLView",
            "description": "",
            "description_tooltip": null,
            "layout": "IPY_MODEL_8bd097007fee4fb295192866f3edadbd",
            "placeholder": "​",
            "style": "IPY_MODEL_4770d38a283b454588209332474872ff",
            "value": "Render HTML: 100%"
          }
        },
        "c108c696a8fd4d4697b1718a941dd383": {
          "model_module": "@jupyter-widgets/controls",
          "model_name": "FloatProgressModel",
          "model_module_version": "1.5.0",
          "state": {
            "_dom_classes": [],
            "_model_module": "@jupyter-widgets/controls",
            "_model_module_version": "1.5.0",
            "_model_name": "FloatProgressModel",
            "_view_count": null,
            "_view_module": "@jupyter-widgets/controls",
            "_view_module_version": "1.5.0",
            "_view_name": "ProgressView",
            "bar_style": "success",
            "description": "",
            "description_tooltip": null,
            "layout": "IPY_MODEL_b6361e1238a64e3bb534102947ad8c8a",
            "max": 1,
            "min": 0,
            "orientation": "horizontal",
            "style": "IPY_MODEL_d788489418b24e1cb5c8a369ddbda2f9",
            "value": 1
          }
        },
        "a2843b49d63f451ca8e8cbde36548b0e": {
          "model_module": "@jupyter-widgets/controls",
          "model_name": "HTMLModel",
          "model_module_version": "1.5.0",
          "state": {
            "_dom_classes": [],
            "_model_module": "@jupyter-widgets/controls",
            "_model_module_version": "1.5.0",
            "_model_name": "HTMLModel",
            "_view_count": null,
            "_view_module": "@jupyter-widgets/controls",
            "_view_module_version": "1.5.0",
            "_view_name": "HTMLView",
            "description": "",
            "description_tooltip": null,
            "layout": "IPY_MODEL_a79b3a4e42c840179c2bcdfae4e403ef",
            "placeholder": "​",
            "style": "IPY_MODEL_32f65ef1f1d146809f90b7f7e0f69349",
            "value": " 1/1 [00:28&lt;00:00, 28.70s/it]"
          }
        },
        "fee9a43fcb9544219ff1a56df945c01b": {
          "model_module": "@jupyter-widgets/base",
          "model_name": "LayoutModel",
          "model_module_version": "1.2.0",
          "state": {
            "_model_module": "@jupyter-widgets/base",
            "_model_module_version": "1.2.0",
            "_model_name": "LayoutModel",
            "_view_count": null,
            "_view_module": "@jupyter-widgets/base",
            "_view_module_version": "1.2.0",
            "_view_name": "LayoutView",
            "align_content": null,
            "align_items": null,
            "align_self": null,
            "border": null,
            "bottom": null,
            "display": null,
            "flex": null,
            "flex_flow": null,
            "grid_area": null,
            "grid_auto_columns": null,
            "grid_auto_flow": null,
            "grid_auto_rows": null,
            "grid_column": null,
            "grid_gap": null,
            "grid_row": null,
            "grid_template_areas": null,
            "grid_template_columns": null,
            "grid_template_rows": null,
            "height": null,
            "justify_content": null,
            "justify_items": null,
            "left": null,
            "margin": null,
            "max_height": null,
            "max_width": null,
            "min_height": null,
            "min_width": null,
            "object_fit": null,
            "object_position": null,
            "order": null,
            "overflow": null,
            "overflow_x": null,
            "overflow_y": null,
            "padding": null,
            "right": null,
            "top": null,
            "visibility": null,
            "width": null
          }
        },
        "8bd097007fee4fb295192866f3edadbd": {
          "model_module": "@jupyter-widgets/base",
          "model_name": "LayoutModel",
          "model_module_version": "1.2.0",
          "state": {
            "_model_module": "@jupyter-widgets/base",
            "_model_module_version": "1.2.0",
            "_model_name": "LayoutModel",
            "_view_count": null,
            "_view_module": "@jupyter-widgets/base",
            "_view_module_version": "1.2.0",
            "_view_name": "LayoutView",
            "align_content": null,
            "align_items": null,
            "align_self": null,
            "border": null,
            "bottom": null,
            "display": null,
            "flex": null,
            "flex_flow": null,
            "grid_area": null,
            "grid_auto_columns": null,
            "grid_auto_flow": null,
            "grid_auto_rows": null,
            "grid_column": null,
            "grid_gap": null,
            "grid_row": null,
            "grid_template_areas": null,
            "grid_template_columns": null,
            "grid_template_rows": null,
            "height": null,
            "justify_content": null,
            "justify_items": null,
            "left": null,
            "margin": null,
            "max_height": null,
            "max_width": null,
            "min_height": null,
            "min_width": null,
            "object_fit": null,
            "object_position": null,
            "order": null,
            "overflow": null,
            "overflow_x": null,
            "overflow_y": null,
            "padding": null,
            "right": null,
            "top": null,
            "visibility": null,
            "width": null
          }
        },
        "4770d38a283b454588209332474872ff": {
          "model_module": "@jupyter-widgets/controls",
          "model_name": "DescriptionStyleModel",
          "model_module_version": "1.5.0",
          "state": {
            "_model_module": "@jupyter-widgets/controls",
            "_model_module_version": "1.5.0",
            "_model_name": "DescriptionStyleModel",
            "_view_count": null,
            "_view_module": "@jupyter-widgets/base",
            "_view_module_version": "1.2.0",
            "_view_name": "StyleView",
            "description_width": ""
          }
        },
        "b6361e1238a64e3bb534102947ad8c8a": {
          "model_module": "@jupyter-widgets/base",
          "model_name": "LayoutModel",
          "model_module_version": "1.2.0",
          "state": {
            "_model_module": "@jupyter-widgets/base",
            "_model_module_version": "1.2.0",
            "_model_name": "LayoutModel",
            "_view_count": null,
            "_view_module": "@jupyter-widgets/base",
            "_view_module_version": "1.2.0",
            "_view_name": "LayoutView",
            "align_content": null,
            "align_items": null,
            "align_self": null,
            "border": null,
            "bottom": null,
            "display": null,
            "flex": null,
            "flex_flow": null,
            "grid_area": null,
            "grid_auto_columns": null,
            "grid_auto_flow": null,
            "grid_auto_rows": null,
            "grid_column": null,
            "grid_gap": null,
            "grid_row": null,
            "grid_template_areas": null,
            "grid_template_columns": null,
            "grid_template_rows": null,
            "height": null,
            "justify_content": null,
            "justify_items": null,
            "left": null,
            "margin": null,
            "max_height": null,
            "max_width": null,
            "min_height": null,
            "min_width": null,
            "object_fit": null,
            "object_position": null,
            "order": null,
            "overflow": null,
            "overflow_x": null,
            "overflow_y": null,
            "padding": null,
            "right": null,
            "top": null,
            "visibility": null,
            "width": null
          }
        },
        "d788489418b24e1cb5c8a369ddbda2f9": {
          "model_module": "@jupyter-widgets/controls",
          "model_name": "ProgressStyleModel",
          "model_module_version": "1.5.0",
          "state": {
            "_model_module": "@jupyter-widgets/controls",
            "_model_module_version": "1.5.0",
            "_model_name": "ProgressStyleModel",
            "_view_count": null,
            "_view_module": "@jupyter-widgets/base",
            "_view_module_version": "1.2.0",
            "_view_name": "StyleView",
            "bar_color": null,
            "description_width": ""
          }
        },
        "a79b3a4e42c840179c2bcdfae4e403ef": {
          "model_module": "@jupyter-widgets/base",
          "model_name": "LayoutModel",
          "model_module_version": "1.2.0",
          "state": {
            "_model_module": "@jupyter-widgets/base",
            "_model_module_version": "1.2.0",
            "_model_name": "LayoutModel",
            "_view_count": null,
            "_view_module": "@jupyter-widgets/base",
            "_view_module_version": "1.2.0",
            "_view_name": "LayoutView",
            "align_content": null,
            "align_items": null,
            "align_self": null,
            "border": null,
            "bottom": null,
            "display": null,
            "flex": null,
            "flex_flow": null,
            "grid_area": null,
            "grid_auto_columns": null,
            "grid_auto_flow": null,
            "grid_auto_rows": null,
            "grid_column": null,
            "grid_gap": null,
            "grid_row": null,
            "grid_template_areas": null,
            "grid_template_columns": null,
            "grid_template_rows": null,
            "height": null,
            "justify_content": null,
            "justify_items": null,
            "left": null,
            "margin": null,
            "max_height": null,
            "max_width": null,
            "min_height": null,
            "min_width": null,
            "object_fit": null,
            "object_position": null,
            "order": null,
            "overflow": null,
            "overflow_x": null,
            "overflow_y": null,
            "padding": null,
            "right": null,
            "top": null,
            "visibility": null,
            "width": null
          }
        },
        "32f65ef1f1d146809f90b7f7e0f69349": {
          "model_module": "@jupyter-widgets/controls",
          "model_name": "DescriptionStyleModel",
          "model_module_version": "1.5.0",
          "state": {
            "_model_module": "@jupyter-widgets/controls",
            "_model_module_version": "1.5.0",
            "_model_name": "DescriptionStyleModel",
            "_view_count": null,
            "_view_module": "@jupyter-widgets/base",
            "_view_module_version": "1.2.0",
            "_view_name": "StyleView",
            "description_width": ""
          }
        }
      }
    }
  },
  "cells": [
    {
      "cell_type": "markdown",
      "metadata": {
        "id": "view-in-github",
        "colab_type": "text"
      },
      "source": [
        "<a href=\"https://colab.research.google.com/github/darshanvjani/Kickstarter-Campaigns-Analysis/blob/main/EDA.ipynb\" target=\"_parent\"><img src=\"https://colab.research.google.com/assets/colab-badge.svg\" alt=\"Open In Colab\"/></a>"
      ]
    },
    {
      "cell_type": "code",
      "source": [
        "'''\n",
        "README\n",
        "\n",
        "We have performed initial data exploration to understand what the data is and to think about the stratifies of how to handle it.\n",
        "'''"
      ],
      "metadata": {
        "id": "1PB_NWs0xr3O"
      },
      "execution_count": null,
      "outputs": []
    },
    {
      "cell_type": "code",
      "execution_count": null,
      "metadata": {
        "id": "qG2_UO08ilge"
      },
      "outputs": [],
      "source": [
        "import warnings\n",
        "warnings.filterwarnings('ignore')\n",
        "import pandas as pd\n",
        "import numpy as np\n",
        "import matplotlib.pyplot as plt\n",
        "import seaborn as sns\n",
        "from sklearn.model_selection import train_test_split, GridSearchCV, cross_val_score\n",
        "from sklearn.feature_selection import SelectKBest, f_classif\n",
        "from sklearn.linear_model import LogisticRegression\n",
        "from sklearn.ensemble import RandomForestClassifier\n",
        "from sklearn.svm import SVC\n",
        "from sklearn.metrics import accuracy_score, classification_report, confusion_matrix\n",
        "from sklearn.preprocessing import StandardScaler"
      ]
    },
    {
      "cell_type": "code",
      "source": [
        "full = pd.read_csv('/content/drive/MyDrive/257/ML Project/kickstarter_data_full.csv')\n",
        "full.head()"
      ],
      "metadata": {
        "colab": {
          "base_uri": "https://localhost:8080/",
          "height": 664
        },
        "id": "2Drp-EuVkKvB",
        "outputId": "2c561574-a761-4604-94ce-7ee5afa62597"
      },
      "execution_count": null,
      "outputs": [
        {
          "output_type": "execute_result",
          "data": {
            "text/plain": [
              "   Unnamed: 0          id                                              photo  \\\n",
              "0           0  1454391034  {\"small\":\"https://ksr-ugc.imgix.net/assets/011...   \n",
              "1           1  1655206086  {\"small\":\"https://ksr-ugc.imgix.net/assets/012...   \n",
              "2           2   311581827  {\"small\":\"https://ksr-ugc.imgix.net/assets/012...   \n",
              "3           3   859724515  {\"small\":\"https://ksr-ugc.imgix.net/assets/011...   \n",
              "4           4  1613604977  {\"small\":\"https://ksr-ugc.imgix.net/assets/012...   \n",
              "\n",
              "                                                name  \\\n",
              "0  Auntie Di's Music Time Sign ASL for Hearing an...   \n",
              "1                    Jump Start Kindergarten Toolkit   \n",
              "2  Ojukwu Balewa Awolowo (O.B.A.) Public Library ...   \n",
              "3      MASTIZE - [mas-TAHYZ, MAS-tahyz]  - to spread   \n",
              "4  Synopse der EU-DSGVO - Artikel, Erwägungsgründ...   \n",
              "\n",
              "                                               blurb      goal  pledged  \\\n",
              "0  MTS ASL Curriculum Workbook is a reproducible ...    1500.0      0.0   \n",
              "1  This kit teaches how to print, correct an ugly...     500.0      0.0   \n",
              "2  Establishing a free, world-class, public libra...  100000.0    120.0   \n",
              "3  Goal: Introducing a new word into the English ...    5000.0      0.0   \n",
              "4  Zu den Artikeln der DSGVO sind die korrespondi...    3222.0    356.0   \n",
              "\n",
              "    state                                               slug  \\\n",
              "0  failed  auntie-dis-music-time-sign-asl-for-hearing-and...   \n",
              "1  failed                    jump-start-kindergarten-toolkit   \n",
              "2  failed  ojukwu-balewa-awolowo-oba-public-library-of-ni...   \n",
              "3  failed              mastize-mas-tahyz-mas-tahyz-to-spread   \n",
              "4  failed  synopse-der-eu-dsgvo-artikel-erwagungsgrunde-bdsg   \n",
              "\n",
              "   disable_communication  ...          launch_to_deadline  \\\n",
              "0                  False  ...  36 days 20:47:24.000000000   \n",
              "1                  False  ...  60 days 00:00:00.000000000   \n",
              "2                  False  ...  60 days 00:00:00.000000000   \n",
              "3                  False  ...  30 days 00:00:00.000000000   \n",
              "4                  False  ...  32 days 06:02:33.000000000   \n",
              "\n",
              "       launch_to_state_change create_to_launch_days  launch_to_deadline_days  \\\n",
              "0  36 days 20:47:24.000000000                    17                       36   \n",
              "1  60 days 00:00:02.000000000                    10                       60   \n",
              "2  60 days 00:00:01.000000000                     1                       60   \n",
              "3  30 days 00:00:00.000000000                     0                       30   \n",
              "4  32 days 06:02:33.000000000                     0                       32   \n",
              "\n",
              "  launch_to_state_change_days SuccessfulBool USorGB TOPCOUNTRY  \\\n",
              "0                          36              0      1          1   \n",
              "1                          60              0      1          1   \n",
              "2                          60              0      1          1   \n",
              "3                          30              0      1          1   \n",
              "4                          32              0      0          0   \n",
              "\n",
              "   LaunchedTuesday  DeadlineWeekend  \n",
              "0                0                0  \n",
              "1                0                0  \n",
              "2                0                0  \n",
              "3                0                0  \n",
              "4                0                0  \n",
              "\n",
              "[5 rows x 68 columns]"
            ],
            "text/html": [
              "\n",
              "  <div id=\"df-fd3fcc70-d495-494e-8e64-37f82fb96183\">\n",
              "    <div class=\"colab-df-container\">\n",
              "      <div>\n",
              "<style scoped>\n",
              "    .dataframe tbody tr th:only-of-type {\n",
              "        vertical-align: middle;\n",
              "    }\n",
              "\n",
              "    .dataframe tbody tr th {\n",
              "        vertical-align: top;\n",
              "    }\n",
              "\n",
              "    .dataframe thead th {\n",
              "        text-align: right;\n",
              "    }\n",
              "</style>\n",
              "<table border=\"1\" class=\"dataframe\">\n",
              "  <thead>\n",
              "    <tr style=\"text-align: right;\">\n",
              "      <th></th>\n",
              "      <th>Unnamed: 0</th>\n",
              "      <th>id</th>\n",
              "      <th>photo</th>\n",
              "      <th>name</th>\n",
              "      <th>blurb</th>\n",
              "      <th>goal</th>\n",
              "      <th>pledged</th>\n",
              "      <th>state</th>\n",
              "      <th>slug</th>\n",
              "      <th>disable_communication</th>\n",
              "      <th>...</th>\n",
              "      <th>launch_to_deadline</th>\n",
              "      <th>launch_to_state_change</th>\n",
              "      <th>create_to_launch_days</th>\n",
              "      <th>launch_to_deadline_days</th>\n",
              "      <th>launch_to_state_change_days</th>\n",
              "      <th>SuccessfulBool</th>\n",
              "      <th>USorGB</th>\n",
              "      <th>TOPCOUNTRY</th>\n",
              "      <th>LaunchedTuesday</th>\n",
              "      <th>DeadlineWeekend</th>\n",
              "    </tr>\n",
              "  </thead>\n",
              "  <tbody>\n",
              "    <tr>\n",
              "      <th>0</th>\n",
              "      <td>0</td>\n",
              "      <td>1454391034</td>\n",
              "      <td>{\"small\":\"https://ksr-ugc.imgix.net/assets/011...</td>\n",
              "      <td>Auntie Di's Music Time Sign ASL for Hearing an...</td>\n",
              "      <td>MTS ASL Curriculum Workbook is a reproducible ...</td>\n",
              "      <td>1500.0</td>\n",
              "      <td>0.0</td>\n",
              "      <td>failed</td>\n",
              "      <td>auntie-dis-music-time-sign-asl-for-hearing-and...</td>\n",
              "      <td>False</td>\n",
              "      <td>...</td>\n",
              "      <td>36 days 20:47:24.000000000</td>\n",
              "      <td>36 days 20:47:24.000000000</td>\n",
              "      <td>17</td>\n",
              "      <td>36</td>\n",
              "      <td>36</td>\n",
              "      <td>0</td>\n",
              "      <td>1</td>\n",
              "      <td>1</td>\n",
              "      <td>0</td>\n",
              "      <td>0</td>\n",
              "    </tr>\n",
              "    <tr>\n",
              "      <th>1</th>\n",
              "      <td>1</td>\n",
              "      <td>1655206086</td>\n",
              "      <td>{\"small\":\"https://ksr-ugc.imgix.net/assets/012...</td>\n",
              "      <td>Jump Start Kindergarten Toolkit</td>\n",
              "      <td>This kit teaches how to print, correct an ugly...</td>\n",
              "      <td>500.0</td>\n",
              "      <td>0.0</td>\n",
              "      <td>failed</td>\n",
              "      <td>jump-start-kindergarten-toolkit</td>\n",
              "      <td>False</td>\n",
              "      <td>...</td>\n",
              "      <td>60 days 00:00:00.000000000</td>\n",
              "      <td>60 days 00:00:02.000000000</td>\n",
              "      <td>10</td>\n",
              "      <td>60</td>\n",
              "      <td>60</td>\n",
              "      <td>0</td>\n",
              "      <td>1</td>\n",
              "      <td>1</td>\n",
              "      <td>0</td>\n",
              "      <td>0</td>\n",
              "    </tr>\n",
              "    <tr>\n",
              "      <th>2</th>\n",
              "      <td>2</td>\n",
              "      <td>311581827</td>\n",
              "      <td>{\"small\":\"https://ksr-ugc.imgix.net/assets/012...</td>\n",
              "      <td>Ojukwu Balewa Awolowo (O.B.A.) Public Library ...</td>\n",
              "      <td>Establishing a free, world-class, public libra...</td>\n",
              "      <td>100000.0</td>\n",
              "      <td>120.0</td>\n",
              "      <td>failed</td>\n",
              "      <td>ojukwu-balewa-awolowo-oba-public-library-of-ni...</td>\n",
              "      <td>False</td>\n",
              "      <td>...</td>\n",
              "      <td>60 days 00:00:00.000000000</td>\n",
              "      <td>60 days 00:00:01.000000000</td>\n",
              "      <td>1</td>\n",
              "      <td>60</td>\n",
              "      <td>60</td>\n",
              "      <td>0</td>\n",
              "      <td>1</td>\n",
              "      <td>1</td>\n",
              "      <td>0</td>\n",
              "      <td>0</td>\n",
              "    </tr>\n",
              "    <tr>\n",
              "      <th>3</th>\n",
              "      <td>3</td>\n",
              "      <td>859724515</td>\n",
              "      <td>{\"small\":\"https://ksr-ugc.imgix.net/assets/011...</td>\n",
              "      <td>MASTIZE - [mas-TAHYZ, MAS-tahyz]  - to spread</td>\n",
              "      <td>Goal: Introducing a new word into the English ...</td>\n",
              "      <td>5000.0</td>\n",
              "      <td>0.0</td>\n",
              "      <td>failed</td>\n",
              "      <td>mastize-mas-tahyz-mas-tahyz-to-spread</td>\n",
              "      <td>False</td>\n",
              "      <td>...</td>\n",
              "      <td>30 days 00:00:00.000000000</td>\n",
              "      <td>30 days 00:00:00.000000000</td>\n",
              "      <td>0</td>\n",
              "      <td>30</td>\n",
              "      <td>30</td>\n",
              "      <td>0</td>\n",
              "      <td>1</td>\n",
              "      <td>1</td>\n",
              "      <td>0</td>\n",
              "      <td>0</td>\n",
              "    </tr>\n",
              "    <tr>\n",
              "      <th>4</th>\n",
              "      <td>4</td>\n",
              "      <td>1613604977</td>\n",
              "      <td>{\"small\":\"https://ksr-ugc.imgix.net/assets/012...</td>\n",
              "      <td>Synopse der EU-DSGVO - Artikel, Erwägungsgründ...</td>\n",
              "      <td>Zu den Artikeln der DSGVO sind die korrespondi...</td>\n",
              "      <td>3222.0</td>\n",
              "      <td>356.0</td>\n",
              "      <td>failed</td>\n",
              "      <td>synopse-der-eu-dsgvo-artikel-erwagungsgrunde-bdsg</td>\n",
              "      <td>False</td>\n",
              "      <td>...</td>\n",
              "      <td>32 days 06:02:33.000000000</td>\n",
              "      <td>32 days 06:02:33.000000000</td>\n",
              "      <td>0</td>\n",
              "      <td>32</td>\n",
              "      <td>32</td>\n",
              "      <td>0</td>\n",
              "      <td>0</td>\n",
              "      <td>0</td>\n",
              "      <td>0</td>\n",
              "      <td>0</td>\n",
              "    </tr>\n",
              "  </tbody>\n",
              "</table>\n",
              "<p>5 rows × 68 columns</p>\n",
              "</div>\n",
              "      <button class=\"colab-df-convert\" onclick=\"convertToInteractive('df-fd3fcc70-d495-494e-8e64-37f82fb96183')\"\n",
              "              title=\"Convert this dataframe to an interactive table.\"\n",
              "              style=\"display:none;\">\n",
              "        \n",
              "  <svg xmlns=\"http://www.w3.org/2000/svg\" height=\"24px\"viewBox=\"0 0 24 24\"\n",
              "       width=\"24px\">\n",
              "    <path d=\"M0 0h24v24H0V0z\" fill=\"none\"/>\n",
              "    <path d=\"M18.56 5.44l.94 2.06.94-2.06 2.06-.94-2.06-.94-.94-2.06-.94 2.06-2.06.94zm-11 1L8.5 8.5l.94-2.06 2.06-.94-2.06-.94L8.5 2.5l-.94 2.06-2.06.94zm10 10l.94 2.06.94-2.06 2.06-.94-2.06-.94-.94-2.06-.94 2.06-2.06.94z\"/><path d=\"M17.41 7.96l-1.37-1.37c-.4-.4-.92-.59-1.43-.59-.52 0-1.04.2-1.43.59L10.3 9.45l-7.72 7.72c-.78.78-.78 2.05 0 2.83L4 21.41c.39.39.9.59 1.41.59.51 0 1.02-.2 1.41-.59l7.78-7.78 2.81-2.81c.8-.78.8-2.07 0-2.86zM5.41 20L4 18.59l7.72-7.72 1.47 1.35L5.41 20z\"/>\n",
              "  </svg>\n",
              "      </button>\n",
              "      \n",
              "  <style>\n",
              "    .colab-df-container {\n",
              "      display:flex;\n",
              "      flex-wrap:wrap;\n",
              "      gap: 12px;\n",
              "    }\n",
              "\n",
              "    .colab-df-convert {\n",
              "      background-color: #E8F0FE;\n",
              "      border: none;\n",
              "      border-radius: 50%;\n",
              "      cursor: pointer;\n",
              "      display: none;\n",
              "      fill: #1967D2;\n",
              "      height: 32px;\n",
              "      padding: 0 0 0 0;\n",
              "      width: 32px;\n",
              "    }\n",
              "\n",
              "    .colab-df-convert:hover {\n",
              "      background-color: #E2EBFA;\n",
              "      box-shadow: 0px 1px 2px rgba(60, 64, 67, 0.3), 0px 1px 3px 1px rgba(60, 64, 67, 0.15);\n",
              "      fill: #174EA6;\n",
              "    }\n",
              "\n",
              "    [theme=dark] .colab-df-convert {\n",
              "      background-color: #3B4455;\n",
              "      fill: #D2E3FC;\n",
              "    }\n",
              "\n",
              "    [theme=dark] .colab-df-convert:hover {\n",
              "      background-color: #434B5C;\n",
              "      box-shadow: 0px 1px 3px 1px rgba(0, 0, 0, 0.15);\n",
              "      filter: drop-shadow(0px 1px 2px rgba(0, 0, 0, 0.3));\n",
              "      fill: #FFFFFF;\n",
              "    }\n",
              "  </style>\n",
              "\n",
              "      <script>\n",
              "        const buttonEl =\n",
              "          document.querySelector('#df-fd3fcc70-d495-494e-8e64-37f82fb96183 button.colab-df-convert');\n",
              "        buttonEl.style.display =\n",
              "          google.colab.kernel.accessAllowed ? 'block' : 'none';\n",
              "\n",
              "        async function convertToInteractive(key) {\n",
              "          const element = document.querySelector('#df-fd3fcc70-d495-494e-8e64-37f82fb96183');\n",
              "          const dataTable =\n",
              "            await google.colab.kernel.invokeFunction('convertToInteractive',\n",
              "                                                     [key], {});\n",
              "          if (!dataTable) return;\n",
              "\n",
              "          const docLinkHtml = 'Like what you see? Visit the ' +\n",
              "            '<a target=\"_blank\" href=https://colab.research.google.com/notebooks/data_table.ipynb>data table notebook</a>'\n",
              "            + ' to learn more about interactive tables.';\n",
              "          element.innerHTML = '';\n",
              "          dataTable['output_type'] = 'display_data';\n",
              "          await google.colab.output.renderOutput(dataTable, element);\n",
              "          const docLink = document.createElement('div');\n",
              "          docLink.innerHTML = docLinkHtml;\n",
              "          element.appendChild(docLink);\n",
              "        }\n",
              "      </script>\n",
              "    </div>\n",
              "  </div>\n",
              "  "
            ]
          },
          "metadata": {},
          "execution_count": 2
        }
      ]
    },
    {
      "cell_type": "code",
      "source": [
        "full_1 = full.drop(['Unnamed: 0', 'id', 'photo', 'friends', 'is_starred', 'is_backing', 'permissions'], axis=1)"
      ],
      "metadata": {
        "id": "Sbvtt_6XFiT-"
      },
      "execution_count": null,
      "outputs": []
    },
    {
      "cell_type": "code",
      "source": [
        "full_1.head(1)"
      ],
      "metadata": {
        "colab": {
          "base_uri": "https://localhost:8080/",
          "height": 296
        },
        "id": "mEDqjMD2FmLl",
        "outputId": "1d0223a3-75e1-492d-f306-6d59418c1883"
      },
      "execution_count": null,
      "outputs": [
        {
          "output_type": "execute_result",
          "data": {
            "text/plain": [
              "                                                name  \\\n",
              "0  Auntie Di's Music Time Sign ASL for Hearing an...   \n",
              "\n",
              "                                               blurb    goal  pledged   state  \\\n",
              "0  MTS ASL Curriculum Workbook is a reproducible ...  1500.0      0.0  failed   \n",
              "\n",
              "                                                slug  disable_communication  \\\n",
              "0  auntie-dis-music-time-sign-asl-for-hearing-and...                  False   \n",
              "\n",
              "  country currency currency_symbol  ...          launch_to_deadline  \\\n",
              "0      US      USD               $  ...  36 days 20:47:24.000000000   \n",
              "\n",
              "       launch_to_state_change create_to_launch_days launch_to_deadline_days  \\\n",
              "0  36 days 20:47:24.000000000                    17                      36   \n",
              "\n",
              "  launch_to_state_change_days  SuccessfulBool  USorGB  TOPCOUNTRY  \\\n",
              "0                          36               0       1           1   \n",
              "\n",
              "   LaunchedTuesday DeadlineWeekend  \n",
              "0                0               0  \n",
              "\n",
              "[1 rows x 61 columns]"
            ],
            "text/html": [
              "\n",
              "  <div id=\"df-4a90ccde-1061-4b31-885d-b428ab1dd4d2\">\n",
              "    <div class=\"colab-df-container\">\n",
              "      <div>\n",
              "<style scoped>\n",
              "    .dataframe tbody tr th:only-of-type {\n",
              "        vertical-align: middle;\n",
              "    }\n",
              "\n",
              "    .dataframe tbody tr th {\n",
              "        vertical-align: top;\n",
              "    }\n",
              "\n",
              "    .dataframe thead th {\n",
              "        text-align: right;\n",
              "    }\n",
              "</style>\n",
              "<table border=\"1\" class=\"dataframe\">\n",
              "  <thead>\n",
              "    <tr style=\"text-align: right;\">\n",
              "      <th></th>\n",
              "      <th>name</th>\n",
              "      <th>blurb</th>\n",
              "      <th>goal</th>\n",
              "      <th>pledged</th>\n",
              "      <th>state</th>\n",
              "      <th>slug</th>\n",
              "      <th>disable_communication</th>\n",
              "      <th>country</th>\n",
              "      <th>currency</th>\n",
              "      <th>currency_symbol</th>\n",
              "      <th>...</th>\n",
              "      <th>launch_to_deadline</th>\n",
              "      <th>launch_to_state_change</th>\n",
              "      <th>create_to_launch_days</th>\n",
              "      <th>launch_to_deadline_days</th>\n",
              "      <th>launch_to_state_change_days</th>\n",
              "      <th>SuccessfulBool</th>\n",
              "      <th>USorGB</th>\n",
              "      <th>TOPCOUNTRY</th>\n",
              "      <th>LaunchedTuesday</th>\n",
              "      <th>DeadlineWeekend</th>\n",
              "    </tr>\n",
              "  </thead>\n",
              "  <tbody>\n",
              "    <tr>\n",
              "      <th>0</th>\n",
              "      <td>Auntie Di's Music Time Sign ASL for Hearing an...</td>\n",
              "      <td>MTS ASL Curriculum Workbook is a reproducible ...</td>\n",
              "      <td>1500.0</td>\n",
              "      <td>0.0</td>\n",
              "      <td>failed</td>\n",
              "      <td>auntie-dis-music-time-sign-asl-for-hearing-and...</td>\n",
              "      <td>False</td>\n",
              "      <td>US</td>\n",
              "      <td>USD</td>\n",
              "      <td>$</td>\n",
              "      <td>...</td>\n",
              "      <td>36 days 20:47:24.000000000</td>\n",
              "      <td>36 days 20:47:24.000000000</td>\n",
              "      <td>17</td>\n",
              "      <td>36</td>\n",
              "      <td>36</td>\n",
              "      <td>0</td>\n",
              "      <td>1</td>\n",
              "      <td>1</td>\n",
              "      <td>0</td>\n",
              "      <td>0</td>\n",
              "    </tr>\n",
              "  </tbody>\n",
              "</table>\n",
              "<p>1 rows × 61 columns</p>\n",
              "</div>\n",
              "      <button class=\"colab-df-convert\" onclick=\"convertToInteractive('df-4a90ccde-1061-4b31-885d-b428ab1dd4d2')\"\n",
              "              title=\"Convert this dataframe to an interactive table.\"\n",
              "              style=\"display:none;\">\n",
              "        \n",
              "  <svg xmlns=\"http://www.w3.org/2000/svg\" height=\"24px\"viewBox=\"0 0 24 24\"\n",
              "       width=\"24px\">\n",
              "    <path d=\"M0 0h24v24H0V0z\" fill=\"none\"/>\n",
              "    <path d=\"M18.56 5.44l.94 2.06.94-2.06 2.06-.94-2.06-.94-.94-2.06-.94 2.06-2.06.94zm-11 1L8.5 8.5l.94-2.06 2.06-.94-2.06-.94L8.5 2.5l-.94 2.06-2.06.94zm10 10l.94 2.06.94-2.06 2.06-.94-2.06-.94-.94-2.06-.94 2.06-2.06.94z\"/><path d=\"M17.41 7.96l-1.37-1.37c-.4-.4-.92-.59-1.43-.59-.52 0-1.04.2-1.43.59L10.3 9.45l-7.72 7.72c-.78.78-.78 2.05 0 2.83L4 21.41c.39.39.9.59 1.41.59.51 0 1.02-.2 1.41-.59l7.78-7.78 2.81-2.81c.8-.78.8-2.07 0-2.86zM5.41 20L4 18.59l7.72-7.72 1.47 1.35L5.41 20z\"/>\n",
              "  </svg>\n",
              "      </button>\n",
              "      \n",
              "  <style>\n",
              "    .colab-df-container {\n",
              "      display:flex;\n",
              "      flex-wrap:wrap;\n",
              "      gap: 12px;\n",
              "    }\n",
              "\n",
              "    .colab-df-convert {\n",
              "      background-color: #E8F0FE;\n",
              "      border: none;\n",
              "      border-radius: 50%;\n",
              "      cursor: pointer;\n",
              "      display: none;\n",
              "      fill: #1967D2;\n",
              "      height: 32px;\n",
              "      padding: 0 0 0 0;\n",
              "      width: 32px;\n",
              "    }\n",
              "\n",
              "    .colab-df-convert:hover {\n",
              "      background-color: #E2EBFA;\n",
              "      box-shadow: 0px 1px 2px rgba(60, 64, 67, 0.3), 0px 1px 3px 1px rgba(60, 64, 67, 0.15);\n",
              "      fill: #174EA6;\n",
              "    }\n",
              "\n",
              "    [theme=dark] .colab-df-convert {\n",
              "      background-color: #3B4455;\n",
              "      fill: #D2E3FC;\n",
              "    }\n",
              "\n",
              "    [theme=dark] .colab-df-convert:hover {\n",
              "      background-color: #434B5C;\n",
              "      box-shadow: 0px 1px 3px 1px rgba(0, 0, 0, 0.15);\n",
              "      filter: drop-shadow(0px 1px 2px rgba(0, 0, 0, 0.3));\n",
              "      fill: #FFFFFF;\n",
              "    }\n",
              "  </style>\n",
              "\n",
              "      <script>\n",
              "        const buttonEl =\n",
              "          document.querySelector('#df-4a90ccde-1061-4b31-885d-b428ab1dd4d2 button.colab-df-convert');\n",
              "        buttonEl.style.display =\n",
              "          google.colab.kernel.accessAllowed ? 'block' : 'none';\n",
              "\n",
              "        async function convertToInteractive(key) {\n",
              "          const element = document.querySelector('#df-4a90ccde-1061-4b31-885d-b428ab1dd4d2');\n",
              "          const dataTable =\n",
              "            await google.colab.kernel.invokeFunction('convertToInteractive',\n",
              "                                                     [key], {});\n",
              "          if (!dataTable) return;\n",
              "\n",
              "          const docLinkHtml = 'Like what you see? Visit the ' +\n",
              "            '<a target=\"_blank\" href=https://colab.research.google.com/notebooks/data_table.ipynb>data table notebook</a>'\n",
              "            + ' to learn more about interactive tables.';\n",
              "          element.innerHTML = '';\n",
              "          dataTable['output_type'] = 'display_data';\n",
              "          await google.colab.output.renderOutput(dataTable, element);\n",
              "          const docLink = document.createElement('div');\n",
              "          docLink.innerHTML = docLinkHtml;\n",
              "          element.appendChild(docLink);\n",
              "        }\n",
              "      </script>\n",
              "    </div>\n",
              "  </div>\n",
              "  "
            ]
          },
          "metadata": {},
          "execution_count": 4
        }
      ]
    },
    {
      "cell_type": "code",
      "source": [
        "full_1.info()"
      ],
      "metadata": {
        "colab": {
          "base_uri": "https://localhost:8080/"
        },
        "id": "4rGHq1rfFkNh",
        "outputId": "fa0a0e40-7dde-4b06-b896-a025ba11a357"
      },
      "execution_count": null,
      "outputs": [
        {
          "output_type": "stream",
          "name": "stdout",
          "text": [
            "<class 'pandas.core.frame.DataFrame'>\n",
            "RangeIndex: 20632 entries, 0 to 20631\n",
            "Data columns (total 61 columns):\n",
            " #   Column                       Non-Null Count  Dtype  \n",
            "---  ------                       --------------  -----  \n",
            " 0   name                         20632 non-null  object \n",
            " 1   blurb                        20627 non-null  object \n",
            " 2   goal                         20632 non-null  float64\n",
            " 3   pledged                      20632 non-null  float64\n",
            " 4   state                        20632 non-null  object \n",
            " 5   slug                         20632 non-null  object \n",
            " 6   disable_communication        20632 non-null  bool   \n",
            " 7   country                      20632 non-null  object \n",
            " 8   currency                     20632 non-null  object \n",
            " 9   currency_symbol              20632 non-null  object \n",
            " 10  currency_trailing_code       20632 non-null  bool   \n",
            " 11  deadline                     20632 non-null  object \n",
            " 12  state_changed_at             20632 non-null  object \n",
            " 13  created_at                   20632 non-null  object \n",
            " 14  launched_at                  20632 non-null  object \n",
            " 15  staff_pick                   20632 non-null  bool   \n",
            " 16  backers_count                20632 non-null  int64  \n",
            " 17  static_usd_rate              20632 non-null  float64\n",
            " 18  usd_pledged                  20632 non-null  float64\n",
            " 19  creator                      20632 non-null  object \n",
            " 20  location                     20587 non-null  object \n",
            " 21  category                     18743 non-null  object \n",
            " 22  profile                      20632 non-null  object \n",
            " 23  spotlight                    20632 non-null  bool   \n",
            " 24  urls                         20632 non-null  object \n",
            " 25  source_url                   20632 non-null  object \n",
            " 26  name_len                     20627 non-null  float64\n",
            " 27  name_len_clean               20627 non-null  float64\n",
            " 28  blurb_len                    20627 non-null  float64\n",
            " 29  blurb_len_clean              20627 non-null  float64\n",
            " 30  deadline_weekday             20632 non-null  object \n",
            " 31  state_changed_at_weekday     20632 non-null  object \n",
            " 32  created_at_weekday           20632 non-null  object \n",
            " 33  launched_at_weekday          20632 non-null  object \n",
            " 34  deadline_month               20632 non-null  int64  \n",
            " 35  deadline_day                 20632 non-null  int64  \n",
            " 36  deadline_yr                  20632 non-null  int64  \n",
            " 37  deadline_hr                  20632 non-null  int64  \n",
            " 38  state_changed_at_month       20632 non-null  int64  \n",
            " 39  state_changed_at_day         20632 non-null  int64  \n",
            " 40  state_changed_at_yr          20632 non-null  int64  \n",
            " 41  state_changed_at_hr          20632 non-null  int64  \n",
            " 42  created_at_month             20632 non-null  int64  \n",
            " 43  created_at_day               20632 non-null  int64  \n",
            " 44  created_at_yr                20632 non-null  int64  \n",
            " 45  created_at_hr                20632 non-null  int64  \n",
            " 46  launched_at_month            20632 non-null  int64  \n",
            " 47  launched_at_day              20632 non-null  int64  \n",
            " 48  launched_at_yr               20632 non-null  int64  \n",
            " 49  launched_at_hr               20632 non-null  int64  \n",
            " 50  create_to_launch             20632 non-null  object \n",
            " 51  launch_to_deadline           20632 non-null  object \n",
            " 52  launch_to_state_change       20632 non-null  object \n",
            " 53  create_to_launch_days        20632 non-null  int64  \n",
            " 54  launch_to_deadline_days      20632 non-null  int64  \n",
            " 55  launch_to_state_change_days  20632 non-null  int64  \n",
            " 56  SuccessfulBool               20632 non-null  int64  \n",
            " 57  USorGB                       20632 non-null  int64  \n",
            " 58  TOPCOUNTRY                   20632 non-null  int64  \n",
            " 59  LaunchedTuesday              20632 non-null  int64  \n",
            " 60  DeadlineWeekend              20632 non-null  int64  \n",
            "dtypes: bool(4), float64(8), int64(25), object(24)\n",
            "memory usage: 9.1+ MB\n"
          ]
        }
      ]
    },
    {
      "cell_type": "markdown",
      "source": [
        "###Goal Feature EDA"
      ],
      "metadata": {
        "id": "SRZXLTXP2KzP"
      }
    },
    {
      "cell_type": "code",
      "source": [
        "full_1['goal'].value_counts()"
      ],
      "metadata": {
        "colab": {
          "base_uri": "https://localhost:8080/"
        },
        "id": "xqxLzJv6L2CZ",
        "outputId": "1330f261-f3b8-4d8a-ca97-4af1d25c6206"
      },
      "execution_count": null,
      "outputs": [
        {
          "output_type": "execute_result",
          "data": {
            "text/plain": [
              "10000.0     1480\n",
              "5000.0      1323\n",
              "50000.0     1302\n",
              "20000.0      946\n",
              "25000.0      839\n",
              "            ... \n",
              "370000.0       1\n",
              "25730.0        1\n",
              "55650.0        1\n",
              "622942.0       1\n",
              "55151.0        1\n",
              "Name: goal, Length: 1204, dtype: int64"
            ]
          },
          "metadata": {},
          "execution_count": 12
        }
      ]
    },
    {
      "cell_type": "code",
      "source": [
        "temp_df = full_1['goal']\n",
        "\n",
        "from scipy import stats\n",
        "z = np.abs(stats.zscore(temp_df))\n",
        "\n",
        "# Define a threshold (e.g. 3) for identifying outliers\n",
        "threshold = 0.068\n",
        "\n",
        "# Find the indices of the outliers\n",
        "outlier_indices = np.where(z > threshold)\n",
        "\n",
        "# Remove the outliers from the DataFrame\n",
        "df_clean = temp_df.drop(outlier_indices[0], axis=0)\n",
        "df_clean.shape"
      ],
      "metadata": {
        "colab": {
          "base_uri": "https://localhost:8080/"
        },
        "id": "2EvAPDNHsDoz",
        "outputId": "b9c03e9a-dd0a-420e-a286-a69f9a9fcd4c"
      },
      "execution_count": null,
      "outputs": [
        {
          "output_type": "execute_result",
          "data": {
            "text/plain": [
              "(14771,)"
            ]
          },
          "metadata": {},
          "execution_count": 78
        }
      ]
    },
    {
      "cell_type": "code",
      "source": [
        "pd.DataFrame(df_clean).hist()"
      ],
      "metadata": {
        "colab": {
          "base_uri": "https://localhost:8080/",
          "height": 474
        },
        "id": "fXE2FRP6s-fa",
        "outputId": "25b109ff-ce45-424b-a36a-c62819b43dad"
      },
      "execution_count": null,
      "outputs": [
        {
          "output_type": "execute_result",
          "data": {
            "text/plain": [
              "array([[<Axes: title={'center': 'goal'}>]], dtype=object)"
            ]
          },
          "metadata": {},
          "execution_count": 79
        },
        {
          "output_type": "display_data",
          "data": {
            "text/plain": [
              "<Figure size 640x480 with 1 Axes>"
            ],
            "image/png": "[encoded data removed]"
          },
          "metadata": {}
        }
      ]
    },
    {
      "cell_type": "code",
      "source": [
        "pd.DataFrame(df_clean).boxplot(column=['goal'])"
      ],
      "metadata": {
        "colab": {
          "base_uri": "https://localhost:8080/",
          "height": 451
        },
        "id": "535LyJL6p-Pv",
        "outputId": "05a27b09-ccd1-4cbd-e1af-489b92775c77"
      },
      "execution_count": null,
      "outputs": [
        {
          "output_type": "execute_result",
          "data": {
            "text/plain": [
              "<Axes: >"
            ]
          },
          "metadata": {},
          "execution_count": 80
        },
        {
          "output_type": "display_data",
          "data": {
            "text/plain": [
              "<Figure size 640x480 with 1 Axes>"
            ],
            "image/png": "[encoded data removed]"
          },
          "metadata": {}
        }
      ]
    },
    {
      "cell_type": "code",
      "source": [
        "# full_1.drop(['goal_scaler'],axis=1,inplace=True)\n",
        "# from sklearn.preprocessing import StandardScaler\n",
        "# scaler = StandardScaler()\n",
        "# after_outlier_scaling_goal = scaler.fit_transform(pd.DataFrame(df_clean).values.reshape(-1,1))\n",
        "after_outlier_scaling_goal = np.log(df_clean)\n",
        "pd.DataFrame(after_outlier_scaling_goal).hist()"
      ],
      "metadata": {
        "colab": {
          "base_uri": "https://localhost:8080/",
          "height": 474
        },
        "id": "oJMKsVdipgkx",
        "outputId": "92bb1a9c-b0dc-43a6-fec2-ba14f4bca0b7"
      },
      "execution_count": null,
      "outputs": [
        {
          "output_type": "execute_result",
          "data": {
            "text/plain": [
              "array([[<Axes: title={'center': 'goal'}>]], dtype=object)"
            ]
          },
          "metadata": {},
          "execution_count": 88
        },
        {
          "output_type": "display_data",
          "data": {
            "text/plain": [
              "<Figure size 640x480 with 1 Axes>"
            ],
            "image/png": "[encoded data removed]"
          },
          "metadata": {}
        }
      ]
    },
    {
      "cell_type": "code",
      "source": [
        "sns.set(style='whitegrid')\n",
        "plt.figure(figsize=(10, 6))\n",
        "feature = 'goal'\n",
        "# Create a histogram and kernel density estimate (KDE) plot\n",
        "sns.histplot(full_1['goal'], kde=True, bins=30)\n",
        "\n",
        "# Add labels and a title\n",
        "plt.xlabel('Value')\n",
        "plt.ylabel('Frequency')\n",
        "plt.title(f'Distribution of {feature}')\n",
        "\n",
        "# Display the plot\n",
        "plt.show()"
      ],
      "metadata": {
        "colab": {
          "base_uri": "https://localhost:8080/",
          "height": 573
        },
        "id": "ORNvQn9ZZOLd",
        "outputId": "324624ed-7f0a-4ee2-da13-051af9c8d490"
      },
      "execution_count": null,
      "outputs": [
        {
          "output_type": "display_data",
          "data": {
            "text/plain": [
              "<Figure size 1000x600 with 1 Axes>"
            ],
            "image/png": "[encoded data removed]"
          },
          "metadata": {}
        }
      ]
    },
    {
      "cell_type": "markdown",
      "source": [
        "###pledged"
      ],
      "metadata": {
        "id": "mgaRUc9g2QZO"
      }
    },
    {
      "cell_type": "code",
      "source": [
        "def feature_eda(feature_name):\n",
        "  print(full_1[feature_name].head())\n",
        "  print()\n",
        "  print()\n",
        "  print(full_1[feature_name].value_counts())\n",
        "  print()\n",
        "  print()\n",
        "  # print(full_1[feature_name].hist())\n",
        "  # # print(full_1.boxplot(column=[feature_name]))\n",
        "  # plt.show()"
      ],
      "metadata": {
        "id": "Vh8xfSp_2Wo6"
      },
      "execution_count": null,
      "outputs": []
    },
    {
      "cell_type": "code",
      "source": [
        "feature_eda('pledged')"
      ],
      "metadata": {
        "colab": {
          "base_uri": "https://localhost:8080/",
          "height": 852
        },
        "id": "AZLyqhji2Zrx",
        "outputId": "7064b939-0573-46db-ede8-d9a8159e244b"
      },
      "execution_count": null,
      "outputs": [
        {
          "output_type": "stream",
          "name": "stdout",
          "text": [
            "0      0.0\n",
            "1      0.0\n",
            "2    120.0\n",
            "3      0.0\n",
            "4    356.0\n",
            "Name: pledged, dtype: float64\n",
            "\n",
            "\n",
            "0.00         2936\n",
            "1.00          586\n",
            "10.00         313\n",
            "5.00          199\n",
            "2.00          197\n",
            "             ... \n",
            "3431.00         1\n",
            "26823.01        1\n",
            "196362.57       1\n",
            "212513.64       1\n",
            "1559.00         1\n",
            "Name: pledged, Length: 8722, dtype: int64\n",
            "\n",
            "\n",
            "Axes(0.125,0.11;0.775x0.77)\n"
          ]
        },
        {
          "output_type": "display_data",
          "data": {
            "text/plain": [
              "<Figure size 640x480 with 1 Axes>"
            ],
            "image/png": "[encoded data removed]"
          },
          "metadata": {}
        }
      ]
    },
    {
      "cell_type": "code",
      "source": [
        "print(full_1.boxplot(column=['pledged']))"
      ],
      "metadata": {
        "colab": {
          "base_uri": "https://localhost:8080/",
          "height": 467
        },
        "id": "2wjjQBnZ4kz8",
        "outputId": "cd75c89e-3f2a-4f56-f7ff-3f1aba81f065"
      },
      "execution_count": null,
      "outputs": [
        {
          "output_type": "stream",
          "name": "stdout",
          "text": [
            "Axes(0.125,0.11;0.775x0.77)\n"
          ]
        },
        {
          "output_type": "display_data",
          "data": {
            "text/plain": [
              "<Figure size 640x480 with 1 Axes>"
            ],
            "image/png": "[encoded data removed]"
          },
          "metadata": {}
        }
      ]
    },
    {
      "cell_type": "code",
      "source": [
        "temp_df = full_1['pledged']\n",
        "\n",
        "from scipy import stats\n",
        "z = np.abs(stats.zscore(temp_df))\n",
        "\n",
        "# Define a threshold (e.g. 3) for identifying outliers\n",
        "threshold = 0.19\n",
        "\n",
        "# Find the indices of the outliers\n",
        "outlier_indices = np.where(z > threshold)\n",
        "\n",
        "# Remove the outliers from the DataFrame\n",
        "df_clean = temp_df.drop(outlier_indices[0], axis=0)\n",
        "df_clean.shape"
      ],
      "metadata": {
        "colab": {
          "base_uri": "https://localhost:8080/"
        },
        "id": "O5cAbxBc89Ws",
        "outputId": "dec1ff42-ab39-40ff-e377-47683ebb43d4"
      },
      "execution_count": null,
      "outputs": [
        {
          "output_type": "execute_result",
          "data": {
            "text/plain": [
              "(18890,)"
            ]
          },
          "metadata": {},
          "execution_count": 163
        }
      ]
    },
    {
      "cell_type": "code",
      "source": [
        "pd.DataFrame(df_clean).hist()"
      ],
      "metadata": {
        "colab": {
          "base_uri": "https://localhost:8080/",
          "height": 474
        },
        "id": "XjO7-h1f9LQp",
        "outputId": "dbad78a6-9de6-4271-a542-17b9bb710c3b"
      },
      "execution_count": null,
      "outputs": [
        {
          "output_type": "execute_result",
          "data": {
            "text/plain": [
              "array([[<Axes: title={'center': 'pledged'}>]], dtype=object)"
            ]
          },
          "metadata": {},
          "execution_count": 164
        },
        {
          "output_type": "display_data",
          "data": {
            "text/plain": [
              "<Figure size 640x480 with 1 Axes>"
            ],
            "image/png": "[encoded data removed]"
          },
          "metadata": {}
        }
      ]
    },
    {
      "cell_type": "markdown",
      "source": [
        "###Slug"
      ],
      "metadata": {
        "id": "vVHQDOUgBli6"
      }
    },
    {
      "cell_type": "code",
      "source": [
        "feature_eda('slug')"
      ],
      "metadata": {
        "colab": {
          "base_uri": "https://localhost:8080/"
        },
        "id": "5mfX9wu2BCcq",
        "outputId": "32ccc4e1-b619-4183-ac18-06e47c7db655"
      },
      "execution_count": null,
      "outputs": [
        {
          "output_type": "stream",
          "name": "stdout",
          "text": [
            "0    auntie-dis-music-time-sign-asl-for-hearing-and...\n",
            "1                      jump-start-kindergarten-toolkit\n",
            "2    ojukwu-balewa-awolowo-oba-public-library-of-ni...\n",
            "3                mastize-mas-tahyz-mas-tahyz-to-spread\n",
            "4    synopse-der-eu-dsgvo-artikel-erwagungsgrunde-bdsg\n",
            "Name: slug, dtype: object\n",
            "\n",
            "\n",
            "auntie-dis-music-time-sign-asl-for-hearing-and-hoh    1\n",
            "jackie-and-the-beanstalk-a-re-spun-yarn               1\n",
            "piq-a-jukebox-for-social-spaces                       1\n",
            "presenting-slacker-a-revolutionary-new-tool           1\n",
            "energybridge-solar-power-grid-tie-and-backup-in-on    1\n",
            "                                                     ..\n",
            "breanna-jean                                          1\n",
            "website-building-app                                  1\n",
            "website-for-parents-of-twins-and-multiples            1\n",
            "annuaire-des-artisans-marocains-sans-moyen-de-mark    1\n",
            "lets-trail-app                                        1\n",
            "Name: slug, Length: 20632, dtype: int64\n",
            "\n",
            "\n"
          ]
        }
      ]
    },
    {
      "cell_type": "markdown",
      "source": [
        "currency_trailing_code"
      ],
      "metadata": {
        "id": "i-eqsJqpFqSh"
      }
    },
    {
      "cell_type": "code",
      "source": [
        "feature_eda('currency_trailing_code')"
      ],
      "metadata": {
        "colab": {
          "base_uri": "https://localhost:8080/"
        },
        "id": "l15b1aZ-Bo-x",
        "outputId": "d9e2223d-6820-40c2-dad6-0f4598a02e09"
      },
      "execution_count": null,
      "outputs": [
        {
          "output_type": "stream",
          "name": "stdout",
          "text": [
            "0     True\n",
            "1     True\n",
            "2     True\n",
            "3     True\n",
            "4    False\n",
            "Name: currency_trailing_code, dtype: bool\n",
            "\n",
            "\n",
            "True     16422\n",
            "False     4210\n",
            "Name: currency_trailing_code, dtype: int64\n",
            "\n",
            "\n"
          ]
        }
      ]
    },
    {
      "cell_type": "markdown",
      "source": [
        "deadline"
      ],
      "metadata": {
        "id": "8tR-swBCFsN1"
      }
    },
    {
      "cell_type": "code",
      "source": [
        "feature_eda('currency_trailing_code')"
      ],
      "metadata": {
        "colab": {
          "base_uri": "https://localhost:8080/"
        },
        "id": "iTtXexMcFv5a",
        "outputId": "9f78ee27-0378-47ee-ce00-8ccfdf43e81f"
      },
      "execution_count": null,
      "outputs": [
        {
          "output_type": "stream",
          "name": "stdout",
          "text": [
            "0     True\n",
            "1     True\n",
            "2     True\n",
            "3     True\n",
            "4    False\n",
            "Name: currency_trailing_code, dtype: bool\n",
            "\n",
            "\n",
            "True     16422\n",
            "False     4210\n",
            "Name: currency_trailing_code, dtype: int64\n",
            "\n",
            "\n"
          ]
        }
      ]
    },
    {
      "cell_type": "code",
      "source": [
        "feature_eda('state_changed_at')"
      ],
      "metadata": {
        "colab": {
          "base_uri": "https://localhost:8080/"
        },
        "id": "CxcHt2aSFyUj",
        "outputId": "fedbe0af-fb08-47e0-b49b-e254910e7b24"
      },
      "execution_count": null,
      "outputs": [
        {
          "output_type": "stream",
          "name": "stdout",
          "text": [
            "0    1/23/2015 10:35\n",
            "1     5/1/2015 16:13\n",
            "2     3/26/2015 8:17\n",
            "3     10/6/2014 0:41\n",
            "4    6/27/2016 12:00\n",
            "Name: state_changed_at, dtype: object\n",
            "\n",
            "\n",
            "12/31/2014 22:59    6\n",
            "3/31/2016 22:59     5\n",
            "8/31/2014 22:59     5\n",
            "6/30/2015 22:59     5\n",
            "9/30/2016 22:59     4\n",
            "                   ..\n",
            "12/9/2015 17:07     1\n",
            "10/31/2016 9:00     1\n",
            "1/1/2015 11:15      1\n",
            "11/28/2015 14:30    1\n",
            "11/20/2014 4:24     1\n",
            "Name: state_changed_at, Length: 20238, dtype: int64\n",
            "\n",
            "\n"
          ]
        }
      ]
    },
    {
      "cell_type": "code",
      "source": [
        "feature_eda('created_at')"
      ],
      "metadata": {
        "colab": {
          "base_uri": "https://localhost:8080/"
        },
        "id": "DJoIWmZBF67m",
        "outputId": "4ca6857a-9eb7-4e5a-822b-910bd782a536"
      },
      "execution_count": null,
      "outputs": [
        {
          "output_type": "stream",
          "name": "stdout",
          "text": [
            "0    11/29/2014 22:55\n",
            "1      2/20/2015 9:28\n",
            "2      1/24/2015 0:08\n",
            "3      9/5/2014 22:30\n",
            "4     5/25/2016 14:09\n",
            "Name: created_at, dtype: object\n",
            "\n",
            "\n",
            "2/9/2015 14:08     3\n",
            "9/10/2014 12:47    2\n",
            "7/9/2014 19:17     2\n",
            "5/19/2016 9:58     2\n",
            "5/6/2015 13:37     2\n",
            "                  ..\n",
            "6/9/2015 9:15      1\n",
            "10/1/2015 7:21     1\n",
            "5/11/2016 13:37    1\n",
            "9/30/2016 4:31     1\n",
            "9/28/2014 5:42     1\n",
            "Name: created_at, Length: 20483, dtype: int64\n",
            "\n",
            "\n"
          ]
        }
      ]
    },
    {
      "cell_type": "code",
      "source": [
        "feature_eda('launched_at')"
      ],
      "metadata": {
        "colab": {
          "base_uri": "https://localhost:8080/"
        },
        "id": "anHEw5lhGCp_",
        "outputId": "94f40b1f-9827-41e5-d0cc-4f968104a98f"
      },
      "execution_count": null,
      "outputs": [
        {
          "output_type": "stream",
          "name": "stdout",
          "text": [
            "0    12/17/2014 13:47\n",
            "1      3/2/2015 16:13\n",
            "2      1/25/2015 8:17\n",
            "3       9/6/2014 0:41\n",
            "4      5/26/2016 5:57\n",
            "Name: launched_at, dtype: object\n",
            "\n",
            "\n",
            "7/22/2014 11:00     3\n",
            "7/8/2014 12:30      3\n",
            "1/26/2017 11:22     2\n",
            "3/4/2015 15:07      2\n",
            "11/3/2015 9:00      2\n",
            "                   ..\n",
            "6/12/2015 12:03     1\n",
            "12/28/2016 20:35    1\n",
            "3/9/2016 6:41       1\n",
            "10/6/2014 17:31     1\n",
            "10/21/2014 4:24     1\n",
            "Name: launched_at, Length: 20448, dtype: int64\n",
            "\n",
            "\n"
          ]
        }
      ]
    },
    {
      "cell_type": "code",
      "source": [
        "feature_eda('staff_pick')"
      ],
      "metadata": {
        "colab": {
          "base_uri": "https://localhost:8080/"
        },
        "id": "m7HMxWnvGZKY",
        "outputId": "9751b2a6-236f-4ef7-8b27-5f12c2203433"
      },
      "execution_count": null,
      "outputs": [
        {
          "output_type": "stream",
          "name": "stdout",
          "text": [
            "0    False\n",
            "1    False\n",
            "2    False\n",
            "3    False\n",
            "4    False\n",
            "Name: staff_pick, dtype: bool\n",
            "\n",
            "\n",
            "False    18447\n",
            "True      2185\n",
            "Name: staff_pick, dtype: int64\n",
            "\n",
            "\n"
          ]
        }
      ]
    },
    {
      "cell_type": "code",
      "source": [
        "feature_eda('backers_count')"
      ],
      "metadata": {
        "colab": {
          "base_uri": "https://localhost:8080/"
        },
        "id": "CE_ekygZGcIZ",
        "outputId": "bea2294c-02e3-407d-89c5-27b4adbdfef9"
      },
      "execution_count": null,
      "outputs": [
        {
          "output_type": "stream",
          "name": "stdout",
          "text": [
            "0     0\n",
            "1     0\n",
            "2     5\n",
            "3     0\n",
            "4    17\n",
            "Name: backers_count, dtype: int64\n",
            "\n",
            "\n",
            "0       2936\n",
            "1       1914\n",
            "2       1276\n",
            "3        910\n",
            "4        714\n",
            "        ... \n",
            "1513       1\n",
            "3863       1\n",
            "2051       1\n",
            "737        1\n",
            "819        1\n",
            "Name: backers_count, Length: 1505, dtype: int64\n",
            "\n",
            "\n"
          ]
        }
      ]
    },
    {
      "cell_type": "code",
      "source": [
        "full_1['backers_count'].hist()"
      ],
      "metadata": {
        "colab": {
          "base_uri": "https://localhost:8080/",
          "height": 451
        },
        "id": "9Es3FS7XGiNs",
        "outputId": "27d94c70-ff15-4b2c-8357-fd026c21a5d7"
      },
      "execution_count": null,
      "outputs": [
        {
          "output_type": "execute_result",
          "data": {
            "text/plain": [
              "<Axes: >"
            ]
          },
          "metadata": {},
          "execution_count": 181
        },
        {
          "output_type": "display_data",
          "data": {
            "text/plain": [
              "<Figure size 640x480 with 1 Axes>"
            ],
            "image/png": "[encoded data removed]"
          },
          "metadata": {}
        }
      ]
    },
    {
      "cell_type": "code",
      "source": [
        "full_1.boxplot(column=['backers_count'])"
      ],
      "metadata": {
        "colab": {
          "base_uri": "https://localhost:8080/",
          "height": 452
        },
        "id": "XE9Iiwk8HAfA",
        "outputId": "93d614ef-1727-4aa4-b4d8-29a2db8c7350"
      },
      "execution_count": null,
      "outputs": [
        {
          "output_type": "execute_result",
          "data": {
            "text/plain": [
              "<Axes: >"
            ]
          },
          "metadata": {},
          "execution_count": 182
        },
        {
          "output_type": "display_data",
          "data": {
            "text/plain": [
              "<Figure size 640x480 with 1 Axes>"
            ],
            "image/png": "[encoded data removed]"
          },
          "metadata": {}
        }
      ]
    },
    {
      "cell_type": "code",
      "source": [
        "feature_eda('static_usd_rate')"
      ],
      "metadata": {
        "colab": {
          "base_uri": "https://localhost:8080/"
        },
        "id": "_iGAnQaPNWz4",
        "outputId": "f7cd8ae8-e8fa-4c66-b540-0f747c50152b"
      },
      "execution_count": null,
      "outputs": [
        {
          "output_type": "stream",
          "name": "stdout",
          "text": [
            "0    1.000000\n",
            "1    1.000000\n",
            "2    1.000000\n",
            "3    1.000000\n",
            "4    1.114613\n",
            "Name: static_usd_rate, dtype: float64\n",
            "\n",
            "\n",
            "1.000000    14142\n",
            "1.095020       18\n",
            "1.115888       18\n",
            "1.713370       12\n",
            "1.714466       12\n",
            "            ...  \n",
            "1.418456        1\n",
            "1.375722        1\n",
            "0.116673        1\n",
            "1.088146        1\n",
            "1.000703        1\n",
            "Name: static_usd_rate, Length: 3136, dtype: int64\n",
            "\n",
            "\n"
          ]
        }
      ]
    },
    {
      "cell_type": "code",
      "source": [
        "full_1.boxplot(column=['static_usd_rate'])"
      ],
      "metadata": {
        "colab": {
          "base_uri": "https://localhost:8080/",
          "height": 452
        },
        "id": "r6CfRUxNNJhh",
        "outputId": "e38b0c55-9154-4991-fc72-3db2e115ea92"
      },
      "execution_count": null,
      "outputs": [
        {
          "output_type": "execute_result",
          "data": {
            "text/plain": [
              "<Axes: >"
            ]
          },
          "metadata": {},
          "execution_count": 183
        },
        {
          "output_type": "display_data",
          "data": {
            "text/plain": [
              "<Figure size 640x480 with 1 Axes>"
            ],
            "image/png": "[encoded data removed]"
          },
          "metadata": {}
        }
      ]
    },
    {
      "cell_type": "code",
      "source": [
        "full_1['static_usd_rate'].hist()"
      ],
      "metadata": {
        "colab": {
          "base_uri": "https://localhost:8080/",
          "height": 451
        },
        "id": "TiFxMeI8OC__",
        "outputId": "c2c00f02-c1cb-4048-c6be-70d5f3e19a75"
      },
      "execution_count": null,
      "outputs": [
        {
          "output_type": "execute_result",
          "data": {
            "text/plain": [
              "<Axes: >"
            ]
          },
          "metadata": {},
          "execution_count": 185
        },
        {
          "output_type": "display_data",
          "data": {
            "text/plain": [
              "<Figure size 640x480 with 1 Axes>"
            ],
            "image/png": "[encoded data removed]"
          },
          "metadata": {}
        }
      ]
    },
    {
      "cell_type": "code",
      "source": [
        "feature_eda('usd_pledged')"
      ],
      "metadata": {
        "colab": {
          "base_uri": "https://localhost:8080/"
        },
        "id": "fyWL-ju2OKJO",
        "outputId": "80214a17-9ff1-41b7-ec2e-fc1f8f4ff810"
      },
      "execution_count": null,
      "outputs": [
        {
          "output_type": "stream",
          "name": "stdout",
          "text": [
            "0      0.000000\n",
            "1      0.000000\n",
            "2    120.000000\n",
            "3      0.000000\n",
            "4    396.802395\n",
            "Name: usd_pledged, dtype: float64\n",
            "\n",
            "\n",
            "0.000000        2936\n",
            "1.000000         364\n",
            "10.000000        192\n",
            "25.000000        149\n",
            "50.000000        137\n",
            "                ... \n",
            "58.068995          1\n",
            "3427.000000        1\n",
            "2201.677381        1\n",
            "54681.000000       1\n",
            "485.123930         1\n",
            "Name: usd_pledged, Length: 12235, dtype: int64\n",
            "\n",
            "\n"
          ]
        }
      ]
    },
    {
      "cell_type": "code",
      "source": [
        "full_1['usd_pledged'].hist()"
      ],
      "metadata": {
        "colab": {
          "base_uri": "https://localhost:8080/",
          "height": 470
        },
        "id": "Cc_oDOmtOPUL",
        "outputId": "bfb619e4-3c48-44ed-8521-d21643904427"
      },
      "execution_count": null,
      "outputs": [
        {
          "output_type": "execute_result",
          "data": {
            "text/plain": [
              "<Axes: >"
            ]
          },
          "metadata": {},
          "execution_count": 187
        },
        {
          "output_type": "display_data",
          "data": {
            "text/plain": [
              "<Figure size 640x480 with 1 Axes>"
            ],
            "image/png": "[encoded data removed]"
          },
          "metadata": {}
        }
      ]
    },
    {
      "cell_type": "code",
      "source": [
        "full_1.boxplot(column=['usd_pledged'])"
      ],
      "metadata": {
        "colab": {
          "base_uri": "https://localhost:8080/",
          "height": 469
        },
        "id": "-pwBRqd8OgvK",
        "outputId": "53ff41b1-5e31-43c6-ecca-98326367672a"
      },
      "execution_count": null,
      "outputs": [
        {
          "output_type": "execute_result",
          "data": {
            "text/plain": [
              "<Axes: >"
            ]
          },
          "metadata": {},
          "execution_count": 188
        },
        {
          "output_type": "display_data",
          "data": {
            "text/plain": [
              "<Figure size 640x480 with 1 Axes>"
            ],
            "image/png": "[encoded data removed]"
          },
          "metadata": {}
        }
      ]
    },
    {
      "cell_type": "code",
      "source": [
        "feature_eda('creator')"
      ],
      "metadata": {
        "colab": {
          "base_uri": "https://localhost:8080/"
        },
        "id": "0ku2-dx4OqkD",
        "outputId": "b649eb3d-30cb-4458-aa91-87e38dc29a27"
      },
      "execution_count": null,
      "outputs": [
        {
          "output_type": "stream",
          "name": "stdout",
          "text": [
            "0    {\"urls\":{\"web\":{\"user\":\"https://www.kickstarte...\n",
            "1    {\"urls\":{\"web\":{\"user\":\"https://www.kickstarte...\n",
            "2    {\"urls\":{\"web\":{\"user\":\"https://www.kickstarte...\n",
            "3    {\"urls\":{\"web\":{\"user\":\"https://www.kickstarte...\n",
            "4    {\"urls\":{\"web\":{\"user\":\"https://www.kickstarte...\n",
            "Name: creator, dtype: object\n",
            "\n",
            "\n",
            "{\"urls\":{\"web\":{\"user\":\"https://www.kickstarter.com/profile/land-boards\"},\"api\":{\"user\":\"https://api.kickstarter.com/v1/users/1546666383?signature=1487284882.82aacc6a0d3bf326d3c618d1ee189124e47abd20\"}},\"name\":\"Doug Gilliland\",\"id\":1546666383,\"avatar\":{\"small\":\"https://ksr-ugc.imgix.net/assets/008/926/025/c888de15946bd3091a62450d5a68f02d_original.JPG?w=160&h=160&fit=crop&v=1480788385&auto=format&q=92&s=80b39e279ecc9afd0596690303dd0261\",\"thumb\":\"https://ksr-ugc.imgix.net/assets/008/926/025/c888de15946bd3091a62450d5a68f02d_original.JPG?w=40&h=40&fit=crop&v=1480788385&auto=format&q=92&s=652b8b0b15352109bee31c6451962acf\",\"medium\":\"https://ksr-ugc.imgix.net/assets/008/926/025/c888de15946bd3091a62450d5a68f02d_original.JPG?w=160&h=160&fit=crop&v=1480788385&auto=format&q=92&s=80b39e279ecc9afd0596690303dd0261\"},\"slug\":\"land-boards\"}    5\n",
            "{\"urls\":{\"web\":{\"user\":\"https://www.kickstarter.com/profile/249225636\"},\"api\":{\"user\":\"https://api.kickstarter.com/v1/users/249225636?signature=1487284909.b09126a1704231dde1b5a933f8bbaafe735a1cb8\"}},\"name\":\"Isaac Porras\",\"id\":249225636,\"avatar\":{\"small\":\"https://ksr-ugc.imgix.net/assets/006/140/208/a40db92224c9a9e6ffc6607063c78261_original.JPG?w=160&h=160&fit=crop&v=1461369119&auto=format&q=92&s=0284be106984899e74e665b24578088e\",\"thumb\":\"https://ksr-ugc.imgix.net/assets/006/140/208/a40db92224c9a9e6ffc6607063c78261_original.JPG?w=40&h=40&fit=crop&v=1461369119&auto=format&q=92&s=959af00aa3ca6b7ea2ca72c850a4c4ef\",\"medium\":\"https://ksr-ugc.imgix.net/assets/006/140/208/a40db92224c9a9e6ffc6607063c78261_original.JPG?w=160&h=160&fit=crop&v=1461369119&auto=format&q=92&s=0284be106984899e74e665b24578088e\"}}                               3\n",
            "{\"urls\":{\"web\":{\"user\":\"https://www.kickstarter.com/profile/programming\"},\"api\":{\"user\":\"https://api.kickstarter.com/v1/users/1006319399?signature=1487284261.76cb5eebfbb22fecf562a5c5c541e2f6ae0f0290\"}},\"name\":\"Ivelin Demirov\",\"id\":1006319399,\"avatar\":{\"small\":\"https://ksr-ugc.imgix.net/assets/007/593/076/519ab40422060499601cc36f119e246d_original.jpg?w=160&h=160&fit=crop&v=1469111132&auto=format&q=92&s=1ffcbc1249b63288d2131220dd4486bf\",\"thumb\":\"https://ksr-ugc.imgix.net/assets/007/593/076/519ab40422060499601cc36f119e246d_original.jpg?w=40&h=40&fit=crop&v=1469111132&auto=format&q=92&s=d153e6685ec7cc53a923e3a5a7ec541e\",\"medium\":\"https://ksr-ugc.imgix.net/assets/007/593/076/519ab40422060499601cc36f119e246d_original.jpg?w=160&h=160&fit=crop&v=1469111132&auto=format&q=92&s=1ffcbc1249b63288d2131220dd4486bf\"},\"slug\":\"programming\"}    3\n",
            "{\"urls\":{\"web\":{\"user\":\"https://www.kickstarter.com/profile/143072809\"},\"api\":{\"user\":\"https://api.kickstarter.com/v1/users/143072809?signature=1487284503.1eb4055c393668289dce9b957e23547a01d94987\"}},\"name\":\"Brian Jepson\",\"id\":143072809,\"avatar\":{\"small\":\"https://ksr-ugc.imgix.net/assets/005/807/730/cdcc8d58967d910edbe70884e53d853e_original.jpeg?w=160&h=160&fit=crop&v=1461086538&auto=format&q=92&s=0146465317d7743b443015c904fa0dff\",\"thumb\":\"https://ksr-ugc.imgix.net/assets/005/807/730/cdcc8d58967d910edbe70884e53d853e_original.jpeg?w=40&h=40&fit=crop&v=1461086538&auto=format&q=92&s=d03abb02c18718e0ad92650493068606\",\"medium\":\"https://ksr-ugc.imgix.net/assets/005/807/730/cdcc8d58967d910edbe70884e53d853e_original.jpeg?w=160&h=160&fit=crop&v=1461086538&auto=format&q=92&s=0146465317d7743b443015c904fa0dff\"}}                            3\n",
            "{\"urls\":{\"web\":{\"user\":\"https://www.kickstarter.com/profile/155208900\"},\"api\":{\"user\":\"https://api.kickstarter.com/v1/users/155208900?signature=1487284889.1649c5d7a6726f7331e53c050e209c5b750f336b\"}},\"name\":\"john buckovetz\",\"id\":155208900,\"avatar\":{\"small\":\"https://ksr-ugc.imgix.net/assets/010/525/302/5a347958195bd02727ac31bfaa015ebf_original.png?w=160&h=160&fit=crop&v=1461695594&auto=format&q=92&s=3bcf190bcb1cd8c79be9c9801839438d\",\"thumb\":\"https://ksr-ugc.imgix.net/assets/010/525/302/5a347958195bd02727ac31bfaa015ebf_original.png?w=40&h=40&fit=crop&v=1461695594&auto=format&q=92&s=0ae0347dfc098bbabb554e9c59530f5f\",\"medium\":\"https://ksr-ugc.imgix.net/assets/010/525/302/5a347958195bd02727ac31bfaa015ebf_original.png?w=160&h=160&fit=crop&v=1461695594&auto=format&q=92&s=3bcf190bcb1cd8c79be9c9801839438d\"}}                             3\n",
            "                                                                                                                                                                                                                                                                                                                                                                                                                                                                                                                                                                                                                                                                                                                                                                                                                                                                     ..\n",
            "{\"urls\":{\"web\":{\"user\":\"https://www.kickstarter.com/profile/homeloansforall\"},\"api\":{\"user\":\"https://api.kickstarter.com/v1/users/1238771276?signature=1487284115.dfb9662d8ce7e12917429052227538567fc87d26\"}},\"name\":\"Randy A. (deleted)\",\"id\":1238771276,\"avatar\":{\"small\":\"https://ksr-ugc.imgix.net/missing_user_avatar.png?w=160&h=160&fit=crop&v=&auto=format&q=92&s=c40e6ddb23a144ee8beca514ec2d6e58\",\"thumb\":\"https://ksr-ugc.imgix.net/missing_user_avatar.png?w=40&h=40&fit=crop&v=&auto=format&q=92&s=8c0db61c92692000c2678b375fc31714\",\"medium\":\"https://ksr-ugc.imgix.net/missing_user_avatar.png?w=160&h=160&fit=crop&v=&auto=format&q=92&s=c40e6ddb23a144ee8beca514ec2d6e58\"},\"slug\":\"homeloansforall\"}                                                                                                                                                 1\n",
            "{\"urls\":{\"web\":{\"user\":\"https://www.kickstarter.com/profile/1401719656\"},\"api\":{\"user\":\"https://api.kickstarter.com/v1/users/1401719656?signature=1487284115.413090991f357b97d8e279c9c6d083e37a78b8aa\"}},\"name\":\"Gordon\",\"id\":1401719656,\"avatar\":{\"small\":\"https://ksr-ugc.imgix.net/assets/009/126/558/256d61334807754dd1c4373f66e5148a_original.JPG?w=160&h=160&fit=crop&v=1461559480&auto=format&q=92&s=213ddd5793e77a9d57dae28c0bc7e49e\",\"thumb\":\"https://ksr-ugc.imgix.net/assets/009/126/558/256d61334807754dd1c4373f66e5148a_original.JPG?w=40&h=40&fit=crop&v=1461559480&auto=format&q=92&s=f1639376e330101673341ed7469fef6f\",\"medium\":\"https://ksr-ugc.imgix.net/assets/009/126/558/256d61334807754dd1c4373f66e5148a_original.JPG?w=160&h=160&fit=crop&v=1461559480&auto=format&q=92&s=213ddd5793e77a9d57dae28c0bc7e49e\"}}                                  1\n",
            "{\"urls\":{\"web\":{\"user\":\"https://www.kickstarter.com/profile/1469191865\"},\"api\":{\"user\":\"https://api.kickstarter.com/v1/users/1469191865?signature=1487284115.b93a2179db2e38d419c84b3c5b8068a1a3f475f5\"}},\"name\":\"Daniel Hood\",\"id\":1469191865,\"avatar\":{\"small\":\"https://ksr-ugc.imgix.net/assets/009/983/395/df61bf34f2b6dcd8c1dc9fa680fbca1a_original.jpg?w=160&h=160&fit=crop&v=1461657458&auto=format&q=92&s=3cf8d46c687a4bae6a5ab7f8e93a754b\",\"thumb\":\"https://ksr-ugc.imgix.net/assets/009/983/395/df61bf34f2b6dcd8c1dc9fa680fbca1a_original.jpg?w=40&h=40&fit=crop&v=1461657458&auto=format&q=92&s=b66beebd8c16e2bfe4628579f7b4f0b9\",\"medium\":\"https://ksr-ugc.imgix.net/assets/009/983/395/df61bf34f2b6dcd8c1dc9fa680fbca1a_original.jpg?w=160&h=160&fit=crop&v=1461657458&auto=format&q=92&s=3cf8d46c687a4bae6a5ab7f8e93a754b\"}}                             1\n",
            "{\"urls\":{\"web\":{\"user\":\"https://www.kickstarter.com/profile/1499759241\"},\"api\":{\"user\":\"https://api.kickstarter.com/v1/users/1499759241?signature=1487284115.2e5444e91cc880fe5ecbc2686a8263711e36edd9\"}},\"name\":\"Ricardo Choi Ro\",\"id\":1499759241,\"avatar\":{\"small\":\"https://ksr-ugc.imgix.net/assets/013/167/731/aa62b9ec280bd5d0ab1ec6daa7f5477a_original.jpg?w=160&h=160&fit=crop&v=1469463405&auto=format&q=92&s=20384e9d52210eaa97396f846628fe45\",\"thumb\":\"https://ksr-ugc.imgix.net/assets/013/167/731/aa62b9ec280bd5d0ab1ec6daa7f5477a_original.jpg?w=40&h=40&fit=crop&v=1469463405&auto=format&q=92&s=9c6c3a14152f8f66ddc0cd0720de018e\",\"medium\":\"https://ksr-ugc.imgix.net/assets/013/167/731/aa62b9ec280bd5d0ab1ec6daa7f5477a_original.jpg?w=160&h=160&fit=crop&v=1469463405&auto=format&q=92&s=20384e9d52210eaa97396f846628fe45\"}}                         1\n",
            "{\"urls\":{\"web\":{\"user\":\"https://www.kickstarter.com/profile/1857230317\"},\"api\":{\"user\":\"https://api.kickstarter.com/v1/users/1857230317?signature=1487284996.a24b80731ebf45186781467bbba2c09f5ca846a9\"}},\"name\":\"Fiona O Doherty\",\"id\":1857230317,\"avatar\":{\"small\":\"https://ksr-ugc.imgix.net/assets/009/286/039/d593ee6793a0a6b845b5413056f4f353_original.jpg?w=160&h=160&fit=crop&v=1461574117&auto=format&q=92&s=5feeacdaf64687a8dbc0e94bc646394d\",\"thumb\":\"https://ksr-ugc.imgix.net/assets/009/286/039/d593ee6793a0a6b845b5413056f4f353_original.jpg?w=40&h=40&fit=crop&v=1461574117&auto=format&q=92&s=f9aea7d46994c5f5457125382d990e99\",\"medium\":\"https://ksr-ugc.imgix.net/assets/009/286/039/d593ee6793a0a6b845b5413056f4f353_original.jpg?w=160&h=160&fit=crop&v=1461574117&auto=format&q=92&s=5feeacdaf64687a8dbc0e94bc646394d\"}}                         1\n",
            "Name: creator, Length: 20522, dtype: int64\n",
            "\n",
            "\n"
          ]
        }
      ]
    },
    {
      "cell_type": "code",
      "source": [
        "feature_eda('location')"
      ],
      "metadata": {
        "colab": {
          "base_uri": "https://localhost:8080/"
        },
        "id": "8PiNEOjMY8CT",
        "outputId": "0d6ab2a2-1791-4829-ebba-aaaca7bbb97d"
      },
      "execution_count": null,
      "outputs": [
        {
          "output_type": "stream",
          "name": "stdout",
          "text": [
            "0    {\"country\":\"US\",\"urls\":{\"web\":{\"discover\":\"htt...\n",
            "1    {\"country\":\"US\",\"urls\":{\"web\":{\"discover\":\"htt...\n",
            "2    {\"country\":\"NG\",\"urls\":{\"web\":{\"discover\":\"htt...\n",
            "3    {\"country\":\"US\",\"urls\":{\"web\":{\"discover\":\"htt...\n",
            "4    {\"country\":\"DE\",\"urls\":{\"web\":{\"discover\":\"htt...\n",
            "Name: location, dtype: object\n",
            "\n",
            "\n",
            "{\"country\":\"GB\",\"urls\":{\"web\":{\"discover\":\"https://www.kickstarter.com/discover/places/london-gb\",\"location\":\"https://www.kickstarter.com/locations/london-gb\"},\"api\":{\"nearby_projects\":\"https://api.kickstarter.com/v1/discover?signature=1487275935.3fd1a29e3904e654fda33e02590c3487346a5be6&woe_id=44418\"}},\"name\":\"London\",\"displayable_name\":\"London, UK\",\"short_name\":\"London, UK\",\"id\":44418,\"state\":\"England\",\"type\":\"Town\",\"is_root\":false,\"slug\":\"london-gb\"}                                                                                           550\n",
            "{\"country\":\"US\",\"urls\":{\"web\":{\"discover\":\"https://www.kickstarter.com/discover/places/new-york-ny\",\"location\":\"https://www.kickstarter.com/locations/new-york-ny\"},\"api\":{\"nearby_projects\":\"https://api.kickstarter.com/v1/discover?signature=1487275939.b1a505f359634dc0bd1c28204ff26762b0d8d902&woe_id=2459115\"}},\"name\":\"New York\",\"displayable_name\":\"New York, NY\",\"short_name\":\"New York, NY\",\"id\":2459115,\"state\":\"NY\",\"type\":\"Town\",\"is_root\":false,\"slug\":\"new-york-ny\"}                                                                                471\n",
            "{\"country\":\"US\",\"urls\":{\"web\":{\"discover\":\"https://www.kickstarter.com/discover/places/los-angeles-ca\",\"location\":\"https://www.kickstarter.com/locations/los-angeles-ca\"},\"api\":{\"nearby_projects\":\"https://api.kickstarter.com/v1/discover?signature=1487284342.729f734403b8671479e32323ba78ade27c0bafd3&woe_id=2442047\"}},\"name\":\"Los Angeles\",\"displayable_name\":\"Los Angeles, CA\",\"short_name\":\"Los Angeles, CA\",\"id\":2442047,\"state\":\"CA\",\"type\":\"Town\",\"is_root\":false,\"slug\":\"los-angeles-ca\"}                                                              334\n",
            "{\"country\":\"GB\",\"urls\":{\"web\":{\"discover\":\"https://www.kickstarter.com/discover/places/london-gb\",\"location\":\"https://www.kickstarter.com/locations/london-gb\"},\"api\":{\"nearby_projects\":\"https://api.kickstarter.com/v1/discover?signature=1487284344.62bb2c371f9fabb9c0015327716bf21a466ac781&woe_id=44418\"}},\"name\":\"London\",\"displayable_name\":\"London, UK\",\"short_name\":\"London, UK\",\"id\":44418,\"state\":\"England\",\"type\":\"Town\",\"is_root\":false,\"slug\":\"london-gb\"}                                                                                           299\n",
            "{\"country\":\"US\",\"urls\":{\"web\":{\"discover\":\"https://www.kickstarter.com/discover/places/los-angeles-ca\",\"location\":\"https://www.kickstarter.com/locations/los-angeles-ca\"},\"api\":{\"nearby_projects\":\"https://api.kickstarter.com/v1/discover?signature=1487275937.c9411d19851f5f05714eda28ba8c0ba94d92bfa6&woe_id=2442047\"}},\"name\":\"Los Angeles\",\"displayable_name\":\"Los Angeles, CA\",\"short_name\":\"Los Angeles, CA\",\"id\":2442047,\"state\":\"CA\",\"type\":\"Town\",\"is_root\":false,\"slug\":\"los-angeles-ca\"}                                                              293\n",
            "                                                                                                                                                                                                                                                                                                                                                                                                                                                                                                                                                                  ... \n",
            "{\"country\":\"FR\",\"urls\":{\"web\":{\"discover\":\"https://www.kickstarter.com/discover/places/vesoul-upper-saone-fr\",\"location\":\"https://www.kickstarter.com/locations/vesoul-upper-saone-fr\"},\"api\":{\"nearby_projects\":\"https://api.kickstarter.com/v1/discover?signature=1487280740.10deb924a90794ef4488705fec17ef44b56871fb&woe_id=12654258\"}},\"name\":\"Vesoul\",\"displayable_name\":\"Vesoul, France\",\"short_name\":\"Vesoul, France\",\"id\":12654258,\"state\":\"Franche-Comte\",\"type\":\"LocalAdmin\",\"is_root\":false,\"slug\":\"vesoul-upper-saone-fr\"}                               1\n",
            "{\"country\":\"US\",\"urls\":{\"web\":{\"discover\":\"https://www.kickstarter.com/discover/places/mckeesport-pa\",\"location\":\"https://www.kickstarter.com/locations/mckeesport-pa\"},\"api\":{\"nearby_projects\":\"https://api.kickstarter.com/v1/discover?signature=1487275986.d7fffabd89fe35abedba82f936cd38f8ce8573d9&woe_id=2448119\"}},\"name\":\"Mckeesport\",\"displayable_name\":\"Mckeesport, PA\",\"short_name\":\"Mckeesport, PA\",\"id\":2448119,\"state\":\"PA\",\"type\":\"Town\",\"is_root\":false,\"slug\":\"mckeesport-pa\"}                                                                      1\n",
            "{\"country\":\"US\",\"urls\":{\"web\":{\"discover\":\"https://www.kickstarter.com/discover/places/uniontown-belmont-oh\",\"location\":\"https://www.kickstarter.com/locations/uniontown-belmont-oh\"},\"api\":{\"nearby_projects\":\"https://api.kickstarter.com/v1/discover?signature=1487278143.e052877846bd49731b1ab6178abf232a6412e9b1&woe_id=2509958\"}},\"name\":\"Uniontown\",\"displayable_name\":\"Uniontown, OH\",\"short_name\":\"Uniontown, OH\",\"id\":2509958,\"state\":\"OH\",\"type\":\"Town\",\"is_root\":false,\"slug\":\"uniontown-belmont-oh\"}                                                    1\n",
            "{\"country\":\"NL\",\"urls\":{\"web\":{\"discover\":\"https://www.kickstarter.com/discover/places/hilversum-nl\",\"location\":\"https://www.kickstarter.com/locations/hilversum-nl\"},\"api\":{\"nearby_projects\":\"https://api.kickstarter.com/v1/discover?signature=1487275964.e698dec8ee2568fcc22a3325418da6ceea708aa2&woe_id=730138\"}},\"name\":\"Hilversum\",\"displayable_name\":\"Hilversum, Netherlands\",\"short_name\":\"Hilversum, Netherlands\",\"id\":730138,\"state\":\"North Holland\",\"type\":\"Town\",\"is_root\":false,\"slug\":\"hilversum-nl\"}                                                 1\n",
            "{\"country\":\"DE\",\"urls\":{\"web\":{\"discover\":\"https://www.kickstarter.com/discover/places/ebersberg-gemeinde-ebersberg-de\",\"location\":\"https://www.kickstarter.com/locations/ebersberg-gemeinde-ebersberg-de\"},\"api\":{\"nearby_projects\":\"https://api.kickstarter.com/v1/discover?signature=1487284996.7e880875165e00c91865061e40f32a22dd75f854&woe_id=646245\"}},\"name\":\"Ebersberg\",\"displayable_name\":\"Ebersberg, Germany\",\"short_name\":\"Ebersberg, Germany\",\"id\":646245,\"state\":\"Bavaria\",\"type\":\"Town\",\"is_root\":false,\"slug\":\"ebersberg-gemeinde-ebersberg-de\"}      1\n",
            "Name: location, Length: 5178, dtype: int64\n",
            "\n",
            "\n"
          ]
        }
      ]
    },
    {
      "cell_type": "code",
      "source": [
        "feature_eda('category')"
      ],
      "metadata": {
        "colab": {
          "base_uri": "https://localhost:8080/"
        },
        "id": "xVPZfYKZatOM",
        "outputId": "c68c5131-2d92-4aec-98d9-1c74bc23a62d"
      },
      "execution_count": null,
      "outputs": [
        {
          "output_type": "stream",
          "name": "stdout",
          "text": [
            "0    Academic\n",
            "1    Academic\n",
            "2    Academic\n",
            "3    Academic\n",
            "4    Academic\n",
            "Name: category, dtype: object\n",
            "\n",
            "\n",
            "Web             3325\n",
            "Hardware        3248\n",
            "Software        2631\n",
            "Gadgets         2336\n",
            "Plays           1184\n",
            "Apps            1168\n",
            "Wearables        971\n",
            "Musical          791\n",
            "Sound            528\n",
            "Festivals        482\n",
            "Robots           473\n",
            "Flight           373\n",
            "Experimental     321\n",
            "Immersive        277\n",
            "Makerspaces      203\n",
            "Spaces           182\n",
            "Places           100\n",
            "Shorts            40\n",
            "Thrillers         20\n",
            "Webseries         20\n",
            "Restaurants       20\n",
            "Blues             20\n",
            "Academic          20\n",
            "Comedy            10\n",
            "Name: category, dtype: int64\n",
            "\n",
            "\n"
          ]
        }
      ]
    },
    {
      "cell_type": "code",
      "source": [
        "feature_eda('profile')"
      ],
      "metadata": {
        "colab": {
          "base_uri": "https://localhost:8080/"
        },
        "id": "dBgmQvDfbHEb",
        "outputId": "ee923b15-64f7-4b5b-959a-ffa9385d1629"
      },
      "execution_count": null,
      "outputs": [
        {
          "output_type": "stream",
          "name": "stdout",
          "text": [
            "0    {\"background_image_opacity\":0.8,\"should_show_f...\n",
            "1    {\"background_image_opacity\":0.8,\"should_show_f...\n",
            "2    {\"background_image_opacity\":0.8,\"should_show_f...\n",
            "3    {\"background_image_opacity\":0.8,\"should_show_f...\n",
            "4    {\"background_image_opacity\":0.8,\"should_show_f...\n",
            "Name: profile, dtype: object\n",
            "\n",
            "\n",
            "{\"background_image_opacity\":0.8,\"should_show_feature_image_section\":true,\"link_text_color\":null,\"state_changed_at\":1425915885,\"blurb\":null,\"background_color\":null,\"project_id\":1546341,\"name\":null,\"feature_image_attributes\":{\"image_urls\":{\"default\":\"https://ksr-ugc.imgix.net/assets/011/959/953/4e53aa51f82e9764b135307761da1cde_original.JPG?w=1552&h=873&fit=fill&bg=000000&v=1463719439&auto=format&q=92&s=70c684eaeb2b96fff3283fa72daeabee\",\"baseball_card\":\"https://ksr-ugc.imgix.net/assets/011/959/953/4e53aa51f82e9764b135307761da1cde_original.JPG?w=1552&h=873&fit=fill&bg=000000&v=1463719439&auto=format&q=92&s=70c684eaeb2b96fff3283fa72daeabee\"}},\"link_url\":null,\"show_feature_image\":false,\"id\":1546341,\"state\":\"inactive\",\"text_color\":null,\"link_text\":null,\"link_background_color\":null}    1\n",
            "{\"background_image_opacity\":0.8,\"should_show_feature_image_section\":true,\"link_text_color\":null,\"state_changed_at\":1425915845,\"blurb\":null,\"background_color\":null,\"project_id\":831917,\"name\":null,\"feature_image_attributes\":{\"image_urls\":{\"default\":\"https://ksr-ugc.imgix.net/assets/011/629/055/7107e879438ff159da1e5562b4635d8d_original.jpg?w=1552&h=873&fit=fill&bg=000000&v=1463685804&auto=format&q=92&s=5c88d40ba9e6011b61e5430c9bf2efd3\",\"baseball_card\":\"https://ksr-ugc.imgix.net/assets/011/629/055/7107e879438ff159da1e5562b4635d8d_original.jpg?w=1552&h=873&fit=fill&bg=000000&v=1463685804&auto=format&q=92&s=5c88d40ba9e6011b61e5430c9bf2efd3\"}},\"link_url\":null,\"show_feature_image\":false,\"id\":831917,\"state\":\"inactive\",\"text_color\":null,\"link_text\":null,\"link_background_color\":null}      1\n",
            "{\"background_image_opacity\":0.8,\"should_show_feature_image_section\":true,\"link_text_color\":null,\"state_changed_at\":1425915826,\"blurb\":null,\"background_color\":null,\"project_id\":473902,\"name\":null,\"feature_image_attributes\":{\"image_urls\":{\"default\":\"https://ksr-ugc.imgix.net/assets/011/482/002/c747b5a3c8b7012468bf5583e9ce1392_original.jpg?w=1552&h=873&fit=fill&bg=000000&v=1463683338&auto=format&q=92&s=c937a53e370131864d74475b155d1823\",\"baseball_card\":\"https://ksr-ugc.imgix.net/assets/011/482/002/c747b5a3c8b7012468bf5583e9ce1392_original.jpg?w=1552&h=873&fit=fill&bg=000000&v=1463683338&auto=format&q=92&s=c937a53e370131864d74475b155d1823\"}},\"link_url\":null,\"show_feature_image\":false,\"id\":473902,\"state\":\"inactive\",\"text_color\":null,\"link_text\":null,\"link_background_color\":null}      1\n",
            "{\"background_image_opacity\":0.8,\"should_show_feature_image_section\":true,\"link_text_color\":null,\"state_changed_at\":1425915851,\"blurb\":null,\"background_color\":null,\"project_id\":937955,\"name\":null,\"feature_image_attributes\":{\"image_urls\":{\"default\":\"https://ksr-ugc.imgix.net/assets/011/670/341/aa99bf7686dd955e7de1108cee05c256_original.JPG?w=1552&h=873&fit=fill&bg=000000&v=1463686568&auto=format&q=92&s=d7786ed274a484432cb992fe62845afb\",\"baseball_card\":\"https://ksr-ugc.imgix.net/assets/011/670/341/aa99bf7686dd955e7de1108cee05c256_original.JPG?w=1552&h=873&fit=fill&bg=000000&v=1463686568&auto=format&q=92&s=d7786ed274a484432cb992fe62845afb\"}},\"link_url\":null,\"show_feature_image\":false,\"id\":937955,\"state\":\"inactive\",\"text_color\":null,\"link_text\":null,\"link_background_color\":null}      1\n",
            "{\"background_image_opacity\":0.8,\"should_show_feature_image_section\":true,\"link_text_color\":null,\"state_changed_at\":1425915825,\"blurb\":null,\"background_color\":null,\"project_id\":454070,\"name\":null,\"feature_image_attributes\":{\"image_urls\":{\"default\":\"https://ksr-ugc.imgix.net/assets/011/473/399/00b82dc62fae7f462ed7996bebde16ee_original.png?w=1552&h=873&fit=fill&bg=000000&v=1463683197&auto=format&q=92&s=d76fb5a8b731df3056d474b376d59a86\",\"baseball_card\":\"https://ksr-ugc.imgix.net/assets/011/473/399/00b82dc62fae7f462ed7996bebde16ee_original.png?w=1552&h=873&fit=fill&bg=000000&v=1463683197&auto=format&q=92&s=d76fb5a8b731df3056d474b376d59a86\"}},\"link_url\":null,\"show_feature_image\":false,\"id\":454070,\"state\":\"inactive\",\"text_color\":null,\"link_text\":null,\"link_background_color\":null}      1\n",
            "                                                                                                                                                                                                                                                                                                                                                                                                                                                                                                                                                                                                                                                                                                                                                                                                                    ..\n",
            "{\"background_image_opacity\":0.8,\"should_show_feature_image_section\":true,\"link_text_color\":null,\"state_changed_at\":1425915870,\"blurb\":null,\"background_color\":null,\"project_id\":1269461,\"name\":null,\"feature_image_attributes\":{\"image_urls\":{\"default\":\"https://ksr-ugc.imgix.net/assets/011/826/429/2a165fcbf88e63d4766ad8268a6882e6_original.jpg?w=1552&h=873&fit=fill&bg=000000&v=1463700325&auto=format&q=92&s=a1a69f883a1024641c665851281a30ca\",\"baseball_card\":\"https://ksr-ugc.imgix.net/assets/011/826/429/2a165fcbf88e63d4766ad8268a6882e6_original.jpg?w=1552&h=873&fit=fill&bg=000000&v=1463700325&auto=format&q=92&s=a1a69f883a1024641c665851281a30ca\"}},\"link_url\":null,\"show_feature_image\":false,\"id\":1269461,\"state\":\"inactive\",\"text_color\":null,\"link_text\":null,\"link_background_color\":null}    1\n",
            "{\"background_image_opacity\":0.8,\"should_show_feature_image_section\":true,\"link_text_color\":null,\"state_changed_at\":1427895503,\"blurb\":null,\"background_color\":null,\"project_id\":1813915,\"name\":null,\"feature_image_attributes\":{\"image_urls\":{\"default\":\"https://ksr-ugc.imgix.net/assets/012/092/546/0abfc782cb750779417b153f553c7250_original.jpg?w=1552&h=873&fit=fill&bg=000000&v=1463731184&auto=format&q=92&s=70d15b31af19fd081ed37ccb3cd2f2b2\",\"baseball_card\":\"https://ksr-ugc.imgix.net/assets/012/092/546/0abfc782cb750779417b153f553c7250_original.jpg?w=1552&h=873&fit=fill&bg=000000&v=1463731184&auto=format&q=92&s=70d15b31af19fd081ed37ccb3cd2f2b2\"}},\"link_url\":null,\"show_feature_image\":false,\"id\":1813915,\"state\":\"inactive\",\"text_color\":null,\"link_text\":null,\"link_background_color\":null}    1\n",
            "{\"background_image_opacity\":0.8,\"should_show_feature_image_section\":true,\"link_text_color\":null,\"state_changed_at\":1425915893,\"blurb\":null,\"background_color\":null,\"project_id\":1700999,\"name\":null,\"feature_image_attributes\":{\"image_urls\":{\"default\":\"https://ksr-ugc.imgix.net/assets/012/034/753/303cc7499dfe12fdefc05b8541fa0828_original.jpg?w=1552&h=873&fit=fill&bg=000000&v=1463725927&auto=format&q=92&s=0bd94dd9e3d6079d0da3354760e43c84\",\"baseball_card\":\"https://ksr-ugc.imgix.net/assets/012/034/753/303cc7499dfe12fdefc05b8541fa0828_original.jpg?w=1552&h=873&fit=fill&bg=000000&v=1463725927&auto=format&q=92&s=0bd94dd9e3d6079d0da3354760e43c84\"}},\"link_url\":null,\"show_feature_image\":false,\"id\":1700999,\"state\":\"inactive\",\"text_color\":null,\"link_text\":null,\"link_background_color\":null}    1\n",
            "{\"background_image_opacity\":0.8,\"should_show_feature_image_section\":true,\"link_text_color\":null,\"state_changed_at\":1441098744,\"blurb\":null,\"background_color\":null,\"project_id\":2097254,\"name\":null,\"feature_image_attributes\":{\"image_urls\":{\"default\":\"https://ksr-ugc.imgix.net/assets/012/239/899/fe6eb25fd7c0a4c0200219a28a489f9c_original.png?w=1552&h=873&fit=fill&bg=000000&v=1463745397&auto=format&q=92&s=375dfb0c25266480947a9c0ba9556474\",\"baseball_card\":\"https://ksr-ugc.imgix.net/assets/012/239/899/fe6eb25fd7c0a4c0200219a28a489f9c_original.png?w=1552&h=873&fit=fill&bg=000000&v=1463745397&auto=format&q=92&s=375dfb0c25266480947a9c0ba9556474\"}},\"link_url\":null,\"show_feature_image\":false,\"id\":2097254,\"state\":\"inactive\",\"text_color\":null,\"link_text\":null,\"link_background_color\":null}    1\n",
            "{\"background_image_opacity\":0.8,\"should_show_feature_image_section\":true,\"link_text_color\":null,\"state_changed_at\":1425915877,\"blurb\":null,\"background_color\":null,\"project_id\":1392604,\"name\":null,\"feature_image_attributes\":{\"image_urls\":{\"default\":\"https://ksr-ugc.imgix.net/assets/011/885/281/fef07d98c58402ed069f57b77011a54f_original.png?w=1552&h=873&fit=fill&bg=000000&v=1463710217&auto=format&q=92&s=6a783c522e07b73a672ae579925a30e3\",\"baseball_card\":\"https://ksr-ugc.imgix.net/assets/011/885/281/fef07d98c58402ed069f57b77011a54f_original.png?w=1552&h=873&fit=fill&bg=000000&v=1463710217&auto=format&q=92&s=6a783c522e07b73a672ae579925a30e3\"}},\"link_url\":null,\"show_feature_image\":false,\"id\":1392604,\"state\":\"inactive\",\"text_color\":null,\"link_text\":null,\"link_background_color\":null}    1\n",
            "Name: profile, Length: 20632, dtype: int64\n",
            "\n",
            "\n"
          ]
        }
      ]
    },
    {
      "cell_type": "code",
      "source": [
        "feature_eda('spotlight')"
      ],
      "metadata": {
        "colab": {
          "base_uri": "https://localhost:8080/"
        },
        "id": "LyLg2xgobM_E",
        "outputId": "65401dc3-9c41-4a5d-b2d3-8be73db7bff2"
      },
      "execution_count": null,
      "outputs": [
        {
          "output_type": "stream",
          "name": "stdout",
          "text": [
            "0    False\n",
            "1    False\n",
            "2    False\n",
            "3    False\n",
            "4    False\n",
            "Name: spotlight, dtype: bool\n",
            "\n",
            "\n",
            "False    14614\n",
            "True      6018\n",
            "Name: spotlight, dtype: int64\n",
            "\n",
            "\n"
          ]
        }
      ]
    },
    {
      "cell_type": "code",
      "source": [
        "feature_eda('urls')"
      ],
      "metadata": {
        "colab": {
          "base_uri": "https://localhost:8080/"
        },
        "id": "yG2MZfUsbQ-G",
        "outputId": "504587e1-01e8-4db2-b3ac-9f6258d6e2fc"
      },
      "execution_count": null,
      "outputs": [
        {
          "output_type": "stream",
          "name": "stdout",
          "text": [
            "0    {\"web\":{\"project\":\"https://www.kickstarter.com...\n",
            "1    {\"web\":{\"project\":\"https://www.kickstarter.com...\n",
            "2    {\"web\":{\"project\":\"https://www.kickstarter.com...\n",
            "3    {\"web\":{\"project\":\"https://www.kickstarter.com...\n",
            "4    {\"web\":{\"project\":\"https://www.kickstarter.com...\n",
            "Name: urls, dtype: object\n",
            "\n",
            "\n",
            "{\"web\":{\"project\":\"https://www.kickstarter.com/projects/1469579873/auntie-dis-music-time-sign-asl-for-hearing-and-hoh?ref=category\",\"rewards\":\"https://www.kickstarter.com/projects/1469579873/auntie-dis-music-time-sign-asl-for-hearing-and-hoh/rewards\"}}    1\n",
            "{\"web\":{\"project\":\"https://www.kickstarter.com/projects/okaytotell/jackie-and-the-beanstalk-a-re-spun-yarn?ref=category\",\"rewards\":\"https://www.kickstarter.com/projects/okaytotell/jackie-and-the-beanstalk-a-re-spun-yarn/rewards\"}}                          1\n",
            "{\"web\":{\"project\":\"https://www.kickstarter.com/projects/piq/piq-a-jukebox-for-social-spaces?ref=category\",\"rewards\":\"https://www.kickstarter.com/projects/piq/piq-a-jukebox-for-social-spaces/rewards\"}}                                                        1\n",
            "{\"web\":{\"project\":\"https://www.kickstarter.com/projects/motool/presenting-slacker-a-revolutionary-new-tool?ref=category\",\"rewards\":\"https://www.kickstarter.com/projects/motool/presenting-slacker-a-revolutionary-new-tool/rewards\"}}                          1\n",
            "{\"web\":{\"project\":\"https://www.kickstarter.com/projects/1880021630/energybridge-solar-power-grid-tie-and-backup-in-on?ref=category\",\"rewards\":\"https://www.kickstarter.com/projects/1880021630/energybridge-solar-power-grid-tie-and-backup-in-on/rewards\"}}    1\n",
            "                                                                                                                                                                                                                                                               ..\n",
            "{\"web\":{\"project\":\"https://www.kickstarter.com/projects/391352938/breanna-jean?ref=category\",\"rewards\":\"https://www.kickstarter.com/projects/391352938/breanna-jean/rewards\"}}                                                                                  1\n",
            "{\"web\":{\"project\":\"https://www.kickstarter.com/projects/254998388/website-building-app?ref=category\",\"rewards\":\"https://www.kickstarter.com/projects/254998388/website-building-app/rewards\"}}                                                                  1\n",
            "{\"web\":{\"project\":\"https://www.kickstarter.com/projects/789366595/website-for-parents-of-twins-and-multiples?ref=category\",\"rewards\":\"https://www.kickstarter.com/projects/789366595/website-for-parents-of-twins-and-multiples/rewards\"}}                      1\n",
            "{\"web\":{\"project\":\"https://www.kickstarter.com/projects/2011577162/annuaire-des-artisans-marocains-sans-moyen-de-mark?ref=category\",\"rewards\":\"https://www.kickstarter.com/projects/2011577162/annuaire-des-artisans-marocains-sans-moyen-de-mark/rewards\"}}    1\n",
            "{\"web\":{\"project\":\"https://www.kickstarter.com/projects/1857230317/lets-trail-app?ref=category\",\"rewards\":\"https://www.kickstarter.com/projects/1857230317/lets-trail-app/rewards\"}}                                                                            1\n",
            "Name: urls, Length: 20632, dtype: int64\n",
            "\n",
            "\n"
          ]
        }
      ]
    },
    {
      "cell_type": "code",
      "source": [
        "feature_eda('source_url')"
      ],
      "metadata": {
        "colab": {
          "base_uri": "https://localhost:8080/"
        },
        "id": "wcDQnaG9bXXR",
        "outputId": "364f4020-2233-4cb9-c5c3-029dfc4c7289"
      },
      "execution_count": null,
      "outputs": [
        {
          "output_type": "stream",
          "name": "stdout",
          "text": [
            "0    https://www.kickstarter.com/discover/categorie...\n",
            "1    https://www.kickstarter.com/discover/categorie...\n",
            "2    https://www.kickstarter.com/discover/categorie...\n",
            "3    https://www.kickstarter.com/discover/categorie...\n",
            "4    https://www.kickstarter.com/discover/categorie...\n",
            "Name: source_url, dtype: object\n",
            "\n",
            "\n",
            "https://www.kickstarter.com/discover/categories/technology/web?ref=category_modal&sort=magic                       3325\n",
            "https://www.kickstarter.com/discover/categories/technology/hardware?ref=category_modal&sort=magic                  3248\n",
            "https://www.kickstarter.com/discover/categories/technology/software?ref=category_modal&sort=magic                  2631\n",
            "https://www.kickstarter.com/discover/categories/technology/gadgets?ref=category_modal&sort=magic                   2336\n",
            "https://www.kickstarter.com/discover/categories/theater/plays?ref=category_modal&sort=magic                        1184\n",
            "https://www.kickstarter.com/discover/categories/technology/apps?ref=category_modal&sort=magic                      1168\n",
            "https://www.kickstarter.com/discover/categories/technology/wearables?ref=category_modal&sort=magic                  971\n",
            "https://www.kickstarter.com/discover/categories/theater/musical?ref=category_modal&sort=magic                       791\n",
            "https://www.kickstarter.com/discover/categories/technology/diy%20electronics?ref=category_modal&sort=magic          735\n",
            "https://www.kickstarter.com/discover/categories/technology/sound?ref=category_modal&sort=magic                      528\n",
            "https://www.kickstarter.com/discover/categories/theater/festivals?ref=category_modal&sort=magic                     482\n",
            "https://www.kickstarter.com/discover/categories/technology/robots?ref=category_modal&sort=magic                     473\n",
            "https://www.kickstarter.com/discover/categories/technology/flight?ref=category_modal&sort=magic                     373\n",
            "https://www.kickstarter.com/discover/categories/technology/camera%20equipment?ref=category_modal&sort=magic         337\n",
            "https://www.kickstarter.com/discover/categories/theater/experimental?ref=category_modal&sort=magic                  321\n",
            "https://www.kickstarter.com/discover/categories/theater/immersive?ref=category_modal&sort=magic                     277\n",
            "https://www.kickstarter.com/discover/categories/technology/space%20exploration?ref=category_modal&sort=magic        270\n",
            "https://www.kickstarter.com/discover/categories/technology/fabrication%20tools?ref=category_modal&sort=magic        207\n",
            "https://www.kickstarter.com/discover/categories/technology/makerspaces?ref=category_modal&sort=magic                203\n",
            "https://www.kickstarter.com/discover/categories/theater/spaces?ref=category_modal&sort=magic                        182\n",
            "https://www.kickstarter.com/discover/categories/games/video%20games?ref=category_modal&sort=magic                   140\n",
            "https://www.kickstarter.com/discover/categories/photography/places?ref=category_modal&sort=magic                    100\n",
            "https://www.kickstarter.com/discover/categories/music/electronic%20music?ref=category_modal&sort=magic               60\n",
            "https://www.kickstarter.com/discover/categories/music/country%20&%20folk?ref=category_modal&sort=magic               60\n",
            "https://www.kickstarter.com/discover/categories/music/classical%20music?ref=category_modal&sort=magic                40\n",
            "https://www.kickstarter.com/discover/categories/film%20&%20video/narrative%20film?ref=category_modal&sort=magic      40\n",
            "https://www.kickstarter.com/discover/categories/film%20&%20video/shorts?ref=category_modal&sort=magic                40\n",
            "https://www.kickstarter.com/discover/categories/music/blues?ref=category_modal&sort=magic                            20\n",
            "https://www.kickstarter.com/discover/categories/food/restaurants?ref=category_modal&sort=magic                       20\n",
            "https://www.kickstarter.com/discover/categories/film%20&%20video/webseries?ref=category_modal&sort=magic             20\n",
            "https://www.kickstarter.com/discover/categories/film%20&%20video/thrillers?ref=category_modal&sort=magic             20\n",
            "https://www.kickstarter.com/discover/categories/publishing/academic?ref=category_modal&sort=magic                    20\n",
            "https://www.kickstarter.com/discover/categories/theater/comedy?ref=category_modal&sort=magic                         10\n",
            "Name: source_url, dtype: int64\n",
            "\n",
            "\n"
          ]
        }
      ]
    },
    {
      "cell_type": "code",
      "source": [
        "feature_eda('name_len')"
      ],
      "metadata": {
        "colab": {
          "base_uri": "https://localhost:8080/"
        },
        "id": "3e3XURuhbre8",
        "outputId": "6093610b-c207-48b5-e7fc-e2e7c5d176f0"
      },
      "execution_count": null,
      "outputs": [
        {
          "output_type": "stream",
          "name": "stdout",
          "text": [
            "0    11.0\n",
            "1     4.0\n",
            "2     8.0\n",
            "3     7.0\n",
            "4     7.0\n",
            "Name: name_len, dtype: float64\n",
            "\n",
            "\n",
            "8.0     2610\n",
            "7.0     2531\n",
            "6.0     2298\n",
            "5.0     2074\n",
            "4.0     2030\n",
            "9.0     2022\n",
            "3.0     1962\n",
            "2.0     1568\n",
            "1.0     1346\n",
            "10.0    1291\n",
            "11.0     630\n",
            "12.0     209\n",
            "13.0      40\n",
            "14.0       9\n",
            "15.0       6\n",
            "16.0       1\n",
            "Name: name_len, dtype: int64\n",
            "\n",
            "\n"
          ]
        }
      ]
    },
    {
      "cell_type": "code",
      "source": [
        "feature_eda('name_len_clean')"
      ],
      "metadata": {
        "colab": {
          "base_uri": "https://localhost:8080/"
        },
        "id": "0e9px-rYeadX",
        "outputId": "e002ca70-1b07-46e2-a4a8-4018709414d7"
      },
      "execution_count": null,
      "outputs": [
        {
          "output_type": "stream",
          "name": "stdout",
          "text": [
            "0    9.0\n",
            "1    4.0\n",
            "2    8.0\n",
            "3    6.0\n",
            "4    7.0\n",
            "Name: name_len_clean, dtype: float64\n",
            "\n",
            "\n",
            "6.0     3128\n",
            "7.0     2941\n",
            "5.0     2727\n",
            "4.0     2449\n",
            "3.0     2264\n",
            "8.0     2123\n",
            "2.0     1781\n",
            "1.0     1356\n",
            "9.0     1164\n",
            "10.0     485\n",
            "11.0     157\n",
            "12.0      41\n",
            "13.0       9\n",
            "14.0       2\n",
            "Name: name_len_clean, dtype: int64\n",
            "\n",
            "\n"
          ]
        }
      ]
    },
    {
      "cell_type": "code",
      "source": [
        "feature_eda('blurb_len')"
      ],
      "metadata": {
        "colab": {
          "base_uri": "https://localhost:8080/"
        },
        "id": "ZSsEPt-wbvk5",
        "outputId": "6dc5f8ab-5c78-4aac-f151-ec9bb005c7be"
      },
      "execution_count": null,
      "outputs": [
        {
          "output_type": "stream",
          "name": "stdout",
          "text": [
            "0    21.0\n",
            "1    23.0\n",
            "2    18.0\n",
            "3    21.0\n",
            "4    18.0\n",
            "Name: blurb_len, dtype: float64\n",
            "\n",
            "\n",
            "20.0    2202\n",
            "21.0    2178\n",
            "22.0    2081\n",
            "19.0    1963\n",
            "23.0    1720\n",
            "18.0    1573\n",
            "17.0    1268\n",
            "24.0    1214\n",
            "16.0     949\n",
            "25.0     793\n",
            "15.0     769\n",
            "14.0     581\n",
            "13.0     506\n",
            "12.0     426\n",
            "26.0     425\n",
            "11.0     353\n",
            "9.0      278\n",
            "10.0     276\n",
            "8.0      210\n",
            "27.0     205\n",
            "7.0      168\n",
            "6.0      123\n",
            "5.0       88\n",
            "28.0      79\n",
            "4.0       54\n",
            "3.0       37\n",
            "1.0       37\n",
            "29.0      35\n",
            "2.0       18\n",
            "30.0      13\n",
            "31.0       4\n",
            "35.0       1\n",
            "Name: blurb_len, dtype: int64\n",
            "\n",
            "\n"
          ]
        }
      ]
    },
    {
      "cell_type": "code",
      "source": [
        "feature_eda('blurb_len_clean')"
      ],
      "metadata": {
        "colab": {
          "base_uri": "https://localhost:8080/"
        },
        "id": "CYYcSXmGgsdb",
        "outputId": "c876e097-45a6-4bbc-861e-115d4e3ed8db"
      },
      "execution_count": null,
      "outputs": [
        {
          "output_type": "stream",
          "name": "stdout",
          "text": [
            "0    16.0\n",
            "1    15.0\n",
            "2    10.0\n",
            "3    13.0\n",
            "4    18.0\n",
            "Name: blurb_len_clean, dtype: float64\n",
            "\n",
            "\n",
            "14.0    3169\n",
            "13.0    2877\n",
            "15.0    2597\n",
            "12.0    2347\n",
            "16.0    1846\n",
            "11.0    1597\n",
            "17.0    1118\n",
            "10.0    1111\n",
            "9.0      756\n",
            "8.0      605\n",
            "18.0     598\n",
            "7.0      504\n",
            "6.0      326\n",
            "19.0     303\n",
            "5.0      237\n",
            "20.0     162\n",
            "4.0      124\n",
            "21.0      78\n",
            "22.0      64\n",
            "3.0       63\n",
            "1.0       38\n",
            "2.0       32\n",
            "23.0      32\n",
            "24.0      20\n",
            "25.0      15\n",
            "28.0       5\n",
            "26.0       1\n",
            "27.0       1\n",
            "30.0       1\n",
            "Name: blurb_len_clean, dtype: int64\n",
            "\n",
            "\n"
          ]
        }
      ]
    },
    {
      "cell_type": "code",
      "source": [
        "feature_eda('deadline_weekday')"
      ],
      "metadata": {
        "colab": {
          "base_uri": "https://localhost:8080/"
        },
        "id": "rDpquUtqgxnY",
        "outputId": "3e9550de-ce31-4c66-e259-68ad74a24cf1"
      },
      "execution_count": null,
      "outputs": [
        {
          "output_type": "stream",
          "name": "stdout",
          "text": [
            "0      Friday\n",
            "1      Friday\n",
            "2    Thursday\n",
            "3      Monday\n",
            "4      Monday\n",
            "Name: deadline_weekday, dtype: object\n",
            "\n",
            "\n",
            "Friday       3764\n",
            "Thursday     3444\n",
            "Wednesday    3202\n",
            "Sunday       3041\n",
            "Saturday     2984\n",
            "Monday       2221\n",
            "Tuesday      1976\n",
            "Name: deadline_weekday, dtype: int64\n",
            "\n",
            "\n"
          ]
        }
      ]
    },
    {
      "cell_type": "code",
      "source": [
        "feature_eda('state_changed_at_weekday')"
      ],
      "metadata": {
        "colab": {
          "base_uri": "https://localhost:8080/"
        },
        "id": "BsCmG1jbg9rm",
        "outputId": "4b9ffe04-cba0-4cc6-8798-1a9cf47f81a6"
      },
      "execution_count": null,
      "outputs": [
        {
          "output_type": "stream",
          "name": "stdout",
          "text": [
            "0      Friday\n",
            "1      Friday\n",
            "2    Thursday\n",
            "3      Monday\n",
            "4      Monday\n",
            "Name: state_changed_at_weekday, dtype: object\n",
            "\n",
            "\n",
            "Friday       3651\n",
            "Thursday     3439\n",
            "Wednesday    3264\n",
            "Sunday       2836\n",
            "Saturday     2806\n",
            "Monday       2398\n",
            "Tuesday      2238\n",
            "Name: state_changed_at_weekday, dtype: int64\n",
            "\n",
            "\n"
          ]
        }
      ]
    },
    {
      "cell_type": "code",
      "source": [
        "feature_eda('created_at_weekday')"
      ],
      "metadata": {
        "colab": {
          "base_uri": "https://localhost:8080/"
        },
        "id": "IuPo6JHUhDJd",
        "outputId": "269e9408-1d86-4458-d5bc-d50220538081"
      },
      "execution_count": null,
      "outputs": [
        {
          "output_type": "stream",
          "name": "stdout",
          "text": [
            "0     Saturday\n",
            "1       Friday\n",
            "2     Saturday\n",
            "3       Friday\n",
            "4    Wednesday\n",
            "Name: created_at_weekday, dtype: object\n",
            "\n",
            "\n",
            "Tuesday      3612\n",
            "Monday       3474\n",
            "Wednesday    3325\n",
            "Thursday     3155\n",
            "Friday       2699\n",
            "Sunday       2277\n",
            "Saturday     2090\n",
            "Name: created_at_weekday, dtype: int64\n",
            "\n",
            "\n"
          ]
        }
      ]
    },
    {
      "cell_type": "code",
      "source": [
        "feature_eda('launched_at_weekday')"
      ],
      "metadata": {
        "colab": {
          "base_uri": "https://localhost:8080/"
        },
        "id": "-5ukx2SIhIb5",
        "outputId": "46195c15-6810-4fc8-e477-f1996f4d6876"
      },
      "execution_count": null,
      "outputs": [
        {
          "output_type": "stream",
          "name": "stdout",
          "text": [
            "0    Wednesday\n",
            "1       Monday\n",
            "2       Sunday\n",
            "3     Saturday\n",
            "4     Thursday\n",
            "Name: launched_at_weekday, dtype: object\n",
            "\n",
            "\n",
            "Tuesday      4645\n",
            "Monday       4200\n",
            "Wednesday    3741\n",
            "Thursday     3094\n",
            "Friday       2818\n",
            "Saturday     1075\n",
            "Sunday       1059\n",
            "Name: launched_at_weekday, dtype: int64\n",
            "\n",
            "\n"
          ]
        }
      ]
    },
    {
      "cell_type": "code",
      "source": [
        "feature_eda('deadline_month')"
      ],
      "metadata": {
        "colab": {
          "base_uri": "https://localhost:8080/"
        },
        "id": "znSIGxWxhP6I",
        "outputId": "2a54518a-8554-419a-d064-692e848f70fe"
      },
      "execution_count": null,
      "outputs": [
        {
          "output_type": "stream",
          "name": "stdout",
          "text": [
            "0     1\n",
            "1     5\n",
            "2     3\n",
            "3    10\n",
            "4     6\n",
            "Name: deadline_month, dtype: int64\n",
            "\n",
            "\n",
            "12    1954\n",
            "8     1954\n",
            "7     1906\n",
            "3     1778\n",
            "9     1732\n",
            "10    1713\n",
            "11    1704\n",
            "5     1680\n",
            "6     1673\n",
            "4     1575\n",
            "1     1487\n",
            "2     1476\n",
            "Name: deadline_month, dtype: int64\n",
            "\n",
            "\n"
          ]
        }
      ]
    },
    {
      "cell_type": "code",
      "source": [
        "feature_eda('deadline_day')"
      ],
      "metadata": {
        "colab": {
          "base_uri": "https://localhost:8080/"
        },
        "id": "AUGmbRYXhR1w",
        "outputId": "56403fb5-6bae-4609-e505-5b59c7db8e05"
      },
      "execution_count": null,
      "outputs": [
        {
          "output_type": "stream",
          "name": "stdout",
          "text": [
            "0    23\n",
            "1     1\n",
            "2    26\n",
            "3     6\n",
            "4    27\n",
            "Name: deadline_day, dtype: int64\n",
            "\n",
            "\n",
            "1     878\n",
            "15    800\n",
            "30    760\n",
            "10    712\n",
            "8     697\n",
            "2     685\n",
            "17    684\n",
            "20    683\n",
            "16    680\n",
            "12    675\n",
            "31    674\n",
            "3     674\n",
            "5     671\n",
            "4     662\n",
            "25    659\n",
            "7     656\n",
            "19    654\n",
            "11    652\n",
            "18    650\n",
            "13    644\n",
            "9     643\n",
            "6     641\n",
            "14    637\n",
            "21    632\n",
            "27    617\n",
            "26    616\n",
            "28    613\n",
            "29    612\n",
            "23    598\n",
            "24    592\n",
            "22    581\n",
            "Name: deadline_day, dtype: int64\n",
            "\n",
            "\n"
          ]
        }
      ]
    },
    {
      "cell_type": "code",
      "source": [
        "feature_eda('deadline_yr')"
      ],
      "metadata": {
        "colab": {
          "base_uri": "https://localhost:8080/"
        },
        "id": "th6Lm7F_hW5x",
        "outputId": "fafa7758-0a1b-408c-c361-71ea6bb528ce"
      },
      "execution_count": null,
      "outputs": [
        {
          "output_type": "stream",
          "name": "stdout",
          "text": [
            "0    2015\n",
            "1    2015\n",
            "2    2015\n",
            "3    2014\n",
            "4    2016\n",
            "Name: deadline_yr, dtype: int64\n",
            "\n",
            "\n",
            "2015    7366\n",
            "2016    5237\n",
            "2014    4819\n",
            "2013    1110\n",
            "2017    1081\n",
            "2012     519\n",
            "2011     279\n",
            "2010     185\n",
            "2009      36\n",
            "Name: deadline_yr, dtype: int64\n",
            "\n",
            "\n"
          ]
        }
      ]
    },
    {
      "cell_type": "code",
      "source": [
        "feature_eda('deadline_hr')"
      ],
      "metadata": {
        "colab": {
          "base_uri": "https://localhost:8080/"
        },
        "id": "AO4iKgiGhgKY",
        "outputId": "99371e0d-bcac-4e7b-b1f2-3ce01fce7443"
      },
      "execution_count": null,
      "outputs": [
        {
          "output_type": "stream",
          "name": "stdout",
          "text": [
            "0    10\n",
            "1    16\n",
            "2     8\n",
            "3     0\n",
            "4    12\n",
            "Name: deadline_hr, dtype: int64\n",
            "\n",
            "\n",
            "11    1496\n",
            "10    1344\n",
            "14    1292\n",
            "16    1278\n",
            "12    1193\n",
            "17    1175\n",
            "13    1171\n",
            "15    1165\n",
            "22    1051\n",
            "9      980\n",
            "18     935\n",
            "19     859\n",
            "23     812\n",
            "8      756\n",
            "20     713\n",
            "21     682\n",
            "1      611\n",
            "7      584\n",
            "0      529\n",
            "6      515\n",
            "2      463\n",
            "5      390\n",
            "3      338\n",
            "4      300\n",
            "Name: deadline_hr, dtype: int64\n",
            "\n",
            "\n"
          ]
        }
      ]
    },
    {
      "cell_type": "code",
      "source": [
        "feature_eda('state_changed_at_month')"
      ],
      "metadata": {
        "colab": {
          "base_uri": "https://localhost:8080/"
        },
        "id": "2fi-EAGZhpKi",
        "outputId": "0c7cab26-f5f3-4e5d-d19c-53d0da093d39"
      },
      "execution_count": null,
      "outputs": [
        {
          "output_type": "stream",
          "name": "stdout",
          "text": [
            "0     1\n",
            "1     5\n",
            "2     3\n",
            "3    10\n",
            "4     6\n",
            "Name: state_changed_at_month, dtype: int64\n",
            "\n",
            "\n",
            "12    1944\n",
            "8     1935\n",
            "7     1919\n",
            "1     1743\n",
            "11    1729\n",
            "10    1726\n",
            "9     1712\n",
            "6     1710\n",
            "5     1666\n",
            "4     1546\n",
            "2     1523\n",
            "3     1479\n",
            "Name: state_changed_at_month, dtype: int64\n",
            "\n",
            "\n"
          ]
        }
      ]
    },
    {
      "cell_type": "code",
      "source": [
        "feature_eda('state_changed_at_day')"
      ],
      "metadata": {
        "colab": {
          "base_uri": "https://localhost:8080/"
        },
        "id": "DLfzaapzhtCN",
        "outputId": "7ab8ecdd-4051-4e46-fd48-911109e3afac"
      },
      "execution_count": null,
      "outputs": [
        {
          "output_type": "stream",
          "name": "stdout",
          "text": [
            "0    23\n",
            "1     1\n",
            "2    26\n",
            "3     6\n",
            "4    27\n",
            "Name: state_changed_at_day, dtype: int64\n",
            "\n",
            "\n",
            "1     847\n",
            "15    771\n",
            "30    740\n",
            "12    705\n",
            "8     701\n",
            "20    694\n",
            "3     693\n",
            "6     686\n",
            "10    685\n",
            "18    677\n",
            "7     674\n",
            "2     670\n",
            "4     666\n",
            "17    663\n",
            "5     662\n",
            "13    661\n",
            "31    660\n",
            "11    659\n",
            "9     658\n",
            "19    656\n",
            "14    652\n",
            "16    648\n",
            "25    633\n",
            "28    625\n",
            "23    620\n",
            "21    618\n",
            "26    617\n",
            "27    614\n",
            "29    605\n",
            "24    600\n",
            "22    572\n",
            "Name: state_changed_at_day, dtype: int64\n",
            "\n",
            "\n"
          ]
        }
      ]
    },
    {
      "cell_type": "code",
      "source": [
        "feature_eda('state_changed_at_yr')"
      ],
      "metadata": {
        "colab": {
          "base_uri": "https://localhost:8080/"
        },
        "id": "imzHszHshzhn",
        "outputId": "c4c5bf07-422c-42e9-e725-5e79c7ee24d1"
      },
      "execution_count": null,
      "outputs": [
        {
          "output_type": "stream",
          "name": "stdout",
          "text": [
            "0    2015\n",
            "1    2015\n",
            "2    2015\n",
            "3    2014\n",
            "4    2016\n",
            "Name: state_changed_at_yr, dtype: int64\n",
            "\n",
            "\n",
            "2015    7348\n",
            "2016    5253\n",
            "2014    4868\n",
            "2013    1117\n",
            "2017    1027\n",
            "2012     518\n",
            "2011     279\n",
            "2010     185\n",
            "2009      37\n",
            "Name: state_changed_at_yr, dtype: int64\n",
            "\n",
            "\n"
          ]
        }
      ]
    },
    {
      "cell_type": "code",
      "source": [
        "feature_eda('state_changed_at_hr')"
      ],
      "metadata": {
        "colab": {
          "base_uri": "https://localhost:8080/"
        },
        "id": "l3TATVgth2_L",
        "outputId": "fcd836f8-ea39-44f0-8b38-7ccecc2278f0"
      },
      "execution_count": null,
      "outputs": [
        {
          "output_type": "stream",
          "name": "stdout",
          "text": [
            "0    10\n",
            "1    16\n",
            "2     8\n",
            "3     0\n",
            "4    12\n",
            "Name: state_changed_at_hr, dtype: int64\n",
            "\n",
            "\n",
            "11    1482\n",
            "10    1322\n",
            "14    1289\n",
            "16    1286\n",
            "12    1239\n",
            "13    1196\n",
            "15    1171\n",
            "17    1166\n",
            "22    1000\n",
            "9      982\n",
            "18     932\n",
            "19     841\n",
            "23     794\n",
            "8      764\n",
            "20     707\n",
            "21     669\n",
            "7      581\n",
            "1      574\n",
            "0      543\n",
            "6      512\n",
            "2      482\n",
            "5      422\n",
            "3      360\n",
            "4      318\n",
            "Name: state_changed_at_hr, dtype: int64\n",
            "\n",
            "\n"
          ]
        }
      ]
    },
    {
      "cell_type": "code",
      "source": [
        "feature_eda('created_at_month')"
      ],
      "metadata": {
        "colab": {
          "base_uri": "https://localhost:8080/"
        },
        "id": "drrUkjlNh6cQ",
        "outputId": "4b7af59b-32a8-4f2a-8257-32904574de92"
      },
      "execution_count": null,
      "outputs": [
        {
          "output_type": "stream",
          "name": "stdout",
          "text": [
            "0    11\n",
            "1     2\n",
            "2     1\n",
            "3     9\n",
            "4     5\n",
            "Name: created_at_month, dtype: int64\n",
            "\n",
            "\n",
            "7     2106\n",
            "10    1847\n",
            "5     1835\n",
            "6     1777\n",
            "8     1756\n",
            "4     1686\n",
            "11    1685\n",
            "1     1667\n",
            "9     1666\n",
            "3     1643\n",
            "2     1597\n",
            "12    1367\n",
            "Name: created_at_month, dtype: int64\n",
            "\n",
            "\n"
          ]
        }
      ]
    },
    {
      "cell_type": "code",
      "source": [
        "feature_eda('created_at_day')"
      ],
      "metadata": {
        "colab": {
          "base_uri": "https://localhost:8080/"
        },
        "id": "EUGYfZ5siEhU",
        "outputId": "c2cecdd8-dc69-4a22-8395-51815fc2973e"
      },
      "execution_count": null,
      "outputs": [
        {
          "output_type": "stream",
          "name": "stdout",
          "text": [
            "0    29\n",
            "1    20\n",
            "2    24\n",
            "3     5\n",
            "4    25\n",
            "Name: created_at_day, dtype: int64\n",
            "\n",
            "\n",
            "8     771\n",
            "5     742\n",
            "13    713\n",
            "17    706\n",
            "9     705\n",
            "1     705\n",
            "28    702\n",
            "27    699\n",
            "10    697\n",
            "7     696\n",
            "23    695\n",
            "22    689\n",
            "6     686\n",
            "3     680\n",
            "12    680\n",
            "18    678\n",
            "11    675\n",
            "15    672\n",
            "19    671\n",
            "26    666\n",
            "16    659\n",
            "14    658\n",
            "2     658\n",
            "25    656\n",
            "4     649\n",
            "21    634\n",
            "20    631\n",
            "29    624\n",
            "24    603\n",
            "30    589\n",
            "31    343\n",
            "Name: created_at_day, dtype: int64\n",
            "\n",
            "\n"
          ]
        }
      ]
    },
    {
      "cell_type": "code",
      "source": [
        "feature_eda('created_at_yr')"
      ],
      "metadata": {
        "colab": {
          "base_uri": "https://localhost:8080/"
        },
        "id": "sPIK0kCIiIfQ",
        "outputId": "66f3e03e-e6f7-401d-ae6e-43c9024d65f9"
      },
      "execution_count": null,
      "outputs": [
        {
          "output_type": "stream",
          "name": "stdout",
          "text": [
            "0    2014\n",
            "1    2015\n",
            "2    2015\n",
            "3    2014\n",
            "4    2016\n",
            "Name: created_at_yr, dtype: int64\n",
            "\n",
            "\n",
            "2015    6953\n",
            "2014    5732\n",
            "2016    4850\n",
            "2013    1434\n",
            "2012     733\n",
            "2017     358\n",
            "2011     309\n",
            "2010     209\n",
            "2009      54\n",
            "Name: created_at_yr, dtype: int64\n",
            "\n",
            "\n"
          ]
        }
      ]
    },
    {
      "cell_type": "code",
      "source": [
        "feature_eda('created_at_hr')"
      ],
      "metadata": {
        "colab": {
          "base_uri": "https://localhost:8080/"
        },
        "id": "8ioEm2xbiN-r",
        "outputId": "6dbbab0c-44e0-411c-8247-d9e19e21cbc4"
      },
      "execution_count": null,
      "outputs": [
        {
          "output_type": "stream",
          "name": "stdout",
          "text": [
            "0    22\n",
            "1     9\n",
            "2     0\n",
            "3    22\n",
            "4    14\n",
            "Name: created_at_hr, dtype: int64\n",
            "\n",
            "\n",
            "15    1331\n",
            "12    1301\n",
            "13    1286\n",
            "14    1248\n",
            "11    1193\n",
            "10    1190\n",
            "16    1129\n",
            "17    1104\n",
            "9     1090\n",
            "18     930\n",
            "8      885\n",
            "19     865\n",
            "20     863\n",
            "21     835\n",
            "22     739\n",
            "7      659\n",
            "23     595\n",
            "6      565\n",
            "0      530\n",
            "4      503\n",
            "5      480\n",
            "3      453\n",
            "1      438\n",
            "2      420\n",
            "Name: created_at_hr, dtype: int64\n",
            "\n",
            "\n"
          ]
        }
      ]
    },
    {
      "cell_type": "code",
      "source": [
        "feature_eda('launched_at_month')"
      ],
      "metadata": {
        "colab": {
          "base_uri": "https://localhost:8080/"
        },
        "id": "g64-f7GziR6Q",
        "outputId": "e6eee7dd-cfb1-40c3-bd43-11bfbc1e75d3"
      },
      "execution_count": null,
      "outputs": [
        {
          "output_type": "stream",
          "name": "stdout",
          "text": [
            "0    12\n",
            "1     3\n",
            "2     1\n",
            "3     9\n",
            "4     5\n",
            "Name: launched_at_month, dtype: int64\n",
            "\n",
            "\n",
            "7     1996\n",
            "11    1895\n",
            "6     1871\n",
            "10    1788\n",
            "5     1754\n",
            "8     1737\n",
            "9     1704\n",
            "2     1668\n",
            "1     1657\n",
            "3     1571\n",
            "4     1569\n",
            "12    1422\n",
            "Name: launched_at_month, dtype: int64\n",
            "\n",
            "\n"
          ]
        }
      ]
    },
    {
      "cell_type": "code",
      "source": [
        "feature_eda('launched_at_day')"
      ],
      "metadata": {
        "colab": {
          "base_uri": "https://localhost:8080/"
        },
        "id": "OF9MOWZCiX1U",
        "outputId": "3eca182d-f8c6-41aa-ee33-f97e8ed2c7cb"
      },
      "execution_count": null,
      "outputs": [
        {
          "output_type": "stream",
          "name": "stdout",
          "text": [
            "0    17\n",
            "1     2\n",
            "2    25\n",
            "3     6\n",
            "4    26\n",
            "Name: launched_at_day, dtype: int64\n",
            "\n",
            "\n",
            "1     807\n",
            "8     765\n",
            "2     750\n",
            "9     749\n",
            "15    722\n",
            "16    713\n",
            "10    707\n",
            "3     703\n",
            "13    701\n",
            "14    694\n",
            "20    687\n",
            "18    687\n",
            "4     683\n",
            "12    679\n",
            "17    679\n",
            "5     674\n",
            "23    672\n",
            "28    670\n",
            "11    670\n",
            "7     653\n",
            "21    648\n",
            "22    638\n",
            "6     636\n",
            "19    636\n",
            "30    620\n",
            "26    618\n",
            "25    618\n",
            "29    607\n",
            "27    600\n",
            "24    590\n",
            "31    356\n",
            "Name: launched_at_day, dtype: int64\n",
            "\n",
            "\n"
          ]
        }
      ]
    },
    {
      "cell_type": "code",
      "source": [
        "feature_eda('launched_at_day')"
      ],
      "metadata": {
        "colab": {
          "base_uri": "https://localhost:8080/"
        },
        "id": "6EhfHrvvib8S",
        "outputId": "9e30ac06-2b46-44d1-cfc9-063b30dcb371"
      },
      "execution_count": null,
      "outputs": [
        {
          "output_type": "stream",
          "name": "stdout",
          "text": [
            "0    17\n",
            "1     2\n",
            "2    25\n",
            "3     6\n",
            "4    26\n",
            "Name: launched_at_day, dtype: int64\n",
            "\n",
            "\n",
            "1     807\n",
            "8     765\n",
            "2     750\n",
            "9     749\n",
            "15    722\n",
            "16    713\n",
            "10    707\n",
            "3     703\n",
            "13    701\n",
            "14    694\n",
            "20    687\n",
            "18    687\n",
            "4     683\n",
            "12    679\n",
            "17    679\n",
            "5     674\n",
            "23    672\n",
            "28    670\n",
            "11    670\n",
            "7     653\n",
            "21    648\n",
            "22    638\n",
            "6     636\n",
            "19    636\n",
            "30    620\n",
            "26    618\n",
            "25    618\n",
            "29    607\n",
            "27    600\n",
            "24    590\n",
            "31    356\n",
            "Name: launched_at_day, dtype: int64\n",
            "\n",
            "\n"
          ]
        }
      ]
    },
    {
      "cell_type": "code",
      "source": [
        "feature_eda('launched_at_yr')"
      ],
      "metadata": {
        "colab": {
          "base_uri": "https://localhost:8080/"
        },
        "id": "Y6s5AZqvip8s",
        "outputId": "635efbdb-2550-44c5-8d9d-92c0065d2386"
      },
      "execution_count": null,
      "outputs": [
        {
          "output_type": "stream",
          "name": "stdout",
          "text": [
            "0    2014\n",
            "1    2015\n",
            "2    2015\n",
            "3    2014\n",
            "4    2016\n",
            "Name: launched_at_yr, dtype: int64\n",
            "\n",
            "\n",
            "2015    7264\n",
            "2014    5228\n",
            "2016    5223\n",
            "2013    1191\n",
            "2017     660\n",
            "2012     523\n",
            "2011     286\n",
            "2010     207\n",
            "2009      50\n",
            "Name: launched_at_yr, dtype: int64\n",
            "\n",
            "\n"
          ]
        }
      ]
    },
    {
      "cell_type": "code",
      "source": [
        "feature_eda('launched_at_hr')"
      ],
      "metadata": {
        "colab": {
          "base_uri": "https://localhost:8080/"
        },
        "id": "7S5N_zvjivcZ",
        "outputId": "8fab2b48-1e42-466e-e75d-18fa6eed4655"
      },
      "execution_count": null,
      "outputs": [
        {
          "output_type": "stream",
          "name": "stdout",
          "text": [
            "0    13\n",
            "1    16\n",
            "2     8\n",
            "3     0\n",
            "4     5\n",
            "Name: launched_at_hr, dtype: int64\n",
            "\n",
            "\n",
            "11    1616\n",
            "10    1583\n",
            "14    1388\n",
            "12    1350\n",
            "13    1296\n",
            "15    1276\n",
            "16    1251\n",
            "9     1162\n",
            "17    1138\n",
            "8      912\n",
            "18     878\n",
            "19     750\n",
            "7      716\n",
            "20     681\n",
            "21     573\n",
            "23     566\n",
            "6      547\n",
            "22     491\n",
            "2      470\n",
            "0      439\n",
            "5      432\n",
            "3      391\n",
            "1      383\n",
            "4      343\n",
            "Name: launched_at_hr, dtype: int64\n",
            "\n",
            "\n"
          ]
        }
      ]
    },
    {
      "cell_type": "code",
      "source": [
        "feature_eda('create_to_launch')"
      ],
      "metadata": {
        "colab": {
          "base_uri": "https://localhost:8080/"
        },
        "id": "JrqTRFhZix5Q",
        "outputId": "3b273191-19d9-4a89-d5bc-8bf28fb71658"
      },
      "execution_count": null,
      "outputs": [
        {
          "output_type": "stream",
          "name": "stdout",
          "text": [
            "0    17 days 14:51:39.000000000\n",
            "1    10 days 06:44:39.000000000\n",
            "2     1 days 08:08:58.000000000\n",
            "3     0 days 02:11:17.000000000\n",
            "4     0 days 15:47:38.000000000\n",
            "Name: create_to_launch, dtype: object\n",
            "\n",
            "\n",
            "7 days 22:59:25.000000000     2\n",
            "0 days 01:09:56.000000000     2\n",
            "0 days 02:47:05.000000000     2\n",
            "0 days 03:39:18.000000000     2\n",
            "1 days 21:00:38.000000000     2\n",
            "                             ..\n",
            "0 days 13:49:37.000000000     1\n",
            "96 days 16:47:58.000000000    1\n",
            "0 days 17:34:55.000000000     1\n",
            "41 days 13:41:27.000000000    1\n",
            "22 days 22:42:01.000000000    1\n",
            "Name: create_to_launch, Length: 20553, dtype: int64\n",
            "\n",
            "\n"
          ]
        }
      ]
    },
    {
      "cell_type": "code",
      "source": [
        "feature_eda('launch_to_deadline')"
      ],
      "metadata": {
        "colab": {
          "base_uri": "https://localhost:8080/"
        },
        "id": "gOIxRX1vi2lA",
        "outputId": "1de39a6f-437b-4ddd-fb54-a21bb96bc1b3"
      },
      "execution_count": null,
      "outputs": [
        {
          "output_type": "stream",
          "name": "stdout",
          "text": [
            "0    36 days 20:47:24.000000000\n",
            "1    60 days 00:00:00.000000000\n",
            "2    60 days 00:00:00.000000000\n",
            "3    30 days 00:00:00.000000000\n",
            "4    32 days 06:02:33.000000000\n",
            "Name: launch_to_deadline, dtype: object\n",
            "\n",
            "\n",
            "30 days 00:00:00.000000000    9110\n",
            "60 days 00:00:00.000000000    2041\n",
            "45 days 00:00:00.000000000    1129\n",
            "40 days 00:00:00.000000000     543\n",
            "35 days 00:00:00.000000000     487\n",
            "                              ... \n",
            "7 days 00:47:43.000000000        1\n",
            "19 days 00:22:14.000000000       1\n",
            "22 days 05:16:01.000000000       1\n",
            "21 days 22:34:17.000000000       1\n",
            "31 days 23:47:41.000000000       1\n",
            "Name: launch_to_deadline, Length: 4987, dtype: int64\n",
            "\n",
            "\n"
          ]
        }
      ]
    },
    {
      "cell_type": "code",
      "source": [
        "feature_eda('launch_to_state_change')"
      ],
      "metadata": {
        "colab": {
          "base_uri": "https://localhost:8080/"
        },
        "id": "oog3MufBi5FM",
        "outputId": "2488b2da-1fe8-4a10-e9a8-ff9dd3aaf1d7"
      },
      "execution_count": null,
      "outputs": [
        {
          "output_type": "stream",
          "name": "stdout",
          "text": [
            "0    36 days 20:47:24.000000000\n",
            "1    60 days 00:00:02.000000000\n",
            "2    60 days 00:00:01.000000000\n",
            "3    30 days 00:00:00.000000000\n",
            "4    32 days 06:02:33.000000000\n",
            "Name: launch_to_state_change, dtype: object\n",
            "\n",
            "\n",
            "30 days 00:00:00.000000000    4167\n",
            "30 days 00:00:01.000000000    1501\n",
            "60 days 00:00:00.000000000     860\n",
            "30 days 00:00:02.000000000     804\n",
            "30 days 00:00:03.000000000     472\n",
            "                              ... \n",
            "24 days 05:30:53.000000000       1\n",
            "35 days 10:28:10.000000000       1\n",
            "30 days 09:48:28.000000000       1\n",
            "46 days 00:31:36.000000000       1\n",
            "31 days 23:47:42.000000000       1\n",
            "Name: launch_to_state_change, Length: 7544, dtype: int64\n",
            "\n",
            "\n"
          ]
        }
      ]
    },
    {
      "cell_type": "code",
      "source": [
        "feature_eda('create_to_launch_days')"
      ],
      "metadata": {
        "colab": {
          "base_uri": "https://localhost:8080/"
        },
        "id": "Ft6qAQMpi7qf",
        "outputId": "630063b6-eaa1-4845-e683-ab67fca7eacf"
      },
      "execution_count": null,
      "outputs": [
        {
          "output_type": "stream",
          "name": "stdout",
          "text": [
            "0    17\n",
            "1    10\n",
            "2     1\n",
            "3     0\n",
            "4     0\n",
            "Name: create_to_launch_days, dtype: int64\n",
            "\n",
            "\n",
            "0      1905\n",
            "1      1324\n",
            "2      1071\n",
            "3       919\n",
            "4       790\n",
            "       ... \n",
            "378       1\n",
            "540       1\n",
            "434       1\n",
            "519       1\n",
            "561       1\n",
            "Name: create_to_launch_days, Length: 686, dtype: int64\n",
            "\n",
            "\n"
          ]
        }
      ]
    },
    {
      "cell_type": "code",
      "source": [
        "full_1['create_to_launch_days'].hist()"
      ],
      "metadata": {
        "colab": {
          "base_uri": "https://localhost:8080/",
          "height": 453
        },
        "id": "g9DHRP6yktmN",
        "outputId": "8244f991-d6f2-43cc-ec1a-d8499d58309d"
      },
      "execution_count": null,
      "outputs": [
        {
          "output_type": "execute_result",
          "data": {
            "text/plain": [
              "<Axes: >"
            ]
          },
          "metadata": {},
          "execution_count": 227
        },
        {
          "output_type": "display_data",
          "data": {
            "text/plain": [
              "<Figure size 640x480 with 1 Axes>"
            ],
            "image/png": "[encoded data removed]"
          },
          "metadata": {}
        }
      ]
    },
    {
      "cell_type": "code",
      "source": [
        "full_1.boxplot(['create_to_launch_days'])"
      ],
      "metadata": {
        "colab": {
          "base_uri": "https://localhost:8080/",
          "height": 452
        },
        "id": "vEE23oKzk3cA",
        "outputId": "999c7419-a935-4364-8d23-7bdf31998fdb"
      },
      "execution_count": null,
      "outputs": [
        {
          "output_type": "execute_result",
          "data": {
            "text/plain": [
              "<Axes: >"
            ]
          },
          "metadata": {},
          "execution_count": 228
        },
        {
          "output_type": "display_data",
          "data": {
            "text/plain": [
              "<Figure size 640x480 with 1 Axes>"
            ],
            "image/png": "[encoded data removed]"
          },
          "metadata": {}
        }
      ]
    },
    {
      "cell_type": "code",
      "source": [
        "feature_eda('launch_to_deadline_days')"
      ],
      "metadata": {
        "colab": {
          "base_uri": "https://localhost:8080/"
        },
        "id": "uXAaaJ0-i_eZ",
        "outputId": "8bfa0efb-584c-4bb1-8666-ac38cbfba079"
      },
      "execution_count": null,
      "outputs": [
        {
          "output_type": "stream",
          "name": "stdout",
          "text": [
            "0    36\n",
            "1    60\n",
            "2    60\n",
            "3    30\n",
            "4    32\n",
            "Name: launch_to_deadline_days, dtype: int64\n",
            "\n",
            "\n",
            "30    9492\n",
            "60    2048\n",
            "45    1223\n",
            "35     638\n",
            "40     632\n",
            "      ... \n",
            "75       1\n",
            "74       1\n",
            "84       1\n",
            "85       1\n",
            "77       1\n",
            "Name: launch_to_deadline_days, Length: 85, dtype: int64\n",
            "\n",
            "\n"
          ]
        }
      ]
    },
    {
      "cell_type": "code",
      "source": [
        "full_1['launch_to_deadline_days'].hist()"
      ],
      "metadata": {
        "colab": {
          "base_uri": "https://localhost:8080/",
          "height": 451
        },
        "id": "W0du8G1YlCRs",
        "outputId": "a783e76a-6f90-4ac1-ba5b-c4fc8088f48f"
      },
      "execution_count": null,
      "outputs": [
        {
          "output_type": "execute_result",
          "data": {
            "text/plain": [
              "<Axes: >"
            ]
          },
          "metadata": {},
          "execution_count": 229
        },
        {
          "output_type": "display_data",
          "data": {
            "text/plain": [
              "<Figure size 640x480 with 1 Axes>"
            ],
            "image/png": "[encoded data removed]"
          },
          "metadata": {}
        }
      ]
    },
    {
      "cell_type": "code",
      "source": [
        "full_1.boxplot(['launch_to_deadline_days'])"
      ],
      "metadata": {
        "colab": {
          "base_uri": "https://localhost:8080/",
          "height": 452
        },
        "id": "na26AuWhlFSE",
        "outputId": "0108e1bd-b4df-4ee9-b74c-6edc1fd1c56a"
      },
      "execution_count": null,
      "outputs": [
        {
          "output_type": "execute_result",
          "data": {
            "text/plain": [
              "<Axes: >"
            ]
          },
          "metadata": {},
          "execution_count": 230
        },
        {
          "output_type": "display_data",
          "data": {
            "text/plain": [
              "<Figure size 640x480 with 1 Axes>"
            ],
            "image/png": "[encoded data removed]"
          },
          "metadata": {}
        }
      ]
    },
    {
      "cell_type": "code",
      "source": [
        "feature_eda('launch_to_state_change_days')"
      ],
      "metadata": {
        "colab": {
          "base_uri": "https://localhost:8080/"
        },
        "id": "0Vu3r63EkVOX",
        "outputId": "d959e555-08b7-4317-f776-90e69d68d46b"
      },
      "execution_count": null,
      "outputs": [
        {
          "output_type": "stream",
          "name": "stdout",
          "text": [
            "0    36\n",
            "1    60\n",
            "2    60\n",
            "3    30\n",
            "4    32\n",
            "Name: launch_to_state_change_days, dtype: int64\n",
            "\n",
            "\n",
            "30    8160\n",
            "60    1642\n",
            "45     988\n",
            "0      718\n",
            "35     547\n",
            "      ... \n",
            "70       2\n",
            "79       1\n",
            "74       1\n",
            "69       1\n",
            "84       1\n",
            "Name: launch_to_state_change_days, Length: 84, dtype: int64\n",
            "\n",
            "\n"
          ]
        }
      ]
    },
    {
      "cell_type": "code",
      "source": [
        "full_1['launch_to_state_change_days'].hist()"
      ],
      "metadata": {
        "colab": {
          "base_uri": "https://localhost:8080/",
          "height": 451
        },
        "id": "I8__u3wnlMs_",
        "outputId": "81ae4804-4be2-483e-a221-afc9c23bc4a5"
      },
      "execution_count": null,
      "outputs": [
        {
          "output_type": "execute_result",
          "data": {
            "text/plain": [
              "<Axes: >"
            ]
          },
          "metadata": {},
          "execution_count": 231
        },
        {
          "output_type": "display_data",
          "data": {
            "text/plain": [
              "<Figure size 640x480 with 1 Axes>"
            ],
            "image/png": "[encoded data removed]"
          },
          "metadata": {}
        }
      ]
    },
    {
      "cell_type": "code",
      "source": [
        "full_1.boxplot('launch_to_state_change_days')"
      ],
      "metadata": {
        "colab": {
          "base_uri": "https://localhost:8080/",
          "height": 452
        },
        "id": "BvxJEs2vlS5l",
        "outputId": "068cd4a2-e511-4312-9ab6-c1569a368660"
      },
      "execution_count": null,
      "outputs": [
        {
          "output_type": "execute_result",
          "data": {
            "text/plain": [
              "<Axes: >"
            ]
          },
          "metadata": {},
          "execution_count": 232
        },
        {
          "output_type": "display_data",
          "data": {
            "text/plain": [
              "<Figure size 640x480 with 1 Axes>"
            ],
            "image/png": "[encoded data removed]"
          },
          "metadata": {}
        }
      ]
    },
    {
      "cell_type": "code",
      "source": [
        "feature_eda('SuccessfulBool')"
      ],
      "metadata": {
        "colab": {
          "base_uri": "https://localhost:8080/"
        },
        "id": "uc6f5bDLlXX_",
        "outputId": "b74a5624-c429-4535-d9de-73ebc6afa6ac"
      },
      "execution_count": null,
      "outputs": [
        {
          "output_type": "stream",
          "name": "stdout",
          "text": [
            "0    0\n",
            "1    0\n",
            "2    0\n",
            "3    0\n",
            "4    0\n",
            "Name: SuccessfulBool, dtype: int64\n",
            "\n",
            "\n",
            "0    14614\n",
            "1     6018\n",
            "Name: SuccessfulBool, dtype: int64\n",
            "\n",
            "\n"
          ]
        }
      ]
    },
    {
      "cell_type": "code",
      "source": [
        "feature_eda('USorGB')"
      ],
      "metadata": {
        "colab": {
          "base_uri": "https://localhost:8080/"
        },
        "id": "--fUGL68ldCp",
        "outputId": "51df2d35-2577-4088-bea2-c2e6b3716703"
      },
      "execution_count": null,
      "outputs": [
        {
          "output_type": "stream",
          "name": "stdout",
          "text": [
            "0    1\n",
            "1    1\n",
            "2    1\n",
            "3    1\n",
            "4    0\n",
            "Name: USorGB, dtype: int64\n",
            "\n",
            "\n",
            "1    16639\n",
            "0     3993\n",
            "Name: USorGB, dtype: int64\n",
            "\n",
            "\n"
          ]
        }
      ]
    },
    {
      "cell_type": "code",
      "source": [
        "feature_eda('TOPCOUNTRY')"
      ],
      "metadata": {
        "colab": {
          "base_uri": "https://localhost:8080/"
        },
        "id": "IV21mwPgljEd",
        "outputId": "bc22a679-bbbd-4d84-ddd1-ce1e1fa9362d"
      },
      "execution_count": null,
      "outputs": [
        {
          "output_type": "stream",
          "name": "stdout",
          "text": [
            "0    1\n",
            "1    1\n",
            "2    1\n",
            "3    1\n",
            "4    0\n",
            "Name: TOPCOUNTRY, dtype: int64\n",
            "\n",
            "\n",
            "1    16840\n",
            "0     3792\n",
            "Name: TOPCOUNTRY, dtype: int64\n",
            "\n",
            "\n"
          ]
        }
      ]
    },
    {
      "cell_type": "code",
      "source": [
        "feature_eda('LaunchedTuesday')"
      ],
      "metadata": {
        "colab": {
          "base_uri": "https://localhost:8080/"
        },
        "id": "86ApoEHRlmMC",
        "outputId": "a670fc1a-222f-4397-cb0d-404de5017d80"
      },
      "execution_count": null,
      "outputs": [
        {
          "output_type": "stream",
          "name": "stdout",
          "text": [
            "0    0\n",
            "1    0\n",
            "2    0\n",
            "3    0\n",
            "4    0\n",
            "Name: LaunchedTuesday, dtype: int64\n",
            "\n",
            "\n",
            "0    15987\n",
            "1     4645\n",
            "Name: LaunchedTuesday, dtype: int64\n",
            "\n",
            "\n"
          ]
        }
      ]
    },
    {
      "cell_type": "code",
      "source": [
        "feature_eda('DeadlineWeekend')"
      ],
      "metadata": {
        "colab": {
          "base_uri": "https://localhost:8080/"
        },
        "id": "LTXmP01KlpVy",
        "outputId": "c079618e-36af-412a-942f-7a2ae6aad4a0"
      },
      "execution_count": null,
      "outputs": [
        {
          "output_type": "stream",
          "name": "stdout",
          "text": [
            "0    0\n",
            "1    0\n",
            "2    0\n",
            "3    0\n",
            "4    0\n",
            "Name: DeadlineWeekend, dtype: int64\n",
            "\n",
            "\n",
            "0    14607\n",
            "1     6025\n",
            "Name: DeadlineWeekend, dtype: int64\n",
            "\n",
            "\n"
          ]
        }
      ]
    },
    {
      "cell_type": "code",
      "source": [
        "#////// TQDM CODE https:/ import SnowballStemmer\n",
        "# stemmer = SnowballStemmer(\"english\")\n",
        "# full_1['name_stemmed'] = full_1.name.map(lambda x: ' '.join([stemmer.stem(y) for y in x.split(' ')]))\n",
        "# full_1['name_stemmed'].head()\n",
        "\n",
        "# from sklearn.feature_extraction.text import CountVectorizer\n",
        "# from sklearn.feature_extraction.text import TfidfTransformer\n",
        "\n",
        "# cvec = CountVectorizer(stop_words='english', min_df=7, max_df=0.1, ngram_range=(1,3))\n",
        "# cvec\n",
        "\n",
        "# from itertools import islice\n",
        "# cvec.fit(full_1.name_stemmed)\n",
        "# list(islice(cvec.vocabulary_.items(), 50))\n",
        "\n",
        "# len(cvec.vocabulary_)\n",
        "\n",
        "# cvec_counts = cvec.transform(full_1['name_stemmed'])\n",
        "\n",
        "# print('sparse matrix shape:', cvec_counts.shape)\n",
        "# print('nonzero count:', cvec_counts.nnz)\n",
        "# print('sparsity: %.2f%%' % (100.0 * cvec_counts.nnz / (cvec_counts.shape[0] * cvec_counts.shape[1])))\n",
        "\n",
        "# occ = np.asarray(cvec_counts.sum(axis=0)).ravel().tolist()\n",
        "# counts_df = pd.DataFrame({'term': cvec.get_feature_names_out(), 'occurrences': occ})\n",
        "# counts_df.sort_values(by='occurrences', ascending=True).head(20)"
      ],
      "metadata": {
        "colab": {
          "base_uri": "https://localhost:8080/"
        },
        "id": "4fImHGjbY5Wo",
        "outputId": "4623a193-c389-4e3a-ac1d-d7aa7e92e569"
      },
      "execution_count": null,
      "outputs": [
        {
          "output_type": "execute_result",
          "data": {
            "text/plain": [
              "0    aunti di music time sign asl for hear and hoh ...\n",
              "1                      jump start kindergarten toolkit\n",
              "2    ojukwu balewa awolowo (o.b.a.) public librari ...\n",
              "3         mastiz - [mas-tahyz, mas-tahyz]  - to spread\n",
              "4    synops der eu-dsgvo - artikel, erwägungsgründe...\n",
              "Name: name_stemmed, dtype: object"
            ]
          },
          "metadata": {},
          "execution_count": 31
        }
      ]
    },
    {
      "cell_type": "code",
      "source": [
        "from sklearn.feature_extraction.text import CountVectorizer\n",
        "from sklearn.feature_extraction.text import TfidfTransformer\n",
        "\n",
        "cvec = CountVectorizer(stop_words='english', min_df=7, max_df=0.1, ngram_range=(1,3))\n",
        "cvec"
      ],
      "metadata": {
        "colab": {
          "base_uri": "https://localhost:8080/",
          "height": 75
        },
        "id": "hl9HIbogbY01",
        "outputId": "64674d56-d946-4f52-8d15-f9901aeb77b6"
      },
      "execution_count": null,
      "outputs": [
        {
          "output_type": "execute_result",
          "data": {
            "text/plain": [
              "CountVectorizer(max_df=0.1, min_df=7, ngram_range=(1, 3), stop_words='english')"
            ],
            "text/html": [
              "<style>#sk-container-id-18 {color: black;background-color: white;}#sk-container-id-18 pre{padding: 0;}#sk-container-id-18 div.sk-toggleable {background-color: white;}#sk-container-id-18 label.sk-toggleable__label {cursor: pointer;display: block;width: 100%;margin-bottom: 0;padding: 0.3em;box-sizing: border-box;text-align: center;}#sk-container-id-18 label.sk-toggleable__label-arrow:before {content: \"▸\";float: left;margin-right: 0.25em;color: #696969;}#sk-container-id-18 label.sk-toggleable__label-arrow:hover:before {color: black;}#sk-container-id-18 div.sk-estimator:hover label.sk-toggleable__label-arrow:before {color: black;}#sk-container-id-18 div.sk-toggleable__content {max-height: 0;max-width: 0;overflow: hidden;text-align: left;background-color: #f0f8ff;}#sk-container-id-18 div.sk-toggleable__content pre {margin: 0.2em;color: black;border-radius: 0.25em;background-color: #f0f8ff;}#sk-container-id-18 input.sk-toggleable__control:checked~div.sk-toggleable__content {max-height: 200px;max-width: 100%;overflow: auto;}#sk-container-id-18 input.sk-toggleable__control:checked~label.sk-toggleable__label-arrow:before {content: \"▾\";}#sk-container-id-18 div.sk-estimator input.sk-toggleable__control:checked~label.sk-toggleable__label {background-color: #d4ebff;}#sk-container-id-18 div.sk-label input.sk-toggleable__control:checked~label.sk-toggleable__label {background-color: #d4ebff;}#sk-container-id-18 input.sk-hidden--visually {border: 0;clip: rect(1px 1px 1px 1px);clip: rect(1px, 1px, 1px, 1px);height: 1px;margin: -1px;overflow: hidden;padding: 0;position: absolute;width: 1px;}#sk-container-id-18 div.sk-estimator {font-family: monospace;background-color: #f0f8ff;border: 1px dotted black;border-radius: 0.25em;box-sizing: border-box;margin-bottom: 0.5em;}#sk-container-id-18 div.sk-estimator:hover {background-color: #d4ebff;}#sk-container-id-18 div.sk-parallel-item::after {content: \"\";width: 100%;border-bottom: 1px solid gray;flex-grow: 1;}#sk-container-id-18 div.sk-label:hover label.sk-toggleable__label {background-color: #d4ebff;}#sk-container-id-18 div.sk-serial::before {content: \"\";position: absolute;border-left: 1px solid gray;box-sizing: border-box;top: 0;bottom: 0;left: 50%;z-index: 0;}#sk-container-id-18 div.sk-serial {display: flex;flex-direction: column;align-items: center;background-color: white;padding-right: 0.2em;padding-left: 0.2em;position: relative;}#sk-container-id-18 div.sk-item {position: relative;z-index: 1;}#sk-container-id-18 div.sk-parallel {display: flex;align-items: stretch;justify-content: center;background-color: white;position: relative;}#sk-container-id-18 div.sk-item::before, #sk-container-id-18 div.sk-parallel-item::before {content: \"\";position: absolute;border-left: 1px solid gray;box-sizing: border-box;top: 0;bottom: 0;left: 50%;z-index: -1;}#sk-container-id-18 div.sk-parallel-item {display: flex;flex-direction: column;z-index: 1;position: relative;background-color: white;}#sk-container-id-18 div.sk-parallel-item:first-child::after {align-self: flex-end;width: 50%;}#sk-container-id-18 div.sk-parallel-item:last-child::after {align-self: flex-start;width: 50%;}#sk-container-id-18 div.sk-parallel-item:only-child::after {width: 0;}#sk-container-id-18 div.sk-dashed-wrapped {border: 1px dashed gray;margin: 0 0.4em 0.5em 0.4em;box-sizing: border-box;padding-bottom: 0.4em;background-color: white;}#sk-container-id-18 div.sk-label label {font-family: monospace;font-weight: bold;display: inline-block;line-height: 1.2em;}#sk-container-id-18 div.sk-label-container {text-align: center;}#sk-container-id-18 div.sk-container {/* jupyter's `normalize.less` sets `[hidden] { display: none; }` but bootstrap.min.css set `[hidden] { display: none !important; }` so we also need the `!important` here to be able to override the default hidden behavior on the sphinx rendered scikit-learn.org. See: https://github.com/scikit-learn/scikit-learn/issues/21755 */display: inline-block !important;position: relative;}#sk-container-id-18 div.sk-text-repr-fallback {display: none;}</style><div id=\"sk-container-id-18\" class=\"sk-top-container\"><div class=\"sk-text-repr-fallback\"><pre>CountVectorizer(max_df=0.1, min_df=7, ngram_range=(1, 3), stop_words=&#x27;english&#x27;)</pre><b>In a Jupyter environment, please rerun this cell to show the HTML representation or trust the notebook. <br />On GitHub, the HTML representation is unable to render, please try loading this page with nbviewer.org.</b></div><div class=\"sk-container\" hidden><div class=\"sk-item\"><div class=\"sk-estimator sk-toggleable\"><input class=\"sk-toggleable__control sk-hidden--visually\" id=\"sk-estimator-id-18\" type=\"checkbox\" checked><label for=\"sk-estimator-id-18\" class=\"sk-toggleable__label sk-toggleable__label-arrow\">CountVectorizer</label><div class=\"sk-toggleable__content\"><pre>CountVectorizer(max_df=0.1, min_df=7, ngram_range=(1, 3), stop_words=&#x27;english&#x27;)</pre></div></div></div></div></div>"
            ]
          },
          "metadata": {},
          "execution_count": 85
        }
      ]
    },
    {
      "cell_type": "code",
      "source": [
        "from itertools import islice\n",
        "cvec.fit(full_1.name_stemmed)\n",
        "list(islice(cvec.vocabulary_.items(), 50))"
      ],
      "metadata": {
        "colab": {
          "base_uri": "https://localhost:8080/"
        },
        "id": "2ZgcOw_Obi-S",
        "outputId": "d257cfd7-4bf5-4a1a-a0fc-6154e3272d3e"
      },
      "execution_count": null,
      "outputs": [
        {
          "output_type": "execute_result",
          "data": {
            "text/plain": [
              "[('di', 577),\n",
              " ('music', 1375),\n",
              " ('time', 2096),\n",
              " ('sign', 1854),\n",
              " ('hear', 977),\n",
              " ('children', 388),\n",
              " ('jump', 1137),\n",
              " ('start', 1966),\n",
              " ('toolkit', 2111),\n",
              " ('public', 1622),\n",
              " ('librari', 1203),\n",
              " ('spread', 1954),\n",
              " ('der', 557),\n",
              " ('shadow', 1830),\n",
              " ('school', 1783),\n",
              " ('board', 257),\n",
              " ('texa', 2068),\n",
              " ('research', 1709),\n",
              " ('aid', 68),\n",
              " ('invest', 1096),\n",
              " ('club', 417),\n",
              " ('collect', 432),\n",
              " ('work', 2303),\n",
              " ('build', 302),\n",
              " ('project', 1609),\n",
              " ('book', 263),\n",
              " ('explor', 739),\n",
              " ('futur', 869),\n",
              " ('want', 2237),\n",
              " ('learn', 1182),\n",
              " ('english', 700),\n",
              " ('mobil', 1334),\n",
              " ('class', 402),\n",
              " ('world', 2306),\n",
              " ('seek', 1809),\n",
              " ('sit', 1865),\n",
              " ('advanc', 58),\n",
              " ('document', 605),\n",
              " ('measur', 1295),\n",
              " ('diari', 578),\n",
              " ('read', 1663),\n",
              " ('vision', 2220),\n",
              " ('letter', 1200),\n",
              " ('john', 1129),\n",
              " ('send', 1814),\n",
              " ('play', 1543),\n",
              " ('course', 498),\n",
              " ('journey', 1132),\n",
              " ('south', 1933),\n",
              " ('photo', 1514)]"
            ]
          },
          "metadata": {},
          "execution_count": 86
        }
      ]
    },
    {
      "cell_type": "code",
      "source": [
        "len(cvec.vocabulary_)"
      ],
      "metadata": {
        "colab": {
          "base_uri": "https://localhost:8080/"
        },
        "id": "JwMXoWYIbozk",
        "outputId": "c6b4b423-ea27-4430-f41d-9936aa071977"
      },
      "execution_count": null,
      "outputs": [
        {
          "output_type": "execute_result",
          "data": {
            "text/plain": [
              "2336"
            ]
          },
          "metadata": {},
          "execution_count": 87
        }
      ]
    },
    {
      "cell_type": "code",
      "source": [
        "cvec_counts = cvec.transform(full_1['name_stemmed'])"
      ],
      "metadata": {
        "id": "L6-YjQcXfIIf"
      },
      "execution_count": null,
      "outputs": []
    },
    {
      "cell_type": "code",
      "source": [
        "print('sparse matrix shape:', cvec_counts.shape)\n",
        "print('nonzero count:', cvec_counts.nnz)\n",
        "print('sparsity: %.2f%%' % (100.0 * cvec_counts.nnz / (cvec_counts.shape[0] * cvec_counts.shape[1])))"
      ],
      "metadata": {
        "colab": {
          "base_uri": "https://localhost:8080/"
        },
        "id": "xrydlWFWfP4a",
        "outputId": "616ac344-707a-4d42-a774-dc1989425c20"
      },
      "execution_count": null,
      "outputs": [
        {
          "output_type": "stream",
          "name": "stdout",
          "text": [
            "sparse matrix shape: (20632, 2336)\n",
            "nonzero count: 67505\n",
            "sparsity: 0.14%\n"
          ]
        }
      ]
    },
    {
      "cell_type": "code",
      "source": [
        "occ = np.asarray(cvec_counts.sum(axis=0)).ravel().tolist()\n",
        "counts_df = pd.DataFrame({'term': cvec.get_feature_names_out(), 'occurrences': occ})\n",
        "counts_df.sort_values(by='occurrences', ascending=True).head(20)"
      ],
      "metadata": {
        "colab": {
          "base_uri": "https://localhost:8080/",
          "height": 677
        },
        "id": "kSWqJ17zf2GE",
        "outputId": "9b1587f6-1495-4232-8303-3a94fe420c7d"
      },
      "execution_count": null,
      "outputs": [
        {
          "output_type": "execute_result",
          "data": {
            "text/plain": [
              "                 term  occurrences\n",
              "851            french            7\n",
              "338             canva            7\n",
              "337           cannabi            7\n",
              "331     camera stabil            7\n",
              "811              flip            7\n",
              "815            flower            7\n",
              "816               fly            7\n",
              "818              foam            7\n",
              "321             caddi            7\n",
              "320               cad            7\n",
              "1437      onlin cours            7\n",
              "826         footprint            7\n",
              "1436  onlin communiti            7\n",
              "836           forward            7\n",
              "844               frc            7\n",
              "303       build robot            7\n",
              "846             freak            7\n",
              "848       free energi            7\n",
              "1681          recruit            7\n",
              "297             bubbl            7"
            ],
            "text/html": [
              "\n",
              "  <div id=\"df-c3c28822-951b-4bf3-bed2-e60ccf8e9349\">\n",
              "    <div class=\"colab-df-container\">\n",
              "      <div>\n",
              "<style scoped>\n",
              "    .dataframe tbody tr th:only-of-type {\n",
              "        vertical-align: middle;\n",
              "    }\n",
              "\n",
              "    .dataframe tbody tr th {\n",
              "        vertical-align: top;\n",
              "    }\n",
              "\n",
              "    .dataframe thead th {\n",
              "        text-align: right;\n",
              "    }\n",
              "</style>\n",
              "<table border=\"1\" class=\"dataframe\">\n",
              "  <thead>\n",
              "    <tr style=\"text-align: right;\">\n",
              "      <th></th>\n",
              "      <th>term</th>\n",
              "      <th>occurrences</th>\n",
              "    </tr>\n",
              "  </thead>\n",
              "  <tbody>\n",
              "    <tr>\n",
              "      <th>851</th>\n",
              "      <td>french</td>\n",
              "      <td>7</td>\n",
              "    </tr>\n",
              "    <tr>\n",
              "      <th>338</th>\n",
              "      <td>canva</td>\n",
              "      <td>7</td>\n",
              "    </tr>\n",
              "    <tr>\n",
              "      <th>337</th>\n",
              "      <td>cannabi</td>\n",
              "      <td>7</td>\n",
              "    </tr>\n",
              "    <tr>\n",
              "      <th>331</th>\n",
              "      <td>camera stabil</td>\n",
              "      <td>7</td>\n",
              "    </tr>\n",
              "    <tr>\n",
              "      <th>811</th>\n",
              "      <td>flip</td>\n",
              "      <td>7</td>\n",
              "    </tr>\n",
              "    <tr>\n",
              "      <th>815</th>\n",
              "      <td>flower</td>\n",
              "      <td>7</td>\n",
              "    </tr>\n",
              "    <tr>\n",
              "      <th>816</th>\n",
              "      <td>fly</td>\n",
              "      <td>7</td>\n",
              "    </tr>\n",
              "    <tr>\n",
              "      <th>818</th>\n",
              "      <td>foam</td>\n",
              "      <td>7</td>\n",
              "    </tr>\n",
              "    <tr>\n",
              "      <th>321</th>\n",
              "      <td>caddi</td>\n",
              "      <td>7</td>\n",
              "    </tr>\n",
              "    <tr>\n",
              "      <th>320</th>\n",
              "      <td>cad</td>\n",
              "      <td>7</td>\n",
              "    </tr>\n",
              "    <tr>\n",
              "      <th>1437</th>\n",
              "      <td>onlin cours</td>\n",
              "      <td>7</td>\n",
              "    </tr>\n",
              "    <tr>\n",
              "      <th>826</th>\n",
              "      <td>footprint</td>\n",
              "      <td>7</td>\n",
              "    </tr>\n",
              "    <tr>\n",
              "      <th>1436</th>\n",
              "      <td>onlin communiti</td>\n",
              "      <td>7</td>\n",
              "    </tr>\n",
              "    <tr>\n",
              "      <th>836</th>\n",
              "      <td>forward</td>\n",
              "      <td>7</td>\n",
              "    </tr>\n",
              "    <tr>\n",
              "      <th>844</th>\n",
              "      <td>frc</td>\n",
              "      <td>7</td>\n",
              "    </tr>\n",
              "    <tr>\n",
              "      <th>303</th>\n",
              "      <td>build robot</td>\n",
              "      <td>7</td>\n",
              "    </tr>\n",
              "    <tr>\n",
              "      <th>846</th>\n",
              "      <td>freak</td>\n",
              "      <td>7</td>\n",
              "    </tr>\n",
              "    <tr>\n",
              "      <th>848</th>\n",
              "      <td>free energi</td>\n",
              "      <td>7</td>\n",
              "    </tr>\n",
              "    <tr>\n",
              "      <th>1681</th>\n",
              "      <td>recruit</td>\n",
              "      <td>7</td>\n",
              "    </tr>\n",
              "    <tr>\n",
              "      <th>297</th>\n",
              "      <td>bubbl</td>\n",
              "      <td>7</td>\n",
              "    </tr>\n",
              "  </tbody>\n",
              "</table>\n",
              "</div>\n",
              "      <button class=\"colab-df-convert\" onclick=\"convertToInteractive('df-c3c28822-951b-4bf3-bed2-e60ccf8e9349')\"\n",
              "              title=\"Convert this dataframe to an interactive table.\"\n",
              "              style=\"display:none;\">\n",
              "        \n",
              "  <svg xmlns=\"http://www.w3.org/2000/svg\" height=\"24px\"viewBox=\"0 0 24 24\"\n",
              "       width=\"24px\">\n",
              "    <path d=\"M0 0h24v24H0V0z\" fill=\"none\"/>\n",
              "    <path d=\"M18.56 5.44l.94 2.06.94-2.06 2.06-.94-2.06-.94-.94-2.06-.94 2.06-2.06.94zm-11 1L8.5 8.5l.94-2.06 2.06-.94-2.06-.94L8.5 2.5l-.94 2.06-2.06.94zm10 10l.94 2.06.94-2.06 2.06-.94-2.06-.94-.94-2.06-.94 2.06-2.06.94z\"/><path d=\"M17.41 7.96l-1.37-1.37c-.4-.4-.92-.59-1.43-.59-.52 0-1.04.2-1.43.59L10.3 9.45l-7.72 7.72c-.78.78-.78 2.05 0 2.83L4 21.41c.39.39.9.59 1.41.59.51 0 1.02-.2 1.41-.59l7.78-7.78 2.81-2.81c.8-.78.8-2.07 0-2.86zM5.41 20L4 18.59l7.72-7.72 1.47 1.35L5.41 20z\"/>\n",
              "  </svg>\n",
              "      </button>\n",
              "      \n",
              "  <style>\n",
              "    .colab-df-container {\n",
              "      display:flex;\n",
              "      flex-wrap:wrap;\n",
              "      gap: 12px;\n",
              "    }\n",
              "\n",
              "    .colab-df-convert {\n",
              "      background-color: #E8F0FE;\n",
              "      border: none;\n",
              "      border-radius: 50%;\n",
              "      cursor: pointer;\n",
              "      display: none;\n",
              "      fill: #1967D2;\n",
              "      height: 32px;\n",
              "      padding: 0 0 0 0;\n",
              "      width: 32px;\n",
              "    }\n",
              "\n",
              "    .colab-df-convert:hover {\n",
              "      background-color: #E2EBFA;\n",
              "      box-shadow: 0px 1px 2px rgba(60, 64, 67, 0.3), 0px 1px 3px 1px rgba(60, 64, 67, 0.15);\n",
              "      fill: #174EA6;\n",
              "    }\n",
              "\n",
              "    [theme=dark] .colab-df-convert {\n",
              "      background-color: #3B4455;\n",
              "      fill: #D2E3FC;\n",
              "    }\n",
              "\n",
              "    [theme=dark] .colab-df-convert:hover {\n",
              "      background-color: #434B5C;\n",
              "      box-shadow: 0px 1px 3px 1px rgba(0, 0, 0, 0.15);\n",
              "      filter: drop-shadow(0px 1px 2px rgba(0, 0, 0, 0.3));\n",
              "      fill: #FFFFFF;\n",
              "    }\n",
              "  </style>\n",
              "\n",
              "      <script>\n",
              "        const buttonEl =\n",
              "          document.querySelector('#df-c3c28822-951b-4bf3-bed2-e60ccf8e9349 button.colab-df-convert');\n",
              "        buttonEl.style.display =\n",
              "          google.colab.kernel.accessAllowed ? 'block' : 'none';\n",
              "\n",
              "        async function convertToInteractive(key) {\n",
              "          const element = document.querySelector('#df-c3c28822-951b-4bf3-bed2-e60ccf8e9349');\n",
              "          const dataTable =\n",
              "            await google.colab.kernel.invokeFunction('convertToInteractive',\n",
              "                                                     [key], {});\n",
              "          if (!dataTable) return;\n",
              "\n",
              "          const docLinkHtml = 'Like what you see? Visit the ' +\n",
              "            '<a target=\"_blank\" href=https://colab.research.google.com/notebooks/data_table.ipynb>data table notebook</a>'\n",
              "            + ' to learn more about interactive tables.';\n",
              "          element.innerHTML = '';\n",
              "          dataTable['output_type'] = 'display_data';\n",
              "          await google.colab.output.renderOutput(dataTable, element);\n",
              "          const docLink = document.createElement('div');\n",
              "          docLink.innerHTML = docLinkHtml;\n",
              "          element.appendChild(docLink);\n",
              "        }\n",
              "      </script>\n",
              "    </div>\n",
              "  </div>\n",
              "  "
            ]
          },
          "metadata": {},
          "execution_count": 96
        }
      ]
    },
    {
      "cell_type": "code",
      "source": [
        "full_1['backers_count'].value_counts()"
      ],
      "metadata": {
        "colab": {
          "base_uri": "https://localhost:8080/"
        },
        "id": "Bb_tafzcGs5H",
        "outputId": "99a4af22-4afe-4bf5-b1d4-a822e8e80f2e"
      },
      "execution_count": null,
      "outputs": [
        {
          "output_type": "execute_result",
          "data": {
            "text/plain": [
              "0       2936\n",
              "1       1914\n",
              "2       1276\n",
              "3        910\n",
              "4        714\n",
              "        ... \n",
              "1513       1\n",
              "3863       1\n",
              "2051       1\n",
              "737        1\n",
              "819        1\n",
              "Name: backers_count, Length: 1505, dtype: int64"
            ]
          },
          "metadata": {},
          "execution_count": 23
        }
      ]
    },
    {
      "cell_type": "code",
      "source": [],
      "metadata": {
        "id": "BTQTD_NsFcGn"
      },
      "execution_count": null,
      "outputs": []
    },
    {
      "cell_type": "code",
      "source": [
        "with_feature = pd.read_csv('/content/drive/MyDrive/257/ML Project/kickstarter_data_with_features.csv')\n",
        "with_feature.head()"
      ],
      "metadata": {
        "colab": {
          "base_uri": "https://localhost:8080/",
          "height": 664
        },
        "id": "OK37fpk7oLkG",
        "outputId": "1dcda6cb-4d45-4d72-e3e4-8c7452518b09"
      },
      "execution_count": null,
      "outputs": [
        {
          "output_type": "execute_result",
          "data": {
            "text/plain": [
              "   Unnamed: 0          id                                              photo  \\\n",
              "0           0  1454391034  {\"small\":\"https://ksr-ugc.imgix.net/assets/011...   \n",
              "1           1  1655206086  {\"small\":\"https://ksr-ugc.imgix.net/assets/012...   \n",
              "2           2   311581827  {\"small\":\"https://ksr-ugc.imgix.net/assets/012...   \n",
              "3           3   859724515  {\"small\":\"https://ksr-ugc.imgix.net/assets/011...   \n",
              "4           4  1613604977  {\"small\":\"https://ksr-ugc.imgix.net/assets/012...   \n",
              "\n",
              "                                                name  \\\n",
              "0  Auntie Di's Music Time Sign ASL for Hearing an...   \n",
              "1                    Jump Start Kindergarten Toolkit   \n",
              "2  Ojukwu Balewa Awolowo (O.B.A.) Public Library ...   \n",
              "3      MASTIZE - [mas-TAHYZ, MAS-tahyz]  - to spread   \n",
              "4  Synopse der EU-DSGVO - Artikel, Erwägungsgründ...   \n",
              "\n",
              "                                               blurb      goal  pledged  \\\n",
              "0  MTS ASL Curriculum Workbook is a reproducible ...    1500.0      0.0   \n",
              "1  This kit teaches how to print, correct an ugly...     500.0      0.0   \n",
              "2  Establishing a free, world-class, public libra...  100000.0    120.0   \n",
              "3  Goal: Introducing a new word into the English ...    5000.0      0.0   \n",
              "4  Zu den Artikeln der DSGVO sind die korrespondi...    3222.0    356.0   \n",
              "\n",
              "    state                                               slug  \\\n",
              "0  failed  auntie-dis-music-time-sign-asl-for-hearing-and...   \n",
              "1  failed                    jump-start-kindergarten-toolkit   \n",
              "2  failed  ojukwu-balewa-awolowo-oba-public-library-of-ni...   \n",
              "3  failed              mastize-mas-tahyz-mas-tahyz-to-spread   \n",
              "4  failed  synopse-der-eu-dsgvo-artikel-erwagungsgrunde-bdsg   \n",
              "\n",
              "   disable_communication  ... created_at_day created_at_yr created_at_hr  \\\n",
              "0                  False  ...             29          2014            22   \n",
              "1                  False  ...             20          2015             9   \n",
              "2                  False  ...             24          2015             0   \n",
              "3                  False  ...              5          2014            22   \n",
              "4                  False  ...             25          2016            14   \n",
              "\n",
              "   launched_at_month launched_at_day launched_at_yr launched_at_hr  \\\n",
              "0                 12              17           2014             13   \n",
              "1                  3               2           2015             16   \n",
              "2                  1              25           2015              8   \n",
              "3                  9               6           2014              0   \n",
              "4                  5              26           2016              5   \n",
              "\n",
              "             create_to_launch          launch_to_deadline  \\\n",
              "0  17 days 14:51:39.000000000  36 days 20:47:24.000000000   \n",
              "1  10 days 06:44:39.000000000  60 days 00:00:00.000000000   \n",
              "2   1 days 08:08:58.000000000  60 days 00:00:00.000000000   \n",
              "3   0 days 02:11:17.000000000  30 days 00:00:00.000000000   \n",
              "4   0 days 15:47:38.000000000  32 days 06:02:33.000000000   \n",
              "\n",
              "   launch_to_state_change  \n",
              "0                     NaN  \n",
              "1                     NaN  \n",
              "2                     NaN  \n",
              "3                     NaN  \n",
              "4                     NaN  \n",
              "\n",
              "[5 rows x 60 columns]"
            ],
            "text/html": [
              "\n",
              "  <div id=\"df-d682ee6b-80d6-423a-a652-ef2a8412a851\">\n",
              "    <div class=\"colab-df-container\">\n",
              "      <div>\n",
              "<style scoped>\n",
              "    .dataframe tbody tr th:only-of-type {\n",
              "        vertical-align: middle;\n",
              "    }\n",
              "\n",
              "    .dataframe tbody tr th {\n",
              "        vertical-align: top;\n",
              "    }\n",
              "\n",
              "    .dataframe thead th {\n",
              "        text-align: right;\n",
              "    }\n",
              "</style>\n",
              "<table border=\"1\" class=\"dataframe\">\n",
              "  <thead>\n",
              "    <tr style=\"text-align: right;\">\n",
              "      <th></th>\n",
              "      <th>Unnamed: 0</th>\n",
              "      <th>id</th>\n",
              "      <th>photo</th>\n",
              "      <th>name</th>\n",
              "      <th>blurb</th>\n",
              "      <th>goal</th>\n",
              "      <th>pledged</th>\n",
              "      <th>state</th>\n",
              "      <th>slug</th>\n",
              "      <th>disable_communication</th>\n",
              "      <th>...</th>\n",
              "      <th>created_at_day</th>\n",
              "      <th>created_at_yr</th>\n",
              "      <th>created_at_hr</th>\n",
              "      <th>launched_at_month</th>\n",
              "      <th>launched_at_day</th>\n",
              "      <th>launched_at_yr</th>\n",
              "      <th>launched_at_hr</th>\n",
              "      <th>create_to_launch</th>\n",
              "      <th>launch_to_deadline</th>\n",
              "      <th>launch_to_state_change</th>\n",
              "    </tr>\n",
              "  </thead>\n",
              "  <tbody>\n",
              "    <tr>\n",
              "      <th>0</th>\n",
              "      <td>0</td>\n",
              "      <td>1454391034</td>\n",
              "      <td>{\"small\":\"https://ksr-ugc.imgix.net/assets/011...</td>\n",
              "      <td>Auntie Di's Music Time Sign ASL for Hearing an...</td>\n",
              "      <td>MTS ASL Curriculum Workbook is a reproducible ...</td>\n",
              "      <td>1500.0</td>\n",
              "      <td>0.0</td>\n",
              "      <td>failed</td>\n",
              "      <td>auntie-dis-music-time-sign-asl-for-hearing-and...</td>\n",
              "      <td>False</td>\n",
              "      <td>...</td>\n",
              "      <td>29</td>\n",
              "      <td>2014</td>\n",
              "      <td>22</td>\n",
              "      <td>12</td>\n",
              "      <td>17</td>\n",
              "      <td>2014</td>\n",
              "      <td>13</td>\n",
              "      <td>17 days 14:51:39.000000000</td>\n",
              "      <td>36 days 20:47:24.000000000</td>\n",
              "      <td>NaN</td>\n",
              "    </tr>\n",
              "    <tr>\n",
              "      <th>1</th>\n",
              "      <td>1</td>\n",
              "      <td>1655206086</td>\n",
              "      <td>{\"small\":\"https://ksr-ugc.imgix.net/assets/012...</td>\n",
              "      <td>Jump Start Kindergarten Toolkit</td>\n",
              "      <td>This kit teaches how to print, correct an ugly...</td>\n",
              "      <td>500.0</td>\n",
              "      <td>0.0</td>\n",
              "      <td>failed</td>\n",
              "      <td>jump-start-kindergarten-toolkit</td>\n",
              "      <td>False</td>\n",
              "      <td>...</td>\n",
              "      <td>20</td>\n",
              "      <td>2015</td>\n",
              "      <td>9</td>\n",
              "      <td>3</td>\n",
              "      <td>2</td>\n",
              "      <td>2015</td>\n",
              "      <td>16</td>\n",
              "      <td>10 days 06:44:39.000000000</td>\n",
              "      <td>60 days 00:00:00.000000000</td>\n",
              "      <td>NaN</td>\n",
              "    </tr>\n",
              "    <tr>\n",
              "      <th>2</th>\n",
              "      <td>2</td>\n",
              "      <td>311581827</td>\n",
              "      <td>{\"small\":\"https://ksr-ugc.imgix.net/assets/012...</td>\n",
              "      <td>Ojukwu Balewa Awolowo (O.B.A.) Public Library ...</td>\n",
              "      <td>Establishing a free, world-class, public libra...</td>\n",
              "      <td>100000.0</td>\n",
              "      <td>120.0</td>\n",
              "      <td>failed</td>\n",
              "      <td>ojukwu-balewa-awolowo-oba-public-library-of-ni...</td>\n",
              "      <td>False</td>\n",
              "      <td>...</td>\n",
              "      <td>24</td>\n",
              "      <td>2015</td>\n",
              "      <td>0</td>\n",
              "      <td>1</td>\n",
              "      <td>25</td>\n",
              "      <td>2015</td>\n",
              "      <td>8</td>\n",
              "      <td>1 days 08:08:58.000000000</td>\n",
              "      <td>60 days 00:00:00.000000000</td>\n",
              "      <td>NaN</td>\n",
              "    </tr>\n",
              "    <tr>\n",
              "      <th>3</th>\n",
              "      <td>3</td>\n",
              "      <td>859724515</td>\n",
              "      <td>{\"small\":\"https://ksr-ugc.imgix.net/assets/011...</td>\n",
              "      <td>MASTIZE - [mas-TAHYZ, MAS-tahyz]  - to spread</td>\n",
              "      <td>Goal: Introducing a new word into the English ...</td>\n",
              "      <td>5000.0</td>\n",
              "      <td>0.0</td>\n",
              "      <td>failed</td>\n",
              "      <td>mastize-mas-tahyz-mas-tahyz-to-spread</td>\n",
              "      <td>False</td>\n",
              "      <td>...</td>\n",
              "      <td>5</td>\n",
              "      <td>2014</td>\n",
              "      <td>22</td>\n",
              "      <td>9</td>\n",
              "      <td>6</td>\n",
              "      <td>2014</td>\n",
              "      <td>0</td>\n",
              "      <td>0 days 02:11:17.000000000</td>\n",
              "      <td>30 days 00:00:00.000000000</td>\n",
              "      <td>NaN</td>\n",
              "    </tr>\n",
              "    <tr>\n",
              "      <th>4</th>\n",
              "      <td>4</td>\n",
              "      <td>1613604977</td>\n",
              "      <td>{\"small\":\"https://ksr-ugc.imgix.net/assets/012...</td>\n",
              "      <td>Synopse der EU-DSGVO - Artikel, Erwägungsgründ...</td>\n",
              "      <td>Zu den Artikeln der DSGVO sind die korrespondi...</td>\n",
              "      <td>3222.0</td>\n",
              "      <td>356.0</td>\n",
              "      <td>failed</td>\n",
              "      <td>synopse-der-eu-dsgvo-artikel-erwagungsgrunde-bdsg</td>\n",
              "      <td>False</td>\n",
              "      <td>...</td>\n",
              "      <td>25</td>\n",
              "      <td>2016</td>\n",
              "      <td>14</td>\n",
              "      <td>5</td>\n",
              "      <td>26</td>\n",
              "      <td>2016</td>\n",
              "      <td>5</td>\n",
              "      <td>0 days 15:47:38.000000000</td>\n",
              "      <td>32 days 06:02:33.000000000</td>\n",
              "      <td>NaN</td>\n",
              "    </tr>\n",
              "  </tbody>\n",
              "</table>\n",
              "<p>5 rows × 60 columns</p>\n",
              "</div>\n",
              "      <button class=\"colab-df-convert\" onclick=\"convertToInteractive('df-d682ee6b-80d6-423a-a652-ef2a8412a851')\"\n",
              "              title=\"Convert this dataframe to an interactive table.\"\n",
              "              style=\"display:none;\">\n",
              "        \n",
              "  <svg xmlns=\"http://www.w3.org/2000/svg\" height=\"24px\"viewBox=\"0 0 24 24\"\n",
              "       width=\"24px\">\n",
              "    <path d=\"M0 0h24v24H0V0z\" fill=\"none\"/>\n",
              "    <path d=\"M18.56 5.44l.94 2.06.94-2.06 2.06-.94-2.06-.94-.94-2.06-.94 2.06-2.06.94zm-11 1L8.5 8.5l.94-2.06 2.06-.94-2.06-.94L8.5 2.5l-.94 2.06-2.06.94zm10 10l.94 2.06.94-2.06 2.06-.94-2.06-.94-.94-2.06-.94 2.06-2.06.94z\"/><path d=\"M17.41 7.96l-1.37-1.37c-.4-.4-.92-.59-1.43-.59-.52 0-1.04.2-1.43.59L10.3 9.45l-7.72 7.72c-.78.78-.78 2.05 0 2.83L4 21.41c.39.39.9.59 1.41.59.51 0 1.02-.2 1.41-.59l7.78-7.78 2.81-2.81c.8-.78.8-2.07 0-2.86zM5.41 20L4 18.59l7.72-7.72 1.47 1.35L5.41 20z\"/>\n",
              "  </svg>\n",
              "      </button>\n",
              "      \n",
              "  <style>\n",
              "    .colab-df-container {\n",
              "      display:flex;\n",
              "      flex-wrap:wrap;\n",
              "      gap: 12px;\n",
              "    }\n",
              "\n",
              "    .colab-df-convert {\n",
              "      background-color: #E8F0FE;\n",
              "      border: none;\n",
              "      border-radius: 50%;\n",
              "      cursor: pointer;\n",
              "      display: none;\n",
              "      fill: #1967D2;\n",
              "      height: 32px;\n",
              "      padding: 0 0 0 0;\n",
              "      width: 32px;\n",
              "    }\n",
              "\n",
              "    .colab-df-convert:hover {\n",
              "      background-color: #E2EBFA;\n",
              "      box-shadow: 0px 1px 2px rgba(60, 64, 67, 0.3), 0px 1px 3px 1px rgba(60, 64, 67, 0.15);\n",
              "      fill: #174EA6;\n",
              "    }\n",
              "\n",
              "    [theme=dark] .colab-df-convert {\n",
              "      background-color: #3B4455;\n",
              "      fill: #D2E3FC;\n",
              "    }\n",
              "\n",
              "    [theme=dark] .colab-df-convert:hover {\n",
              "      background-color: #434B5C;\n",
              "      box-shadow: 0px 1px 3px 1px rgba(0, 0, 0, 0.15);\n",
              "      filter: drop-shadow(0px 1px 2px rgba(0, 0, 0, 0.3));\n",
              "      fill: #FFFFFF;\n",
              "    }\n",
              "  </style>\n",
              "\n",
              "      <script>\n",
              "        const buttonEl =\n",
              "          document.querySelector('#df-d682ee6b-80d6-423a-a652-ef2a8412a851 button.colab-df-convert');\n",
              "        buttonEl.style.display =\n",
              "          google.colab.kernel.accessAllowed ? 'block' : 'none';\n",
              "\n",
              "        async function convertToInteractive(key) {\n",
              "          const element = document.querySelector('#df-d682ee6b-80d6-423a-a652-ef2a8412a851');\n",
              "          const dataTable =\n",
              "            await google.colab.kernel.invokeFunction('convertToInteractive',\n",
              "                                                     [key], {});\n",
              "          if (!dataTable) return;\n",
              "\n",
              "          const docLinkHtml = 'Like what you see? Visit the ' +\n",
              "            '<a target=\"_blank\" href=https://colab.research.google.com/notebooks/data_table.ipynb>data table notebook</a>'\n",
              "            + ' to learn more about interactive tables.';\n",
              "          element.innerHTML = '';\n",
              "          dataTable['output_type'] = 'display_data';\n",
              "          await google.colab.output.renderOutput(dataTable, element);\n",
              "          const docLink = document.createElement('div');\n",
              "          docLink.innerHTML = docLinkHtml;\n",
              "          element.appendChild(docLink);\n",
              "        }\n",
              "      </script>\n",
              "    </div>\n",
              "  </div>\n",
              "  "
            ]
          },
          "metadata": {},
          "execution_count": 4
        }
      ]
    },
    {
      "cell_type": "code",
      "source": [
        "with_feature.isna().sum()"
      ],
      "metadata": {
        "colab": {
          "base_uri": "https://localhost:8080/"
        },
        "id": "iYaFuAzJsOx4",
        "outputId": "0fb8c4e8-8edc-4579-a3d2-c428fb2b99bb"
      },
      "execution_count": null,
      "outputs": [
        {
          "output_type": "execute_result",
          "data": {
            "text/plain": [
              "Unnamed: 0                      0\n",
              "id                              0\n",
              "photo                           0\n",
              "name                            0\n",
              "blurb                           5\n",
              "goal                            0\n",
              "pledged                         0\n",
              "state                           0\n",
              "slug                            0\n",
              "disable_communication           0\n",
              "country                         0\n",
              "currency                        0\n",
              "currency_symbol                 0\n",
              "currency_trailing_code          0\n",
              "deadline                        0\n",
              "state_changed_at                0\n",
              "created_at                      0\n",
              "launched_at                     0\n",
              "staff_pick                      0\n",
              "backers_count                   0\n",
              "static_usd_rate                 0\n",
              "usd_pledged                     0\n",
              "creator                         0\n",
              "location                       45\n",
              "category                     1889\n",
              "profile                         0\n",
              "spotlight                       0\n",
              "urls                            0\n",
              "source_url                      0\n",
              "friends                     20572\n",
              "is_starred                  20572\n",
              "is_backing                  20572\n",
              "permissions                 20572\n",
              "name_len                        5\n",
              "name_len_clean                  5\n",
              "blurb_len                       5\n",
              "blurb_len_clean                 5\n",
              "deadline_weekday                0\n",
              "state_changed_at_weekday        0\n",
              "created_at_weekday              0\n",
              "launched_at_weekday             0\n",
              "deadline_month                  0\n",
              "deadline_day                    0\n",
              "deadline_yr                     0\n",
              "deadline_hr                     0\n",
              "state_changed_at_month          0\n",
              "state_changed_at_day            0\n",
              "state_changed_at_yr             0\n",
              "state_changed_at_hr             0\n",
              "created_at_month                0\n",
              "created_at_day                  0\n",
              "created_at_yr                   0\n",
              "created_at_hr                   0\n",
              "launched_at_month               0\n",
              "launched_at_day                 0\n",
              "launched_at_yr                  0\n",
              "launched_at_hr                  0\n",
              "create_to_launch                0\n",
              "launch_to_deadline              0\n",
              "launch_to_state_change      14614\n",
              "dtype: int64"
            ]
          },
          "metadata": {},
          "execution_count": 33
        }
      ]
    },
    {
      "cell_type": "code",
      "source": [
        "with_feature['launch_to_state_change'].isna().sum()"
      ],
      "metadata": {
        "colab": {
          "base_uri": "https://localhost:8080/"
        },
        "id": "FwcwM4EMBuX-",
        "outputId": "7030c81d-c7db-4648-de54-e0c5359e3a59"
      },
      "execution_count": null,
      "outputs": [
        {
          "output_type": "execute_result",
          "data": {
            "text/plain": [
              "14614"
            ]
          },
          "metadata": {},
          "execution_count": 48
        }
      ]
    },
    {
      "cell_type": "code",
      "source": [
        "temp.isna().sum()"
      ],
      "metadata": {
        "colab": {
          "base_uri": "https://localhost:8080/"
        },
        "id": "SHtMy2QgsSNz",
        "outputId": "bf8a2667-7c0d-4a03-bb84-f4ba59ac36e1"
      },
      "execution_count": null,
      "outputs": [
        {
          "output_type": "execute_result",
          "data": {
            "text/plain": [
              "Unnamed: 0                      0\n",
              "id                              0\n",
              "photo                           0\n",
              "name                            0\n",
              "blurb                           5\n",
              "goal                            0\n",
              "pledged                         0\n",
              "state                           0\n",
              "slug                            0\n",
              "disable_communication           0\n",
              "country                         0\n",
              "currency                        0\n",
              "currency_symbol                 0\n",
              "currency_trailing_code          0\n",
              "deadline                        0\n",
              "state_changed_at                0\n",
              "created_at                      0\n",
              "launched_at                     0\n",
              "staff_pick                      0\n",
              "backers_count                   0\n",
              "static_usd_rate                 0\n",
              "usd_pledged                     0\n",
              "creator                         0\n",
              "location                       45\n",
              "category                     1889\n",
              "profile                         0\n",
              "spotlight                       0\n",
              "urls                            0\n",
              "source_url                      0\n",
              "friends                     20572\n",
              "is_starred                  20572\n",
              "is_backing                  20572\n",
              "permissions                 20572\n",
              "name_len                        5\n",
              "name_len_clean                  5\n",
              "blurb_len                       5\n",
              "blurb_len_clean                 5\n",
              "deadline_weekday                0\n",
              "state_changed_at_weekday        0\n",
              "created_at_weekday              0\n",
              "launched_at_weekday             0\n",
              "deadline_month                  0\n",
              "deadline_day                    0\n",
              "deadline_yr                     0\n",
              "deadline_hr                     0\n",
              "state_changed_at_month          0\n",
              "state_changed_at_day            0\n",
              "state_changed_at_yr             0\n",
              "state_changed_at_hr             0\n",
              "created_at_month                0\n",
              "created_at_day                  0\n",
              "created_at_yr                   0\n",
              "created_at_hr                   0\n",
              "launched_at_month               0\n",
              "launched_at_day                 0\n",
              "launched_at_yr                  0\n",
              "launched_at_hr                  0\n",
              "create_to_launch                0\n",
              "launch_to_deadline              0\n",
              "launch_to_state_change          0\n",
              "dtype: int64"
            ]
          },
          "metadata": {},
          "execution_count": 35
        }
      ]
    },
    {
      "cell_type": "code",
      "source": [
        "full['category'].value_counts()"
      ],
      "metadata": {
        "colab": {
          "base_uri": "https://localhost:8080/"
        },
        "id": "QStWe7FAoYX_",
        "outputId": "e726186b-0e1c-4fb4-8c24-17631855f8e4"
      },
      "execution_count": null,
      "outputs": [
        {
          "output_type": "execute_result",
          "data": {
            "text/plain": [
              "Web             3325\n",
              "Hardware        3248\n",
              "Software        2631\n",
              "Gadgets         2336\n",
              "Plays           1184\n",
              "Apps            1168\n",
              "Wearables        971\n",
              "Musical          791\n",
              "Sound            528\n",
              "Festivals        482\n",
              "Robots           473\n",
              "Flight           373\n",
              "Experimental     321\n",
              "Immersive        277\n",
              "Makerspaces      203\n",
              "Spaces           182\n",
              "Places           100\n",
              "Shorts            40\n",
              "Thrillers         20\n",
              "Webseries         20\n",
              "Restaurants       20\n",
              "Blues             20\n",
              "Academic          20\n",
              "Comedy            10\n",
              "Name: category, dtype: int64"
            ]
          },
          "metadata": {},
          "execution_count": 10
        }
      ]
    },
    {
      "cell_type": "code",
      "source": [
        "full.columns"
      ],
      "metadata": {
        "colab": {
          "base_uri": "https://localhost:8080/"
        },
        "id": "qd7f-8BSkcAA",
        "outputId": "4fade14b-d851-40c0-a244-d98a2c40979d"
      },
      "execution_count": null,
      "outputs": [
        {
          "output_type": "execute_result",
          "data": {
            "text/plain": [
              "Index(['Unnamed: 0', 'id', 'photo', 'name', 'blurb', 'goal', 'pledged',\n",
              "       'state', 'slug', 'disable_communication', 'country', 'currency',\n",
              "       'currency_symbol', 'currency_trailing_code', 'deadline',\n",
              "       'state_changed_at', 'created_at', 'launched_at', 'staff_pick',\n",
              "       'backers_count', 'static_usd_rate', 'usd_pledged', 'creator',\n",
              "       'location', 'category', 'profile', 'spotlight', 'urls', 'source_url',\n",
              "       'friends', 'is_starred', 'is_backing', 'permissions', 'name_len',\n",
              "       'name_len_clean', 'blurb_len', 'blurb_len_clean', 'deadline_weekday',\n",
              "       'state_changed_at_weekday', 'created_at_weekday', 'launched_at_weekday',\n",
              "       'deadline_month', 'deadline_day', 'deadline_yr', 'deadline_hr',\n",
              "       'state_changed_at_month', 'state_changed_at_day', 'state_changed_at_yr',\n",
              "       'state_changed_at_hr', 'created_at_month', 'created_at_day',\n",
              "       'created_at_yr', 'created_at_hr', 'launched_at_month',\n",
              "       'launched_at_day', 'launched_at_yr', 'launched_at_hr',\n",
              "       'create_to_launch', 'launch_to_deadline', 'launch_to_state_change',\n",
              "       'create_to_launch_days', 'launch_to_deadline_days',\n",
              "       'launch_to_state_change_days', 'SuccessfulBool', 'USorGB', 'TOPCOUNTRY',\n",
              "       'LaunchedTuesday', 'DeadlineWeekend'],\n",
              "      dtype='object')"
            ]
          },
          "metadata": {},
          "execution_count": 11
        }
      ]
    },
    {
      "cell_type": "code",
      "source": [
        "with_feature.columns"
      ],
      "metadata": {
        "colab": {
          "base_uri": "https://localhost:8080/"
        },
        "id": "8QRbpdTUpr_g",
        "outputId": "3d3716b6-999f-4b36-c758-4f381395134b"
      },
      "execution_count": null,
      "outputs": [
        {
          "output_type": "execute_result",
          "data": {
            "text/plain": [
              "Index(['Unnamed: 0', 'id', 'photo', 'name', 'blurb', 'goal', 'pledged',\n",
              "       'state', 'slug', 'disable_communication', 'country', 'currency',\n",
              "       'currency_symbol', 'currency_trailing_code', 'deadline',\n",
              "       'state_changed_at', 'created_at', 'launched_at', 'staff_pick',\n",
              "       'backers_count', 'static_usd_rate', 'usd_pledged', 'creator',\n",
              "       'location', 'category', 'profile', 'spotlight', 'urls', 'source_url',\n",
              "       'friends', 'is_starred', 'is_backing', 'permissions', 'name_len',\n",
              "       'name_len_clean', 'blurb_len', 'blurb_len_clean', 'deadline_weekday',\n",
              "       'state_changed_at_weekday', 'created_at_weekday', 'launched_at_weekday',\n",
              "       'deadline_month', 'deadline_day', 'deadline_yr', 'deadline_hr',\n",
              "       'state_changed_at_month', 'state_changed_at_day', 'state_changed_at_yr',\n",
              "       'state_changed_at_hr', 'created_at_month', 'created_at_day',\n",
              "       'created_at_yr', 'created_at_hr', 'launched_at_month',\n",
              "       'launched_at_day', 'launched_at_yr', 'launched_at_hr',\n",
              "       'create_to_launch', 'launch_to_deadline', 'launch_to_state_change'],\n",
              "      dtype='object')"
            ]
          },
          "metadata": {},
          "execution_count": 12
        }
      ]
    },
    {
      "cell_type": "code",
      "source": [
        "full.shape"
      ],
      "metadata": {
        "colab": {
          "base_uri": "https://localhost:8080/"
        },
        "id": "sk90ry2Bpzp5",
        "outputId": "89aeb4f6-71ea-4ba7-e231-8101156f2461"
      },
      "execution_count": null,
      "outputs": [
        {
          "output_type": "execute_result",
          "data": {
            "text/plain": [
              "(20632, 68)"
            ]
          },
          "metadata": {},
          "execution_count": 14
        }
      ]
    },
    {
      "cell_type": "code",
      "source": [
        "with_feature.shape"
      ],
      "metadata": {
        "colab": {
          "base_uri": "https://localhost:8080/"
        },
        "id": "YF5Au3dIp3YB",
        "outputId": "eebf226f-66dd-4404-c2bc-f08dc752e47f"
      },
      "execution_count": null,
      "outputs": [
        {
          "output_type": "execute_result",
          "data": {
            "text/plain": [
              "(20632, 60)"
            ]
          },
          "metadata": {},
          "execution_count": 15
        }
      ]
    },
    {
      "cell_type": "code",
      "source": [
        "temp = full.iloc[:,:59]\n",
        "temp.columns"
      ],
      "metadata": {
        "colab": {
          "base_uri": "https://localhost:8080/"
        },
        "id": "dP58CnQTqUFz",
        "outputId": "f5735f74-d712-4a13-8825-9ac2effee930"
      },
      "execution_count": null,
      "outputs": [
        {
          "output_type": "execute_result",
          "data": {
            "text/plain": [
              "Index(['Unnamed: 0', 'id', 'photo', 'name', 'blurb', 'goal', 'pledged',\n",
              "       'state', 'slug', 'disable_communication', 'country', 'currency',\n",
              "       'currency_symbol', 'currency_trailing_code', 'deadline',\n",
              "       'state_changed_at', 'created_at', 'launched_at', 'staff_pick',\n",
              "       'backers_count', 'static_usd_rate', 'usd_pledged', 'creator',\n",
              "       'location', 'category', 'profile', 'spotlight', 'urls', 'source_url',\n",
              "       'friends', 'is_starred', 'is_backing', 'permissions', 'name_len',\n",
              "       'name_len_clean', 'blurb_len', 'blurb_len_clean', 'deadline_weekday',\n",
              "       'state_changed_at_weekday', 'created_at_weekday', 'launched_at_weekday',\n",
              "       'deadline_month', 'deadline_day', 'deadline_yr', 'deadline_hr',\n",
              "       'state_changed_at_month', 'state_changed_at_day', 'state_changed_at_yr',\n",
              "       'state_changed_at_hr', 'created_at_month', 'created_at_day',\n",
              "       'created_at_yr', 'created_at_hr', 'launched_at_month',\n",
              "       'launched_at_day', 'launched_at_yr', 'launched_at_hr',\n",
              "       'create_to_launch', 'launch_to_deadline'],\n",
              "      dtype='object')"
            ]
          },
          "metadata": {},
          "execution_count": 36
        }
      ]
    },
    {
      "cell_type": "code",
      "source": [
        "temp.equals(with_feature.iloc[:,:59])"
      ],
      "metadata": {
        "colab": {
          "base_uri": "https://localhost:8080/"
        },
        "id": "irFObriEsntA",
        "outputId": "3e40b19e-b76e-4769-f391-93d6e9066c2a"
      },
      "execution_count": null,
      "outputs": [
        {
          "output_type": "execute_result",
          "data": {
            "text/plain": [
              "True"
            ]
          },
          "metadata": {},
          "execution_count": 37
        }
      ]
    },
    {
      "cell_type": "code",
      "source": [
        "temp.head(1)"
      ],
      "metadata": {
        "colab": {
          "base_uri": "https://localhost:8080/",
          "height": 313
        },
        "id": "O2FuzfY0rOmV",
        "outputId": "ecebd08b-163d-42a2-9115-c373dbc42d64"
      },
      "execution_count": null,
      "outputs": [
        {
          "output_type": "execute_result",
          "data": {
            "text/plain": [
              "   Unnamed: 0          id                                              photo  \\\n",
              "0           0  1454391034  {\"small\":\"https://ksr-ugc.imgix.net/assets/011...   \n",
              "\n",
              "                                                name  \\\n",
              "0  Auntie Di's Music Time Sign ASL for Hearing an...   \n",
              "\n",
              "                                               blurb    goal  pledged   state  \\\n",
              "0  MTS ASL Curriculum Workbook is a reproducible ...  1500.0      0.0  failed   \n",
              "\n",
              "                                                slug  disable_communication  \\\n",
              "0  auntie-dis-music-time-sign-asl-for-hearing-and...                  False   \n",
              "\n",
              "   ... created_at_day created_at_yr created_at_hr  launched_at_month  \\\n",
              "0  ...             29          2014            22                 12   \n",
              "\n",
              "  launched_at_day launched_at_yr launched_at_hr            create_to_launch  \\\n",
              "0              17           2014             13  17 days 14:51:39.000000000   \n",
              "\n",
              "           launch_to_deadline      launch_to_state_change  \n",
              "0  36 days 20:47:24.000000000  36 days 20:47:24.000000000  \n",
              "\n",
              "[1 rows x 60 columns]"
            ],
            "text/html": [
              "\n",
              "  <div id=\"df-8b823836-dc1c-4447-a801-947bb982fcbc\">\n",
              "    <div class=\"colab-df-container\">\n",
              "      <div>\n",
              "<style scoped>\n",
              "    .dataframe tbody tr th:only-of-type {\n",
              "        vertical-align: middle;\n",
              "    }\n",
              "\n",
              "    .dataframe tbody tr th {\n",
              "        vertical-align: top;\n",
              "    }\n",
              "\n",
              "    .dataframe thead th {\n",
              "        text-align: right;\n",
              "    }\n",
              "</style>\n",
              "<table border=\"1\" class=\"dataframe\">\n",
              "  <thead>\n",
              "    <tr style=\"text-align: right;\">\n",
              "      <th></th>\n",
              "      <th>Unnamed: 0</th>\n",
              "      <th>id</th>\n",
              "      <th>photo</th>\n",
              "      <th>name</th>\n",
              "      <th>blurb</th>\n",
              "      <th>goal</th>\n",
              "      <th>pledged</th>\n",
              "      <th>state</th>\n",
              "      <th>slug</th>\n",
              "      <th>disable_communication</th>\n",
              "      <th>...</th>\n",
              "      <th>created_at_day</th>\n",
              "      <th>created_at_yr</th>\n",
              "      <th>created_at_hr</th>\n",
              "      <th>launched_at_month</th>\n",
              "      <th>launched_at_day</th>\n",
              "      <th>launched_at_yr</th>\n",
              "      <th>launched_at_hr</th>\n",
              "      <th>create_to_launch</th>\n",
              "      <th>launch_to_deadline</th>\n",
              "      <th>launch_to_state_change</th>\n",
              "    </tr>\n",
              "  </thead>\n",
              "  <tbody>\n",
              "    <tr>\n",
              "      <th>0</th>\n",
              "      <td>0</td>\n",
              "      <td>1454391034</td>\n",
              "      <td>{\"small\":\"https://ksr-ugc.imgix.net/assets/011...</td>\n",
              "      <td>Auntie Di's Music Time Sign ASL for Hearing an...</td>\n",
              "      <td>MTS ASL Curriculum Workbook is a reproducible ...</td>\n",
              "      <td>1500.0</td>\n",
              "      <td>0.0</td>\n",
              "      <td>failed</td>\n",
              "      <td>auntie-dis-music-time-sign-asl-for-hearing-and...</td>\n",
              "      <td>False</td>\n",
              "      <td>...</td>\n",
              "      <td>29</td>\n",
              "      <td>2014</td>\n",
              "      <td>22</td>\n",
              "      <td>12</td>\n",
              "      <td>17</td>\n",
              "      <td>2014</td>\n",
              "      <td>13</td>\n",
              "      <td>17 days 14:51:39.000000000</td>\n",
              "      <td>36 days 20:47:24.000000000</td>\n",
              "      <td>36 days 20:47:24.000000000</td>\n",
              "    </tr>\n",
              "  </tbody>\n",
              "</table>\n",
              "<p>1 rows × 60 columns</p>\n",
              "</div>\n",
              "      <button class=\"colab-df-convert\" onclick=\"convertToInteractive('df-8b823836-dc1c-4447-a801-947bb982fcbc')\"\n",
              "              title=\"Convert this dataframe to an interactive table.\"\n",
              "              style=\"display:none;\">\n",
              "        \n",
              "  <svg xmlns=\"http://www.w3.org/2000/svg\" height=\"24px\"viewBox=\"0 0 24 24\"\n",
              "       width=\"24px\">\n",
              "    <path d=\"M0 0h24v24H0V0z\" fill=\"none\"/>\n",
              "    <path d=\"M18.56 5.44l.94 2.06.94-2.06 2.06-.94-2.06-.94-.94-2.06-.94 2.06-2.06.94zm-11 1L8.5 8.5l.94-2.06 2.06-.94-2.06-.94L8.5 2.5l-.94 2.06-2.06.94zm10 10l.94 2.06.94-2.06 2.06-.94-2.06-.94-.94-2.06-.94 2.06-2.06.94z\"/><path d=\"M17.41 7.96l-1.37-1.37c-.4-.4-.92-.59-1.43-.59-.52 0-1.04.2-1.43.59L10.3 9.45l-7.72 7.72c-.78.78-.78 2.05 0 2.83L4 21.41c.39.39.9.59 1.41.59.51 0 1.02-.2 1.41-.59l7.78-7.78 2.81-2.81c.8-.78.8-2.07 0-2.86zM5.41 20L4 18.59l7.72-7.72 1.47 1.35L5.41 20z\"/>\n",
              "  </svg>\n",
              "      </button>\n",
              "      \n",
              "  <style>\n",
              "    .colab-df-container {\n",
              "      display:flex;\n",
              "      flex-wrap:wrap;\n",
              "      gap: 12px;\n",
              "    }\n",
              "\n",
              "    .colab-df-convert {\n",
              "      background-color: #E8F0FE;\n",
              "      border: none;\n",
              "      border-radius: 50%;\n",
              "      cursor: pointer;\n",
              "      display: none;\n",
              "      fill: #1967D2;\n",
              "      height: 32px;\n",
              "      padding: 0 0 0 0;\n",
              "      width: 32px;\n",
              "    }\n",
              "\n",
              "    .colab-df-convert:hover {\n",
              "      background-color: #E2EBFA;\n",
              "      box-shadow: 0px 1px 2px rgba(60, 64, 67, 0.3), 0px 1px 3px 1px rgba(60, 64, 67, 0.15);\n",
              "      fill: #174EA6;\n",
              "    }\n",
              "\n",
              "    [theme=dark] .colab-df-convert {\n",
              "      background-color: #3B4455;\n",
              "      fill: #D2E3FC;\n",
              "    }\n",
              "\n",
              "    [theme=dark] .colab-df-convert:hover {\n",
              "      background-color: #434B5C;\n",
              "      box-shadow: 0px 1px 3px 1px rgba(0, 0, 0, 0.15);\n",
              "      filter: drop-shadow(0px 1px 2px rgba(0, 0, 0, 0.3));\n",
              "      fill: #FFFFFF;\n",
              "    }\n",
              "  </style>\n",
              "\n",
              "      <script>\n",
              "        const buttonEl =\n",
              "          document.querySelector('#df-8b823836-dc1c-4447-a801-947bb982fcbc button.colab-df-convert');\n",
              "        buttonEl.style.display =\n",
              "          google.colab.kernel.accessAllowed ? 'block' : 'none';\n",
              "\n",
              "        async function convertToInteractive(key) {\n",
              "          const element = document.querySelector('#df-8b823836-dc1c-4447-a801-947bb982fcbc');\n",
              "          const dataTable =\n",
              "            await google.colab.kernel.invokeFunction('convertToInteractive',\n",
              "                                                     [key], {});\n",
              "          if (!dataTable) return;\n",
              "\n",
              "          const docLinkHtml = 'Like what you see? Visit the ' +\n",
              "            '<a target=\"_blank\" href=https://colab.research.google.com/notebooks/data_table.ipynb>data table notebook</a>'\n",
              "            + ' to learn more about interactive tables.';\n",
              "          element.innerHTML = '';\n",
              "          dataTable['output_type'] = 'display_data';\n",
              "          await google.colab.output.renderOutput(dataTable, element);\n",
              "          const docLink = document.createElement('div');\n",
              "          docLink.innerHTML = docLinkHtml;\n",
              "          element.appendChild(docLink);\n",
              "        }\n",
              "      </script>\n",
              "    </div>\n",
              "  </div>\n",
              "  "
            ]
          },
          "metadata": {},
          "execution_count": 30
        }
      ]
    },
    {
      "cell_type": "code",
      "source": [
        "with_feature.head(1)"
      ],
      "metadata": {
        "colab": {
          "base_uri": "https://localhost:8080/",
          "height": 313
        },
        "id": "e6CCAMiRsA0S",
        "outputId": "4bda2d81-b342-4230-c72e-fc06d426b859"
      },
      "execution_count": null,
      "outputs": [
        {
          "output_type": "execute_result",
          "data": {
            "text/plain": [
              "   Unnamed: 0          id                                              photo  \\\n",
              "0           0  1454391034  {\"small\":\"https://ksr-ugc.imgix.net/assets/011...   \n",
              "\n",
              "                                                name  \\\n",
              "0  Auntie Di's Music Time Sign ASL for Hearing an...   \n",
              "\n",
              "                                               blurb    goal  pledged   state  \\\n",
              "0  MTS ASL Curriculum Workbook is a reproducible ...  1500.0      0.0  failed   \n",
              "\n",
              "                                                slug  disable_communication  \\\n",
              "0  auntie-dis-music-time-sign-asl-for-hearing-and...                  False   \n",
              "\n",
              "   ... created_at_day created_at_yr created_at_hr  launched_at_month  \\\n",
              "0  ...             29          2014            22                 12   \n",
              "\n",
              "  launched_at_day launched_at_yr launched_at_hr            create_to_launch  \\\n",
              "0              17           2014             13  17 days 14:51:39.000000000   \n",
              "\n",
              "           launch_to_deadline  launch_to_state_change  \n",
              "0  36 days 20:47:24.000000000                     NaN  \n",
              "\n",
              "[1 rows x 60 columns]"
            ],
            "text/html": [
              "\n",
              "  <div id=\"df-2854d942-d301-4ba8-91ba-4d9d5bf4447d\">\n",
              "    <div class=\"colab-df-container\">\n",
              "      <div>\n",
              "<style scoped>\n",
              "    .dataframe tbody tr th:only-of-type {\n",
              "        vertical-align: middle;\n",
              "    }\n",
              "\n",
              "    .dataframe tbody tr th {\n",
              "        vertical-align: top;\n",
              "    }\n",
              "\n",
              "    .dataframe thead th {\n",
              "        text-align: right;\n",
              "    }\n",
              "</style>\n",
              "<table border=\"1\" class=\"dataframe\">\n",
              "  <thead>\n",
              "    <tr style=\"text-align: right;\">\n",
              "      <th></th>\n",
              "      <th>Unnamed: 0</th>\n",
              "      <th>id</th>\n",
              "      <th>photo</th>\n",
              "      <th>name</th>\n",
              "      <th>blurb</th>\n",
              "      <th>goal</th>\n",
              "      <th>pledged</th>\n",
              "      <th>state</th>\n",
              "      <th>slug</th>\n",
              "      <th>disable_communication</th>\n",
              "      <th>...</th>\n",
              "      <th>created_at_day</th>\n",
              "      <th>created_at_yr</th>\n",
              "      <th>created_at_hr</th>\n",
              "      <th>launched_at_month</th>\n",
              "      <th>launched_at_day</th>\n",
              "      <th>launched_at_yr</th>\n",
              "      <th>launched_at_hr</th>\n",
              "      <th>create_to_launch</th>\n",
              "      <th>launch_to_deadline</th>\n",
              "      <th>launch_to_state_change</th>\n",
              "    </tr>\n",
              "  </thead>\n",
              "  <tbody>\n",
              "    <tr>\n",
              "      <th>0</th>\n",
              "      <td>0</td>\n",
              "      <td>1454391034</td>\n",
              "      <td>{\"small\":\"https://ksr-ugc.imgix.net/assets/011...</td>\n",
              "      <td>Auntie Di's Music Time Sign ASL for Hearing an...</td>\n",
              "      <td>MTS ASL Curriculum Workbook is a reproducible ...</td>\n",
              "      <td>1500.0</td>\n",
              "      <td>0.0</td>\n",
              "      <td>failed</td>\n",
              "      <td>auntie-dis-music-time-sign-asl-for-hearing-and...</td>\n",
              "      <td>False</td>\n",
              "      <td>...</td>\n",
              "      <td>29</td>\n",
              "      <td>2014</td>\n",
              "      <td>22</td>\n",
              "      <td>12</td>\n",
              "      <td>17</td>\n",
              "      <td>2014</td>\n",
              "      <td>13</td>\n",
              "      <td>17 days 14:51:39.000000000</td>\n",
              "      <td>36 days 20:47:24.000000000</td>\n",
              "      <td>NaN</td>\n",
              "    </tr>\n",
              "  </tbody>\n",
              "</table>\n",
              "<p>1 rows × 60 columns</p>\n",
              "</div>\n",
              "      <button class=\"colab-df-convert\" onclick=\"convertToInteractive('df-2854d942-d301-4ba8-91ba-4d9d5bf4447d')\"\n",
              "              title=\"Convert this dataframe to an interactive table.\"\n",
              "              style=\"display:none;\">\n",
              "        \n",
              "  <svg xmlns=\"http://www.w3.org/2000/svg\" height=\"24px\"viewBox=\"0 0 24 24\"\n",
              "       width=\"24px\">\n",
              "    <path d=\"M0 0h24v24H0V0z\" fill=\"none\"/>\n",
              "    <path d=\"M18.56 5.44l.94 2.06.94-2.06 2.06-.94-2.06-.94-.94-2.06-.94 2.06-2.06.94zm-11 1L8.5 8.5l.94-2.06 2.06-.94-2.06-.94L8.5 2.5l-.94 2.06-2.06.94zm10 10l.94 2.06.94-2.06 2.06-.94-2.06-.94-.94-2.06-.94 2.06-2.06.94z\"/><path d=\"M17.41 7.96l-1.37-1.37c-.4-.4-.92-.59-1.43-.59-.52 0-1.04.2-1.43.59L10.3 9.45l-7.72 7.72c-.78.78-.78 2.05 0 2.83L4 21.41c.39.39.9.59 1.41.59.51 0 1.02-.2 1.41-.59l7.78-7.78 2.81-2.81c.8-.78.8-2.07 0-2.86zM5.41 20L4 18.59l7.72-7.72 1.47 1.35L5.41 20z\"/>\n",
              "  </svg>\n",
              "      </button>\n",
              "      \n",
              "  <style>\n",
              "    .colab-df-container {\n",
              "      display:flex;\n",
              "      flex-wrap:wrap;\n",
              "      gap: 12px;\n",
              "    }\n",
              "\n",
              "    .colab-df-convert {\n",
              "      background-color: #E8F0FE;\n",
              "      border: none;\n",
              "      border-radius: 50%;\n",
              "      cursor: pointer;\n",
              "      display: none;\n",
              "      fill: #1967D2;\n",
              "      height: 32px;\n",
              "      padding: 0 0 0 0;\n",
              "      width: 32px;\n",
              "    }\n",
              "\n",
              "    .colab-df-convert:hover {\n",
              "      background-color: #E2EBFA;\n",
              "      box-shadow: 0px 1px 2px rgba(60, 64, 67, 0.3), 0px 1px 3px 1px rgba(60, 64, 67, 0.15);\n",
              "      fill: #174EA6;\n",
              "    }\n",
              "\n",
              "    [theme=dark] .colab-df-convert {\n",
              "      background-color: #3B4455;\n",
              "      fill: #D2E3FC;\n",
              "    }\n",
              "\n",
              "    [theme=dark] .colab-df-convert:hover {\n",
              "      background-color: #434B5C;\n",
              "      box-shadow: 0px 1px 3px 1px rgba(0, 0, 0, 0.15);\n",
              "      filter: drop-shadow(0px 1px 2px rgba(0, 0, 0, 0.3));\n",
              "      fill: #FFFFFF;\n",
              "    }\n",
              "  </style>\n",
              "\n",
              "      <script>\n",
              "        const buttonEl =\n",
              "          document.querySelector('#df-2854d942-d301-4ba8-91ba-4d9d5bf4447d button.colab-df-convert');\n",
              "        buttonEl.style.display =\n",
              "          google.colab.kernel.accessAllowed ? 'block' : 'none';\n",
              "\n",
              "        async function convertToInteractive(key) {\n",
              "          const element = document.querySelector('#df-2854d942-d301-4ba8-91ba-4d9d5bf4447d');\n",
              "          const dataTable =\n",
              "            await google.colab.kernel.invokeFunction('convertToInteractive',\n",
              "                                                     [key], {});\n",
              "          if (!dataTable) return;\n",
              "\n",
              "          const docLinkHtml = 'Like what you see? Visit the ' +\n",
              "            '<a target=\"_blank\" href=https://colab.research.google.com/notebooks/data_table.ipynb>data table notebook</a>'\n",
              "            + ' to learn more about interactive tables.';\n",
              "          element.innerHTML = '';\n",
              "          dataTable['output_type'] = 'display_data';\n",
              "          await google.colab.output.renderOutput(dataTable, element);\n",
              "          const docLink = document.createElement('div');\n",
              "          docLink.innerHTML = docLinkHtml;\n",
              "          element.appendChild(docLink);\n",
              "        }\n",
              "      </script>\n",
              "    </div>\n",
              "  </div>\n",
              "  "
            ]
          },
          "metadata": {},
          "execution_count": 32
        }
      ]
    },
    {
      "cell_type": "code",
      "source": [
        "!pip install ydata-profiling\n",
        "\n",
        "import ydata_profiling\n",
        "ydata_profiling.ProfileReport(temp)"
      ],
      "metadata": {
        "colab": {
          "base_uri": "https://localhost:8080/",
          "height": 113,
          "referenced_widgets": [
            "bbfa4c01699b460095dcf825638b256d",
            "c7d581549a7a49878dfd32bdc9d8db23",
            "79b9d9cb1d4648ec9144f2312366020b",
            "8c618d24f6a4406d8f4b49aa780a511c",
            "42b7167bfc9e4050b1ca671a0b4a2684",
            "0a0a2a5ff61f4846b918f2b6cc43c94e",
            "1989c69b357a4b239cdfd546f7162e40",
            "051c1e6f8d85419d8b1ca6eb22750274",
            "3676b2b9549f4cf790707b54aa2ade9e",
            "65f7fb06c4224bac959ce97ab5b345df",
            "2cf7eea6be7f4ffb91d8367813913abe",
            "b20da537824546efa6c256510a1b333c",
            "e2e40d1da901407c8fbed5b3e9438a50",
            "5b252257aba34bdd81c6f93989728723",
            "1d5dec3867324686a3779b1f7d962365",
            "eba9efb06a91496e9a892f7b9b639111",
            "bf5799e1214e4a968133f7286938a681",
            "ad72fb15122a4525bc933e2843e795d0",
            "5dce5d1519d8489eb256617b33e921e7",
            "bb045cb236834618a2748dd8fa5d865a",
            "f305d84a216f457d889491616255ff99",
            "0b4be7421fb84d0cb0495ae99dfd2551",
            "a3288d2004e4434f910276eb565029d6",
            "cb2d92ed4e514278a692186fd6c6ab4f",
            "c108c696a8fd4d4697b1718a941dd383",
            "a2843b49d63f451ca8e8cbde36548b0e",
            "fee9a43fcb9544219ff1a56df945c01b",
            "8bd097007fee4fb295192866f3edadbd",
            "4770d38a283b454588209332474872ff",
            "b6361e1238a64e3bb534102947ad8c8a",
            "d788489418b24e1cb5c8a369ddbda2f9",
            "a79b3a4e42c840179c2bcdfae4e403ef",
            "32f65ef1f1d146809f90b7f7e0f69349"
          ]
        },
        "id": "ub3hNnbzl4OL",
        "outputId": "ba551d7b-87ea-49fa-a5fd-5f0f6255c865"
      },
      "execution_count": null,
      "outputs": [
        {
          "output_type": "display_data",
          "data": {
            "text/plain": [
              "Summarize dataset:   0%|          | 0/5 [00:00<?, ?it/s]"
            ],
            "application/vnd.jupyter.widget-view+json": {
              "version_major": 2,
              "version_minor": 0,
              "model_id": "bbfa4c01699b460095dcf825638b256d"
            }
          },
          "metadata": {}
        },
        {
          "output_type": "display_data",
          "data": {
            "text/plain": [
              "Generate report structure:   0%|          | 0/1 [00:00<?, ?it/s]"
            ],
            "application/vnd.jupyter.widget-view+json": {
              "version_major": 2,
              "version_minor": 0,
              "model_id": "b20da537824546efa6c256510a1b333c"
            }
          },
          "metadata": {}
        },
        {
          "output_type": "display_data",
          "data": {
            "text/plain": [
              "Render HTML:   0%|          | 0/1 [00:00<?, ?it/s]"
            ],
            "application/vnd.jupyter.widget-view+json": {
              "version_major": 2,
              "version_minor": 0,
              "model_id": "a3288d2004e4434f910276eb565029d6"
            }
          },
          "metadata": {}
        }
      ]
    },
    {
      "cell_type": "markdown",
      "source": [
        "Conclusion is that the full dataset already have dataset with features."
      ],
      "metadata": {
        "id": "BNQINYX4OPIk"
      }
    },
    {
      "cell_type": "markdown",
      "source": [
        "##Using the Full DataSet"
      ],
      "metadata": {
        "id": "lW1jYq_0OZ0_"
      }
    },
    {
      "cell_type": "code",
      "source": [
        "full.head()"
      ],
      "metadata": {
        "colab": {
          "base_uri": "https://localhost:8080/",
          "height": 664
        },
        "id": "XgHoIb2sOXpg",
        "outputId": "d17304f0-dc03-4047-fb77-fe3fe98985dc"
      },
      "execution_count": null,
      "outputs": [
        {
          "output_type": "execute_result",
          "data": {
            "text/plain": [
              "   Unnamed: 0          id                                              photo  \\\n",
              "0           0  1454391034  {\"small\":\"https://ksr-ugc.imgix.net/assets/011...   \n",
              "1           1  1655206086  {\"small\":\"https://ksr-ugc.imgix.net/assets/012...   \n",
              "2           2   311581827  {\"small\":\"https://ksr-ugc.imgix.net/assets/012...   \n",
              "3           3   859724515  {\"small\":\"https://ksr-ugc.imgix.net/assets/011...   \n",
              "4           4  1613604977  {\"small\":\"https://ksr-ugc.imgix.net/assets/012...   \n",
              "\n",
              "                                                name  \\\n",
              "0  Auntie Di's Music Time Sign ASL for Hearing an...   \n",
              "1                    Jump Start Kindergarten Toolkit   \n",
              "2  Ojukwu Balewa Awolowo (O.B.A.) Public Library ...   \n",
              "3      MASTIZE - [mas-TAHYZ, MAS-tahyz]  - to spread   \n",
              "4  Synopse der EU-DSGVO - Artikel, Erwägungsgründ...   \n",
              "\n",
              "                                               blurb      goal  pledged  \\\n",
              "0  MTS ASL Curriculum Workbook is a reproducible ...    1500.0      0.0   \n",
              "1  This kit teaches how to print, correct an ugly...     500.0      0.0   \n",
              "2  Establishing a free, world-class, public libra...  100000.0    120.0   \n",
              "3  Goal: Introducing a new word into the English ...    5000.0      0.0   \n",
              "4  Zu den Artikeln der DSGVO sind die korrespondi...    3222.0    356.0   \n",
              "\n",
              "    state                                               slug  \\\n",
              "0  failed  auntie-dis-music-time-sign-asl-for-hearing-and...   \n",
              "1  failed                    jump-start-kindergarten-toolkit   \n",
              "2  failed  ojukwu-balewa-awolowo-oba-public-library-of-ni...   \n",
              "3  failed              mastize-mas-tahyz-mas-tahyz-to-spread   \n",
              "4  failed  synopse-der-eu-dsgvo-artikel-erwagungsgrunde-bdsg   \n",
              "\n",
              "   disable_communication  ...          launch_to_deadline  \\\n",
              "0                  False  ...  36 days 20:47:24.000000000   \n",
              "1                  False  ...  60 days 00:00:00.000000000   \n",
              "2                  False  ...  60 days 00:00:00.000000000   \n",
              "3                  False  ...  30 days 00:00:00.000000000   \n",
              "4                  False  ...  32 days 06:02:33.000000000   \n",
              "\n",
              "       launch_to_state_change create_to_launch_days  launch_to_deadline_days  \\\n",
              "0  36 days 20:47:24.000000000                    17                       36   \n",
              "1  60 days 00:00:02.000000000                    10                       60   \n",
              "2  60 days 00:00:01.000000000                     1                       60   \n",
              "3  30 days 00:00:00.000000000                     0                       30   \n",
              "4  32 days 06:02:33.000000000                     0                       32   \n",
              "\n",
              "  launch_to_state_change_days SuccessfulBool USorGB TOPCOUNTRY  \\\n",
              "0                          36              0      1          1   \n",
              "1                          60              0      1          1   \n",
              "2                          60              0      1          1   \n",
              "3                          30              0      1          1   \n",
              "4                          32              0      0          0   \n",
              "\n",
              "   LaunchedTuesday  DeadlineWeekend  \n",
              "0                0                0  \n",
              "1                0                0  \n",
              "2                0                0  \n",
              "3                0                0  \n",
              "4                0                0  \n",
              "\n",
              "[5 rows x 68 columns]"
            ],
            "text/html": [
              "\n",
              "  <div id=\"df-4c4ddf05-3720-4a65-86ca-fc667c848ba5\">\n",
              "    <div class=\"colab-df-container\">\n",
              "      <div>\n",
              "<style scoped>\n",
              "    .dataframe tbody tr th:only-of-type {\n",
              "        vertical-align: middle;\n",
              "    }\n",
              "\n",
              "    .dataframe tbody tr th {\n",
              "        vertical-align: top;\n",
              "    }\n",
              "\n",
              "    .dataframe thead th {\n",
              "        text-align: right;\n",
              "    }\n",
              "</style>\n",
              "<table border=\"1\" class=\"dataframe\">\n",
              "  <thead>\n",
              "    <tr style=\"text-align: right;\">\n",
              "      <th></th>\n",
              "      <th>Unnamed: 0</th>\n",
              "      <th>id</th>\n",
              "      <th>photo</th>\n",
              "      <th>name</th>\n",
              "      <th>blurb</th>\n",
              "      <th>goal</th>\n",
              "      <th>pledged</th>\n",
              "      <th>state</th>\n",
              "      <th>slug</th>\n",
              "      <th>disable_communication</th>\n",
              "      <th>...</th>\n",
              "      <th>launch_to_deadline</th>\n",
              "      <th>launch_to_state_change</th>\n",
              "      <th>create_to_launch_days</th>\n",
              "      <th>launch_to_deadline_days</th>\n",
              "      <th>launch_to_state_change_days</th>\n",
              "      <th>SuccessfulBool</th>\n",
              "      <th>USorGB</th>\n",
              "      <th>TOPCOUNTRY</th>\n",
              "      <th>LaunchedTuesday</th>\n",
              "      <th>DeadlineWeekend</th>\n",
              "    </tr>\n",
              "  </thead>\n",
              "  <tbody>\n",
              "    <tr>\n",
              "      <th>0</th>\n",
              "      <td>0</td>\n",
              "      <td>1454391034</td>\n",
              "      <td>{\"small\":\"https://ksr-ugc.imgix.net/assets/011...</td>\n",
              "      <td>Auntie Di's Music Time Sign ASL for Hearing an...</td>\n",
              "      <td>MTS ASL Curriculum Workbook is a reproducible ...</td>\n",
              "      <td>1500.0</td>\n",
              "      <td>0.0</td>\n",
              "      <td>failed</td>\n",
              "      <td>auntie-dis-music-time-sign-asl-for-hearing-and...</td>\n",
              "      <td>False</td>\n",
              "      <td>...</td>\n",
              "      <td>36 days 20:47:24.000000000</td>\n",
              "      <td>36 days 20:47:24.000000000</td>\n",
              "      <td>17</td>\n",
              "      <td>36</td>\n",
              "      <td>36</td>\n",
              "      <td>0</td>\n",
              "      <td>1</td>\n",
              "      <td>1</td>\n",
              "      <td>0</td>\n",
              "      <td>0</td>\n",
              "    </tr>\n",
              "    <tr>\n",
              "      <th>1</th>\n",
              "      <td>1</td>\n",
              "      <td>1655206086</td>\n",
              "      <td>{\"small\":\"https://ksr-ugc.imgix.net/assets/012...</td>\n",
              "      <td>Jump Start Kindergarten Toolkit</td>\n",
              "      <td>This kit teaches how to print, correct an ugly...</td>\n",
              "      <td>500.0</td>\n",
              "      <td>0.0</td>\n",
              "      <td>failed</td>\n",
              "      <td>jump-start-kindergarten-toolkit</td>\n",
              "      <td>False</td>\n",
              "      <td>...</td>\n",
              "      <td>60 days 00:00:00.000000000</td>\n",
              "      <td>60 days 00:00:02.000000000</td>\n",
              "      <td>10</td>\n",
              "      <td>60</td>\n",
              "      <td>60</td>\n",
              "      <td>0</td>\n",
              "      <td>1</td>\n",
              "      <td>1</td>\n",
              "      <td>0</td>\n",
              "      <td>0</td>\n",
              "    </tr>\n",
              "    <tr>\n",
              "      <th>2</th>\n",
              "      <td>2</td>\n",
              "      <td>311581827</td>\n",
              "      <td>{\"small\":\"https://ksr-ugc.imgix.net/assets/012...</td>\n",
              "      <td>Ojukwu Balewa Awolowo (O.B.A.) Public Library ...</td>\n",
              "      <td>Establishing a free, world-class, public libra...</td>\n",
              "      <td>100000.0</td>\n",
              "      <td>120.0</td>\n",
              "      <td>failed</td>\n",
              "      <td>ojukwu-balewa-awolowo-oba-public-library-of-ni...</td>\n",
              "      <td>False</td>\n",
              "      <td>...</td>\n",
              "      <td>60 days 00:00:00.000000000</td>\n",
              "      <td>60 days 00:00:01.000000000</td>\n",
              "      <td>1</td>\n",
              "      <td>60</td>\n",
              "      <td>60</td>\n",
              "      <td>0</td>\n",
              "      <td>1</td>\n",
              "      <td>1</td>\n",
              "      <td>0</td>\n",
              "      <td>0</td>\n",
              "    </tr>\n",
              "    <tr>\n",
              "      <th>3</th>\n",
              "      <td>3</td>\n",
              "      <td>859724515</td>\n",
              "      <td>{\"small\":\"https://ksr-ugc.imgix.net/assets/011...</td>\n",
              "      <td>MASTIZE - [mas-TAHYZ, MAS-tahyz]  - to spread</td>\n",
              "      <td>Goal: Introducing a new word into the English ...</td>\n",
              "      <td>5000.0</td>\n",
              "      <td>0.0</td>\n",
              "      <td>failed</td>\n",
              "      <td>mastize-mas-tahyz-mas-tahyz-to-spread</td>\n",
              "      <td>False</td>\n",
              "      <td>...</td>\n",
              "      <td>30 days 00:00:00.000000000</td>\n",
              "      <td>30 days 00:00:00.000000000</td>\n",
              "      <td>0</td>\n",
              "      <td>30</td>\n",
              "      <td>30</td>\n",
              "      <td>0</td>\n",
              "      <td>1</td>\n",
              "      <td>1</td>\n",
              "      <td>0</td>\n",
              "      <td>0</td>\n",
              "    </tr>\n",
              "    <tr>\n",
              "      <th>4</th>\n",
              "      <td>4</td>\n",
              "      <td>1613604977</td>\n",
              "      <td>{\"small\":\"https://ksr-ugc.imgix.net/assets/012...</td>\n",
              "      <td>Synopse der EU-DSGVO - Artikel, Erwägungsgründ...</td>\n",
              "      <td>Zu den Artikeln der DSGVO sind die korrespondi...</td>\n",
              "      <td>3222.0</td>\n",
              "      <td>356.0</td>\n",
              "      <td>failed</td>\n",
              "      <td>synopse-der-eu-dsgvo-artikel-erwagungsgrunde-bdsg</td>\n",
              "      <td>False</td>\n",
              "      <td>...</td>\n",
              "      <td>32 days 06:02:33.000000000</td>\n",
              "      <td>32 days 06:02:33.000000000</td>\n",
              "      <td>0</td>\n",
              "      <td>32</td>\n",
              "      <td>32</td>\n",
              "      <td>0</td>\n",
              "      <td>0</td>\n",
              "      <td>0</td>\n",
              "      <td>0</td>\n",
              "      <td>0</td>\n",
              "    </tr>\n",
              "  </tbody>\n",
              "</table>\n",
              "<p>5 rows × 68 columns</p>\n",
              "</div>\n",
              "      <button class=\"colab-df-convert\" onclick=\"convertToInteractive('df-4c4ddf05-3720-4a65-86ca-fc667c848ba5')\"\n",
              "              title=\"Convert this dataframe to an interactive table.\"\n",
              "              style=\"display:none;\">\n",
              "        \n",
              "  <svg xmlns=\"http://www.w3.org/2000/svg\" height=\"24px\"viewBox=\"0 0 24 24\"\n",
              "       width=\"24px\">\n",
              "    <path d=\"M0 0h24v24H0V0z\" fill=\"none\"/>\n",
              "    <path d=\"M18.56 5.44l.94 2.06.94-2.06 2.06-.94-2.06-.94-.94-2.06-.94 2.06-2.06.94zm-11 1L8.5 8.5l.94-2.06 2.06-.94-2.06-.94L8.5 2.5l-.94 2.06-2.06.94zm10 10l.94 2.06.94-2.06 2.06-.94-2.06-.94-.94-2.06-.94 2.06-2.06.94z\"/><path d=\"M17.41 7.96l-1.37-1.37c-.4-.4-.92-.59-1.43-.59-.52 0-1.04.2-1.43.59L10.3 9.45l-7.72 7.72c-.78.78-.78 2.05 0 2.83L4 21.41c.39.39.9.59 1.41.59.51 0 1.02-.2 1.41-.59l7.78-7.78 2.81-2.81c.8-.78.8-2.07 0-2.86zM5.41 20L4 18.59l7.72-7.72 1.47 1.35L5.41 20z\"/>\n",
              "  </svg>\n",
              "      </button>\n",
              "      \n",
              "  <style>\n",
              "    .colab-df-container {\n",
              "      display:flex;\n",
              "      flex-wrap:wrap;\n",
              "      gap: 12px;\n",
              "    }\n",
              "\n",
              "    .colab-df-convert {\n",
              "      background-color: #E8F0FE;\n",
              "      border: none;\n",
              "      border-radius: 50%;\n",
              "      cursor: pointer;\n",
              "      display: none;\n",
              "      fill: #1967D2;\n",
              "      height: 32px;\n",
              "      padding: 0 0 0 0;\n",
              "      width: 32px;\n",
              "    }\n",
              "\n",
              "    .colab-df-convert:hover {\n",
              "      background-color: #E2EBFA;\n",
              "      box-shadow: 0px 1px 2px rgba(60, 64, 67, 0.3), 0px 1px 3px 1px rgba(60, 64, 67, 0.15);\n",
              "      fill: #174EA6;\n",
              "    }\n",
              "\n",
              "    [theme=dark] .colab-df-convert {\n",
              "      background-color: #3B4455;\n",
              "      fill: #D2E3FC;\n",
              "    }\n",
              "\n",
              "    [theme=dark] .colab-df-convert:hover {\n",
              "      background-color: #434B5C;\n",
              "      box-shadow: 0px 1px 3px 1px rgba(0, 0, 0, 0.15);\n",
              "      filter: drop-shadow(0px 1px 2px rgba(0, 0, 0, 0.3));\n",
              "      fill: #FFFFFF;\n",
              "    }\n",
              "  </style>\n",
              "\n",
              "      <script>\n",
              "        const buttonEl =\n",
              "          document.querySelector('#df-4c4ddf05-3720-4a65-86ca-fc667c848ba5 button.colab-df-convert');\n",
              "        buttonEl.style.display =\n",
              "          google.colab.kernel.accessAllowed ? 'block' : 'none';\n",
              "\n",
              "        async function convertToInteractive(key) {\n",
              "          const element = document.querySelector('#df-4c4ddf05-3720-4a65-86ca-fc667c848ba5');\n",
              "          const dataTable =\n",
              "            await google.colab.kernel.invokeFunction('convertToInteractive',\n",
              "                                                     [key], {});\n",
              "          if (!dataTable) return;\n",
              "\n",
              "          const docLinkHtml = 'Like what you see? Visit the ' +\n",
              "            '<a target=\"_blank\" href=https://colab.research.google.com/notebooks/data_table.ipynb>data table notebook</a>'\n",
              "            + ' to learn more about interactive tables.';\n",
              "          element.innerHTML = '';\n",
              "          dataTable['output_type'] = 'display_data';\n",
              "          await google.colab.output.renderOutput(dataTable, element);\n",
              "          const docLink = document.createElement('div');\n",
              "          docLink.innerHTML = docLinkHtml;\n",
              "          element.appendChild(docLink);\n",
              "        }\n",
              "      </script>\n",
              "    </div>\n",
              "  </div>\n",
              "  "
            ]
          },
          "metadata": {},
          "execution_count": 49
        }
      ]
    },
    {
      "cell_type": "code",
      "source": [
        "full.shape"
      ],
      "metadata": {
        "colab": {
          "base_uri": "https://localhost:8080/"
        },
        "id": "FGPxuBcdOxWP",
        "outputId": "762ea164-9542-4d0e-dd3c-b0b5b0ac7c98"
      },
      "execution_count": null,
      "outputs": [
        {
          "output_type": "execute_result",
          "data": {
            "text/plain": [
              "(20632, 68)"
            ]
          },
          "metadata": {},
          "execution_count": 54
        }
      ]
    },
    {
      "cell_type": "code",
      "source": [
        "print(full.iloc[:,:36].isna().sum())"
      ],
      "metadata": {
        "colab": {
          "base_uri": "https://localhost:8080/"
        },
        "id": "XZCYyME9OgMR",
        "outputId": "83ba8eed-a497-4f13-c5d3-8f752ce348be"
      },
      "execution_count": null,
      "outputs": [
        {
          "output_type": "stream",
          "name": "stdout",
          "text": [
            "Unnamed: 0                    0\n",
            "id                            0\n",
            "photo                         0\n",
            "name                          0\n",
            "blurb                         5\n",
            "goal                          0\n",
            "pledged                       0\n",
            "state                         0\n",
            "slug                          0\n",
            "disable_communication         0\n",
            "country                       0\n",
            "currency                      0\n",
            "currency_symbol               0\n",
            "currency_trailing_code        0\n",
            "deadline                      0\n",
            "state_changed_at              0\n",
            "created_at                    0\n",
            "launched_at                   0\n",
            "staff_pick                    0\n",
            "backers_count                 0\n",
            "static_usd_rate               0\n",
            "usd_pledged                   0\n",
            "creator                       0\n",
            "location                     45\n",
            "category                   1889\n",
            "profile                       0\n",
            "spotlight                     0\n",
            "urls                          0\n",
            "source_url                    0\n",
            "friends                   20572\n",
            "is_starred                20572\n",
            "is_backing                20572\n",
            "permissions               20572\n",
            "name_len                      5\n",
            "name_len_clean                5\n",
            "blurb_len                     5\n",
            "dtype: int64\n"
          ]
        }
      ]
    },
    {
      "cell_type": "code",
      "source": [
        "full['state'].value_counts()"
      ],
      "metadata": {
        "colab": {
          "base_uri": "https://localhost:8080/"
        },
        "id": "smjSRc2PqGF0",
        "outputId": "e76d2746-a7bb-412c-9437-eac35000b0d9"
      },
      "execution_count": null,
      "outputs": [
        {
          "output_type": "execute_result",
          "data": {
            "text/plain": [
              "failed        11416\n",
              "successful     6018\n",
              "canceled       2460\n",
              "live            508\n",
              "suspended       230\n",
              "Name: state, dtype: int64"
            ]
          },
          "metadata": {},
          "execution_count": 68
        }
      ]
    },
    {
      "cell_type": "code",
      "source": [
        "print(full.iloc[:,36:].isna().sum())"
      ],
      "metadata": {
        "colab": {
          "base_uri": "https://localhost:8080/"
        },
        "id": "ri_J3i_AOrPn",
        "outputId": "f9c27d80-9542-4674-9c64-73a5f119d81c"
      },
      "execution_count": null,
      "outputs": [
        {
          "output_type": "stream",
          "name": "stdout",
          "text": [
            "blurb_len_clean                5\n",
            "deadline_weekday               0\n",
            "state_changed_at_weekday       0\n",
            "created_at_weekday             0\n",
            "launched_at_weekday            0\n",
            "deadline_month                 0\n",
            "deadline_day                   0\n",
            "deadline_yr                    0\n",
            "deadline_hr                    0\n",
            "state_changed_at_month         0\n",
            "state_changed_at_day           0\n",
            "state_changed_at_yr            0\n",
            "state_changed_at_hr            0\n",
            "created_at_month               0\n",
            "created_at_day                 0\n",
            "created_at_yr                  0\n",
            "created_at_hr                  0\n",
            "launched_at_month              0\n",
            "launched_at_day                0\n",
            "launched_at_yr                 0\n",
            "launched_at_hr                 0\n",
            "create_to_launch               0\n",
            "launch_to_deadline             0\n",
            "launch_to_state_change         0\n",
            "create_to_launch_days          0\n",
            "launch_to_deadline_days        0\n",
            "launch_to_state_change_days    0\n",
            "SuccessfulBool                 0\n",
            "USorGB                         0\n",
            "TOPCOUNTRY                     0\n",
            "LaunchedTuesday                0\n",
            "DeadlineWeekend                0\n",
            "dtype: int64\n"
          ]
        }
      ]
    },
    {
      "cell_type": "markdown",
      "source": [
        "removing features Unnamed: 0,id,photo,friends,is_starred, is_backing,permissions from the dataset              "
      ],
      "metadata": {
        "id": "sliC6SsMO4oV"
      }
    },
    {
      "cell_type": "code",
      "source": [
        "full_1 = full.drop(['Unnamed: 0', 'id', 'photo', 'friends', 'is_starred', 'is_backing', 'permissions'], axis=1)"
      ],
      "metadata": {
        "id": "HD9g8MgCPP1x"
      },
      "execution_count": null,
      "outputs": []
    },
    {
      "cell_type": "code",
      "source": [
        "full_1.shape"
      ],
      "metadata": {
        "colab": {
          "base_uri": "https://localhost:8080/"
        },
        "id": "5zQrTskzPtBz",
        "outputId": "1b02eb62-19b8-4d7f-e51d-361301f06c9e"
      },
      "execution_count": null,
      "outputs": [
        {
          "output_type": "execute_result",
          "data": {
            "text/plain": [
              "(20632, 61)"
            ]
          },
          "metadata": {},
          "execution_count": 57
        }
      ]
    },
    {
      "cell_type": "code",
      "source": [
        "full_1.head()"
      ],
      "metadata": {
        "colab": {
          "base_uri": "https://localhost:8080/",
          "height": 647
        },
        "id": "2c5lHdZBQBn4",
        "outputId": "feecaa37-b06f-4c00-a688-73ffc1165980"
      },
      "execution_count": null,
      "outputs": [
        {
          "output_type": "execute_result",
          "data": {
            "text/plain": [
              "                                                name  \\\n",
              "0  Auntie Di's Music Time Sign ASL for Hearing an...   \n",
              "1                    Jump Start Kindergarten Toolkit   \n",
              "2  Ojukwu Balewa Awolowo (O.B.A.) Public Library ...   \n",
              "3      MASTIZE - [mas-TAHYZ, MAS-tahyz]  - to spread   \n",
              "4  Synopse der EU-DSGVO - Artikel, Erwägungsgründ...   \n",
              "\n",
              "                                               blurb      goal  pledged  \\\n",
              "0  MTS ASL Curriculum Workbook is a reproducible ...    1500.0      0.0   \n",
              "1  This kit teaches how to print, correct an ugly...     500.0      0.0   \n",
              "2  Establishing a free, world-class, public libra...  100000.0    120.0   \n",
              "3  Goal: Introducing a new word into the English ...    5000.0      0.0   \n",
              "4  Zu den Artikeln der DSGVO sind die korrespondi...    3222.0    356.0   \n",
              "\n",
              "    state                                               slug  \\\n",
              "0  failed  auntie-dis-music-time-sign-asl-for-hearing-and...   \n",
              "1  failed                    jump-start-kindergarten-toolkit   \n",
              "2  failed  ojukwu-balewa-awolowo-oba-public-library-of-ni...   \n",
              "3  failed              mastize-mas-tahyz-mas-tahyz-to-spread   \n",
              "4  failed  synopse-der-eu-dsgvo-artikel-erwagungsgrunde-bdsg   \n",
              "\n",
              "   disable_communication country currency currency_symbol  ...  \\\n",
              "0                  False      US      USD               $  ...   \n",
              "1                  False      US      USD               $  ...   \n",
              "2                  False      US      USD               $  ...   \n",
              "3                  False      US      USD               $  ...   \n",
              "4                  False      DE      EUR               €  ...   \n",
              "\n",
              "           launch_to_deadline      launch_to_state_change  \\\n",
              "0  36 days 20:47:24.000000000  36 days 20:47:24.000000000   \n",
              "1  60 days 00:00:00.000000000  60 days 00:00:02.000000000   \n",
              "2  60 days 00:00:00.000000000  60 days 00:00:01.000000000   \n",
              "3  30 days 00:00:00.000000000  30 days 00:00:00.000000000   \n",
              "4  32 days 06:02:33.000000000  32 days 06:02:33.000000000   \n",
              "\n",
              "  create_to_launch_days launch_to_deadline_days launch_to_state_change_days  \\\n",
              "0                    17                      36                          36   \n",
              "1                    10                      60                          60   \n",
              "2                     1                      60                          60   \n",
              "3                     0                      30                          30   \n",
              "4                     0                      32                          32   \n",
              "\n",
              "   SuccessfulBool  USorGB  TOPCOUNTRY  LaunchedTuesday DeadlineWeekend  \n",
              "0               0       1           1                0               0  \n",
              "1               0       1           1                0               0  \n",
              "2               0       1           1                0               0  \n",
              "3               0       1           1                0               0  \n",
              "4               0       0           0                0               0  \n",
              "\n",
              "[5 rows x 61 columns]"
            ],
            "text/html": [
              "\n",
              "  <div id=\"df-a89277a1-457c-449b-a240-e8cd2527af9f\">\n",
              "    <div class=\"colab-df-container\">\n",
              "      <div>\n",
              "<style scoped>\n",
              "    .dataframe tbody tr th:only-of-type {\n",
              "        vertical-align: middle;\n",
              "    }\n",
              "\n",
              "    .dataframe tbody tr th {\n",
              "        vertical-align: top;\n",
              "    }\n",
              "\n",
              "    .dataframe thead th {\n",
              "        text-align: right;\n",
              "    }\n",
              "</style>\n",
              "<table border=\"1\" class=\"dataframe\">\n",
              "  <thead>\n",
              "    <tr style=\"text-align: right;\">\n",
              "      <th></th>\n",
              "      <th>name</th>\n",
              "      <th>blurb</th>\n",
              "      <th>goal</th>\n",
              "      <th>pledged</th>\n",
              "      <th>state</th>\n",
              "      <th>slug</th>\n",
              "      <th>disable_communication</th>\n",
              "      <th>country</th>\n",
              "      <th>currency</th>\n",
              "      <th>currency_symbol</th>\n",
              "      <th>...</th>\n",
              "      <th>launch_to_deadline</th>\n",
              "      <th>launch_to_state_change</th>\n",
              "      <th>create_to_launch_days</th>\n",
              "      <th>launch_to_deadline_days</th>\n",
              "      <th>launch_to_state_change_days</th>\n",
              "      <th>SuccessfulBool</th>\n",
              "      <th>USorGB</th>\n",
              "      <th>TOPCOUNTRY</th>\n",
              "      <th>LaunchedTuesday</th>\n",
              "      <th>DeadlineWeekend</th>\n",
              "    </tr>\n",
              "  </thead>\n",
              "  <tbody>\n",
              "    <tr>\n",
              "      <th>0</th>\n",
              "      <td>Auntie Di's Music Time Sign ASL for Hearing an...</td>\n",
              "      <td>MTS ASL Curriculum Workbook is a reproducible ...</td>\n",
              "      <td>1500.0</td>\n",
              "      <td>0.0</td>\n",
              "      <td>failed</td>\n",
              "      <td>auntie-dis-music-time-sign-asl-for-hearing-and...</td>\n",
              "      <td>False</td>\n",
              "      <td>US</td>\n",
              "      <td>USD</td>\n",
              "      <td>$</td>\n",
              "      <td>...</td>\n",
              "      <td>36 days 20:47:24.000000000</td>\n",
              "      <td>36 days 20:47:24.000000000</td>\n",
              "      <td>17</td>\n",
              "      <td>36</td>\n",
              "      <td>36</td>\n",
              "      <td>0</td>\n",
              "      <td>1</td>\n",
              "      <td>1</td>\n",
              "      <td>0</td>\n",
              "      <td>0</td>\n",
              "    </tr>\n",
              "    <tr>\n",
              "      <th>1</th>\n",
              "      <td>Jump Start Kindergarten Toolkit</td>\n",
              "      <td>This kit teaches how to print, correct an ugly...</td>\n",
              "      <td>500.0</td>\n",
              "      <td>0.0</td>\n",
              "      <td>failed</td>\n",
              "      <td>jump-start-kindergarten-toolkit</td>\n",
              "      <td>False</td>\n",
              "      <td>US</td>\n",
              "      <td>USD</td>\n",
              "      <td>$</td>\n",
              "      <td>...</td>\n",
              "      <td>60 days 00:00:00.000000000</td>\n",
              "      <td>60 days 00:00:02.000000000</td>\n",
              "      <td>10</td>\n",
              "      <td>60</td>\n",
              "      <td>60</td>\n",
              "      <td>0</td>\n",
              "      <td>1</td>\n",
              "      <td>1</td>\n",
              "      <td>0</td>\n",
              "      <td>0</td>\n",
              "    </tr>\n",
              "    <tr>\n",
              "      <th>2</th>\n",
              "      <td>Ojukwu Balewa Awolowo (O.B.A.) Public Library ...</td>\n",
              "      <td>Establishing a free, world-class, public libra...</td>\n",
              "      <td>100000.0</td>\n",
              "      <td>120.0</td>\n",
              "      <td>failed</td>\n",
              "      <td>ojukwu-balewa-awolowo-oba-public-library-of-ni...</td>\n",
              "      <td>False</td>\n",
              "      <td>US</td>\n",
              "      <td>USD</td>\n",
              "      <td>$</td>\n",
              "      <td>...</td>\n",
              "      <td>60 days 00:00:00.000000000</td>\n",
              "      <td>60 days 00:00:01.000000000</td>\n",
              "      <td>1</td>\n",
              "      <td>60</td>\n",
              "      <td>60</td>\n",
              "      <td>0</td>\n",
              "      <td>1</td>\n",
              "      <td>1</td>\n",
              "      <td>0</td>\n",
              "      <td>0</td>\n",
              "    </tr>\n",
              "    <tr>\n",
              "      <th>3</th>\n",
              "      <td>MASTIZE - [mas-TAHYZ, MAS-tahyz]  - to spread</td>\n",
              "      <td>Goal: Introducing a new word into the English ...</td>\n",
              "      <td>5000.0</td>\n",
              "      <td>0.0</td>\n",
              "      <td>failed</td>\n",
              "      <td>mastize-mas-tahyz-mas-tahyz-to-spread</td>\n",
              "      <td>False</td>\n",
              "      <td>US</td>\n",
              "      <td>USD</td>\n",
              "      <td>$</td>\n",
              "      <td>...</td>\n",
              "      <td>30 days 00:00:00.000000000</td>\n",
              "      <td>30 days 00:00:00.000000000</td>\n",
              "      <td>0</td>\n",
              "      <td>30</td>\n",
              "      <td>30</td>\n",
              "      <td>0</td>\n",
              "      <td>1</td>\n",
              "      <td>1</td>\n",
              "      <td>0</td>\n",
              "      <td>0</td>\n",
              "    </tr>\n",
              "    <tr>\n",
              "      <th>4</th>\n",
              "      <td>Synopse der EU-DSGVO - Artikel, Erwägungsgründ...</td>\n",
              "      <td>Zu den Artikeln der DSGVO sind die korrespondi...</td>\n",
              "      <td>3222.0</td>\n",
              "      <td>356.0</td>\n",
              "      <td>failed</td>\n",
              "      <td>synopse-der-eu-dsgvo-artikel-erwagungsgrunde-bdsg</td>\n",
              "      <td>False</td>\n",
              "      <td>DE</td>\n",
              "      <td>EUR</td>\n",
              "      <td>€</td>\n",
              "      <td>...</td>\n",
              "      <td>32 days 06:02:33.000000000</td>\n",
              "      <td>32 days 06:02:33.000000000</td>\n",
              "      <td>0</td>\n",
              "      <td>32</td>\n",
              "      <td>32</td>\n",
              "      <td>0</td>\n",
              "      <td>0</td>\n",
              "      <td>0</td>\n",
              "      <td>0</td>\n",
              "      <td>0</td>\n",
              "    </tr>\n",
              "  </tbody>\n",
              "</table>\n",
              "<p>5 rows × 61 columns</p>\n",
              "</div>\n",
              "      <button class=\"colab-df-convert\" onclick=\"convertToInteractive('df-a89277a1-457c-449b-a240-e8cd2527af9f')\"\n",
              "              title=\"Convert this dataframe to an interactive table.\"\n",
              "              style=\"display:none;\">\n",
              "        \n",
              "  <svg xmlns=\"http://www.w3.org/2000/svg\" height=\"24px\"viewBox=\"0 0 24 24\"\n",
              "       width=\"24px\">\n",
              "    <path d=\"M0 0h24v24H0V0z\" fill=\"none\"/>\n",
              "    <path d=\"M18.56 5.44l.94 2.06.94-2.06 2.06-.94-2.06-.94-.94-2.06-.94 2.06-2.06.94zm-11 1L8.5 8.5l.94-2.06 2.06-.94-2.06-.94L8.5 2.5l-.94 2.06-2.06.94zm10 10l.94 2.06.94-2.06 2.06-.94-2.06-.94-.94-2.06-.94 2.06-2.06.94z\"/><path d=\"M17.41 7.96l-1.37-1.37c-.4-.4-.92-.59-1.43-.59-.52 0-1.04.2-1.43.59L10.3 9.45l-7.72 7.72c-.78.78-.78 2.05 0 2.83L4 21.41c.39.39.9.59 1.41.59.51 0 1.02-.2 1.41-.59l7.78-7.78 2.81-2.81c.8-.78.8-2.07 0-2.86zM5.41 20L4 18.59l7.72-7.72 1.47 1.35L5.41 20z\"/>\n",
              "  </svg>\n",
              "      </button>\n",
              "      \n",
              "  <style>\n",
              "    .colab-df-container {\n",
              "      display:flex;\n",
              "      flex-wrap:wrap;\n",
              "      gap: 12px;\n",
              "    }\n",
              "\n",
              "    .colab-df-convert {\n",
              "      background-color: #E8F0FE;\n",
              "      border: none;\n",
              "      border-radius: 50%;\n",
              "      cursor: pointer;\n",
              "      display: none;\n",
              "      fill: #1967D2;\n",
              "      height: 32px;\n",
              "      padding: 0 0 0 0;\n",
              "      width: 32px;\n",
              "    }\n",
              "\n",
              "    .colab-df-convert:hover {\n",
              "      background-color: #E2EBFA;\n",
              "      box-shadow: 0px 1px 2px rgba(60, 64, 67, 0.3), 0px 1px 3px 1px rgba(60, 64, 67, 0.15);\n",
              "      fill: #174EA6;\n",
              "    }\n",
              "\n",
              "    [theme=dark] .colab-df-convert {\n",
              "      background-color: #3B4455;\n",
              "      fill: #D2E3FC;\n",
              "    }\n",
              "\n",
              "    [theme=dark] .colab-df-convert:hover {\n",
              "      background-color: #434B5C;\n",
              "      box-shadow: 0px 1px 3px 1px rgba(0, 0, 0, 0.15);\n",
              "      filter: drop-shadow(0px 1px 2px rgba(0, 0, 0, 0.3));\n",
              "      fill: #FFFFFF;\n",
              "    }\n",
              "  </style>\n",
              "\n",
              "      <script>\n",
              "        const buttonEl =\n",
              "          document.querySelector('#df-a89277a1-457c-449b-a240-e8cd2527af9f button.colab-df-convert');\n",
              "        buttonEl.style.display =\n",
              "          google.colab.kernel.accessAllowed ? 'block' : 'none';\n",
              "\n",
              "        async function convertToInteractive(key) {\n",
              "          const element = document.querySelector('#df-a89277a1-457c-449b-a240-e8cd2527af9f');\n",
              "          const dataTable =\n",
              "            await google.colab.kernel.invokeFunction('convertToInteractive',\n",
              "                                                     [key], {});\n",
              "          if (!dataTable) return;\n",
              "\n",
              "          const docLinkHtml = 'Like what you see? Visit the ' +\n",
              "            '<a target=\"_blank\" href=https://colab.research.google.com/notebooks/data_table.ipynb>data table notebook</a>'\n",
              "            + ' to learn more about interactive tables.';\n",
              "          element.innerHTML = '';\n",
              "          dataTable['output_type'] = 'display_data';\n",
              "          await google.colab.output.renderOutput(dataTable, element);\n",
              "          const docLink = document.createElement('div');\n",
              "          docLink.innerHTML = docLinkHtml;\n",
              "          element.appendChild(docLink);\n",
              "        }\n",
              "      </script>\n",
              "    </div>\n",
              "  </div>\n",
              "  "
            ]
          },
          "metadata": {},
          "execution_count": 60
        }
      ]
    },
    {
      "cell_type": "code",
      "source": [
        "# display_df = full_1.iloc[:,:10]\n",
        "display_df = pd.concat([full_1.iloc[:,:10], full_1['state']], axis=1)\n",
        "display_df.head()\n",
        "# full_1.iloc[:,:10].corr()\n",
        "# heatmap = sns.heatmap(full_1.iloc[:,:10].corr(), vmin=-1, vmax=1, annot=True)"
      ],
      "metadata": {
        "colab": {
          "base_uri": "https://localhost:8080/",
          "height": 406
        },
        "id": "lfDncHe5Py42",
        "outputId": "460e95ce-5e76-42a4-ac4f-6b76e6dd2efa"
      },
      "execution_count": null,
      "outputs": [
        {
          "output_type": "execute_result",
          "data": {
            "text/plain": [
              "                                                name  \\\n",
              "0  Auntie Di's Music Time Sign ASL for Hearing an...   \n",
              "1                    Jump Start Kindergarten Toolkit   \n",
              "2  Ojukwu Balewa Awolowo (O.B.A.) Public Library ...   \n",
              "3      MASTIZE - [mas-TAHYZ, MAS-tahyz]  - to spread   \n",
              "4  Synopse der EU-DSGVO - Artikel, Erwägungsgründ...   \n",
              "\n",
              "                                               blurb      goal  pledged  \\\n",
              "0  MTS ASL Curriculum Workbook is a reproducible ...    1500.0      0.0   \n",
              "1  This kit teaches how to print, correct an ugly...     500.0      0.0   \n",
              "2  Establishing a free, world-class, public libra...  100000.0    120.0   \n",
              "3  Goal: Introducing a new word into the English ...    5000.0      0.0   \n",
              "4  Zu den Artikeln der DSGVO sind die korrespondi...    3222.0    356.0   \n",
              "\n",
              "    state                                               slug  \\\n",
              "0  failed  auntie-dis-music-time-sign-asl-for-hearing-and...   \n",
              "1  failed                    jump-start-kindergarten-toolkit   \n",
              "2  failed  ojukwu-balewa-awolowo-oba-public-library-of-ni...   \n",
              "3  failed              mastize-mas-tahyz-mas-tahyz-to-spread   \n",
              "4  failed  synopse-der-eu-dsgvo-artikel-erwagungsgrunde-bdsg   \n",
              "\n",
              "   disable_communication country currency currency_symbol   state  \n",
              "0                  False      US      USD               $  failed  \n",
              "1                  False      US      USD               $  failed  \n",
              "2                  False      US      USD               $  failed  \n",
              "3                  False      US      USD               $  failed  \n",
              "4                  False      DE      EUR               €  failed  "
            ],
            "text/html": [
              "\n",
              "  <div id=\"df-bdad7675-e2a4-4642-b8fa-160f8c877312\">\n",
              "    <div class=\"colab-df-container\">\n",
              "      <div>\n",
              "<style scoped>\n",
              "    .dataframe tbody tr th:only-of-type {\n",
              "        vertical-align: middle;\n",
              "    }\n",
              "\n",
              "    .dataframe tbody tr th {\n",
              "        vertical-align: top;\n",
              "    }\n",
              "\n",
              "    .dataframe thead th {\n",
              "        text-align: right;\n",
              "    }\n",
              "</style>\n",
              "<table border=\"1\" class=\"dataframe\">\n",
              "  <thead>\n",
              "    <tr style=\"text-align: right;\">\n",
              "      <th></th>\n",
              "      <th>name</th>\n",
              "      <th>blurb</th>\n",
              "      <th>goal</th>\n",
              "      <th>pledged</th>\n",
              "      <th>state</th>\n",
              "      <th>slug</th>\n",
              "      <th>disable_communication</th>\n",
              "      <th>country</th>\n",
              "      <th>currency</th>\n",
              "      <th>currency_symbol</th>\n",
              "      <th>state</th>\n",
              "    </tr>\n",
              "  </thead>\n",
              "  <tbody>\n",
              "    <tr>\n",
              "      <th>0</th>\n",
              "      <td>Auntie Di's Music Time Sign ASL for Hearing an...</td>\n",
              "      <td>MTS ASL Curriculum Workbook is a reproducible ...</td>\n",
              "      <td>1500.0</td>\n",
              "      <td>0.0</td>\n",
              "      <td>failed</td>\n",
              "      <td>auntie-dis-music-time-sign-asl-for-hearing-and...</td>\n",
              "      <td>False</td>\n",
              "      <td>US</td>\n",
              "      <td>USD</td>\n",
              "      <td>$</td>\n",
              "      <td>failed</td>\n",
              "    </tr>\n",
              "    <tr>\n",
              "      <th>1</th>\n",
              "      <td>Jump Start Kindergarten Toolkit</td>\n",
              "      <td>This kit teaches how to print, correct an ugly...</td>\n",
              "      <td>500.0</td>\n",
              "      <td>0.0</td>\n",
              "      <td>failed</td>\n",
              "      <td>jump-start-kindergarten-toolkit</td>\n",
              "      <td>False</td>\n",
              "      <td>US</td>\n",
              "      <td>USD</td>\n",
              "      <td>$</td>\n",
              "      <td>failed</td>\n",
              "    </tr>\n",
              "    <tr>\n",
              "      <th>2</th>\n",
              "      <td>Ojukwu Balewa Awolowo (O.B.A.) Public Library ...</td>\n",
              "      <td>Establishing a free, world-class, public libra...</td>\n",
              "      <td>100000.0</td>\n",
              "      <td>120.0</td>\n",
              "      <td>failed</td>\n",
              "      <td>ojukwu-balewa-awolowo-oba-public-library-of-ni...</td>\n",
              "      <td>False</td>\n",
              "      <td>US</td>\n",
              "      <td>USD</td>\n",
              "      <td>$</td>\n",
              "      <td>failed</td>\n",
              "    </tr>\n",
              "    <tr>\n",
              "      <th>3</th>\n",
              "      <td>MASTIZE - [mas-TAHYZ, MAS-tahyz]  - to spread</td>\n",
              "      <td>Goal: Introducing a new word into the English ...</td>\n",
              "      <td>5000.0</td>\n",
              "      <td>0.0</td>\n",
              "      <td>failed</td>\n",
              "      <td>mastize-mas-tahyz-mas-tahyz-to-spread</td>\n",
              "      <td>False</td>\n",
              "      <td>US</td>\n",
              "      <td>USD</td>\n",
              "      <td>$</td>\n",
              "      <td>failed</td>\n",
              "    </tr>\n",
              "    <tr>\n",
              "      <th>4</th>\n",
              "      <td>Synopse der EU-DSGVO - Artikel, Erwägungsgründ...</td>\n",
              "      <td>Zu den Artikeln der DSGVO sind die korrespondi...</td>\n",
              "      <td>3222.0</td>\n",
              "      <td>356.0</td>\n",
              "      <td>failed</td>\n",
              "      <td>synopse-der-eu-dsgvo-artikel-erwagungsgrunde-bdsg</td>\n",
              "      <td>False</td>\n",
              "      <td>DE</td>\n",
              "      <td>EUR</td>\n",
              "      <td>€</td>\n",
              "      <td>failed</td>\n",
              "    </tr>\n",
              "  </tbody>\n",
              "</table>\n",
              "</div>\n",
              "      <button class=\"colab-df-convert\" onclick=\"convertToInteractive('df-bdad7675-e2a4-4642-b8fa-160f8c877312')\"\n",
              "              title=\"Convert this dataframe to an interactive table.\"\n",
              "              style=\"display:none;\">\n",
              "        \n",
              "  <svg xmlns=\"http://www.w3.org/2000/svg\" height=\"24px\"viewBox=\"0 0 24 24\"\n",
              "       width=\"24px\">\n",
              "    <path d=\"M0 0h24v24H0V0z\" fill=\"none\"/>\n",
              "    <path d=\"M18.56 5.44l.94 2.06.94-2.06 2.06-.94-2.06-.94-.94-2.06-.94 2.06-2.06.94zm-11 1L8.5 8.5l.94-2.06 2.06-.94-2.06-.94L8.5 2.5l-.94 2.06-2.06.94zm10 10l.94 2.06.94-2.06 2.06-.94-2.06-.94-.94-2.06-.94 2.06-2.06.94z\"/><path d=\"M17.41 7.96l-1.37-1.37c-.4-.4-.92-.59-1.43-.59-.52 0-1.04.2-1.43.59L10.3 9.45l-7.72 7.72c-.78.78-.78 2.05 0 2.83L4 21.41c.39.39.9.59 1.41.59.51 0 1.02-.2 1.41-.59l7.78-7.78 2.81-2.81c.8-.78.8-2.07 0-2.86zM5.41 20L4 18.59l7.72-7.72 1.47 1.35L5.41 20z\"/>\n",
              "  </svg>\n",
              "      </button>\n",
              "      \n",
              "  <style>\n",
              "    .colab-df-container {\n",
              "      display:flex;\n",
              "      flex-wrap:wrap;\n",
              "      gap: 12px;\n",
              "    }\n",
              "\n",
              "    .colab-df-convert {\n",
              "      background-color: #E8F0FE;\n",
              "      border: none;\n",
              "      border-radius: 50%;\n",
              "      cursor: pointer;\n",
              "      display: none;\n",
              "      fill: #1967D2;\n",
              "      height: 32px;\n",
              "      padding: 0 0 0 0;\n",
              "      width: 32px;\n",
              "    }\n",
              "\n",
              "    .colab-df-convert:hover {\n",
              "      background-color: #E2EBFA;\n",
              "      box-shadow: 0px 1px 2px rgba(60, 64, 67, 0.3), 0px 1px 3px 1px rgba(60, 64, 67, 0.15);\n",
              "      fill: #174EA6;\n",
              "    }\n",
              "\n",
              "    [theme=dark] .colab-df-convert {\n",
              "      background-color: #3B4455;\n",
              "      fill: #D2E3FC;\n",
              "    }\n",
              "\n",
              "    [theme=dark] .colab-df-convert:hover {\n",
              "      background-color: #434B5C;\n",
              "      box-shadow: 0px 1px 3px 1px rgba(0, 0, 0, 0.15);\n",
              "      filter: drop-shadow(0px 1px 2px rgba(0, 0, 0, 0.3));\n",
              "      fill: #FFFFFF;\n",
              "    }\n",
              "  </style>\n",
              "\n",
              "      <script>\n",
              "        const buttonEl =\n",
              "          document.querySelector('#df-bdad7675-e2a4-4642-b8fa-160f8c877312 button.colab-df-convert');\n",
              "        buttonEl.style.display =\n",
              "          google.colab.kernel.accessAllowed ? 'block' : 'none';\n",
              "\n",
              "        async function convertToInteractive(key) {\n",
              "          const element = document.querySelector('#df-bdad7675-e2a4-4642-b8fa-160f8c877312');\n",
              "          const dataTable =\n",
              "            await google.colab.kernel.invokeFunction('convertToInteractive',\n",
              "                                                     [key], {});\n",
              "          if (!dataTable) return;\n",
              "\n",
              "          const docLinkHtml = 'Like what you see? Visit the ' +\n",
              "            '<a target=\"_blank\" href=https://colab.research.google.com/notebooks/data_table.ipynb>data table notebook</a>'\n",
              "            + ' to learn more about interactive tables.';\n",
              "          element.innerHTML = '';\n",
              "          dataTable['output_type'] = 'display_data';\n",
              "          await google.colab.output.renderOutput(dataTable, element);\n",
              "          const docLink = document.createElement('div');\n",
              "          docLink.innerHTML = docLinkHtml;\n",
              "          element.appendChild(docLink);\n",
              "        }\n",
              "      </script>\n",
              "    </div>\n",
              "  </div>\n",
              "  "
            ]
          },
          "metadata": {},
          "execution_count": 63
        }
      ]
    },
    {
      "cell_type": "code",
      "source": [
        "display_df['currency_symbol'].value_counts()"
      ],
      "metadata": {
        "colab": {
          "base_uri": "https://localhost:8080/"
        },
        "id": "hJ4hdKTao_t_",
        "outputId": "bdb84d42-2a27-4e59-ceb7-c29e0ec3eb11"
      },
      "execution_count": null,
      "outputs": [
        {
          "output_type": "execute_result",
          "data": {
            "text/plain": [
              "$      16139\n",
              "£       2498\n",
              "€       1618\n",
              "kr       283\n",
              "Fr        94\n",
              "Name: currency_symbol, dtype: int64"
            ]
          },
          "metadata": {},
          "execution_count": 64
        }
      ]
    },
    {
      "cell_type": "code",
      "source": [
        "display_df[display_df['currency_symbol']=='$']['currency'].value_counts()"
      ],
      "metadata": {
        "colab": {
          "base_uri": "https://localhost:8080/"
        },
        "id": "U2BAFTN7pF-G",
        "outputId": "f17e479e-88ec-4b38-fa1b-7be7e5493e0c"
      },
      "execution_count": null,
      "outputs": [
        {
          "output_type": "execute_result",
          "data": {
            "text/plain": [
              "USD    14141\n",
              "CAD     1098\n",
              "AUD      674\n",
              "NZD      111\n",
              "MXN       55\n",
              "HKD       35\n",
              "SGD       25\n",
              "Name: currency, dtype: int64"
            ]
          },
          "metadata": {},
          "execution_count": 67
        }
      ]
    },
    {
      "cell_type": "code",
      "source": [],
      "metadata": {
        "id": "nZWdZCN_pnqb"
      },
      "execution_count": null,
      "outputs": []
    }
  ]
}